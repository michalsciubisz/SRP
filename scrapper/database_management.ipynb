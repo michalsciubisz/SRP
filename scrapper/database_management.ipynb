{
 "cells": [
  {
   "cell_type": "markdown",
   "id": "b17213dd",
   "metadata": {},
   "source": [
    "Importing libraries"
   ]
  },
  {
   "cell_type": "code",
   "execution_count": 1,
   "id": "4ab29ed6",
   "metadata": {},
   "outputs": [],
   "source": [
    "from sqlalchemy import create_engine, Column, String, Text, MetaData, Table, Integer\n",
    "from sqlalchemy.orm import declarative_base, sessionmaker\n",
    "import csv"
   ]
  },
  {
   "cell_type": "markdown",
   "id": "e18e0e99",
   "metadata": {},
   "source": [
    "Connecting to db"
   ]
  },
  {
   "cell_type": "code",
   "execution_count": 2,
   "id": "ddc5cb5b",
   "metadata": {},
   "outputs": [],
   "source": [
    "username = 'michals2'\n",
    "password = 'Nv1VZRmuTxRvJn3u'\n",
    "host = 'mysql.agh.edu.pl'\n",
    "port = 3306\n",
    "database = 'michals2'\n",
    "\n",
    "connection_string = f'mysql+pymysql://{username}:{password}@{host}:{port}/{database}'"
   ]
  },
  {
   "cell_type": "code",
   "execution_count": 3,
   "id": "d2d82403",
   "metadata": {},
   "outputs": [],
   "source": [
    "engine = create_engine(connection_string, echo=True)"
   ]
  },
  {
   "cell_type": "markdown",
   "id": "8de05d60",
   "metadata": {},
   "source": [
    "Don't use unless you want to create database entirely"
   ]
  },
  {
   "cell_type": "code",
   "execution_count": 4,
   "id": "cc443091",
   "metadata": {},
   "outputs": [],
   "source": [
    "Base = declarative_base()\n",
    "\n",
    "class Perfume(Base):\n",
    "    __tablename__ = 'Perfumes_v2'\n",
    "\n",
    "    id = Column(Integer, primary_key=True, autoincrement=True)  # ✅ Primary Key\n",
    "    Name = Column(String(255))\n",
    "    Designer = Column(String(255))\n",
    "    URL = Column(String(255))\n",
    "    Gender = Column(Text)\n",
    "    Accords = Column(Text)\n",
    "    Description = Column(Text)\n",
    "    ProsAndCons = Column(Text)\n",
    "    TopNotes = Column(Text)\n",
    "    MiddleNotes = Column(Text)\n",
    "    BaseNotes = Column(Text)\n",
    "    Longevity = Column(Text)\n",
    "    Sillage = Column(Text)"
   ]
  },
  {
   "cell_type": "code",
   "execution_count": 5,
   "id": "9c2c7d82",
   "metadata": {},
   "outputs": [
    {
     "name": "stdout",
     "output_type": "stream",
     "text": [
      "2025-05-13 11:48:13,379 INFO sqlalchemy.engine.Engine SELECT DATABASE()\n",
      "2025-05-13 11:48:13,379 INFO sqlalchemy.engine.Engine [raw sql] {}\n",
      "2025-05-13 11:48:13,403 INFO sqlalchemy.engine.Engine SELECT @@sql_mode\n",
      "2025-05-13 11:48:13,404 INFO sqlalchemy.engine.Engine [raw sql] {}\n",
      "2025-05-13 11:48:13,420 INFO sqlalchemy.engine.Engine SELECT @@lower_case_table_names\n",
      "2025-05-13 11:48:13,421 INFO sqlalchemy.engine.Engine [raw sql] {}\n",
      "2025-05-13 11:48:13,448 INFO sqlalchemy.engine.Engine BEGIN (implicit)\n",
      "2025-05-13 11:48:13,449 INFO sqlalchemy.engine.Engine DESCRIBE `michals2`.`Perfumes_v2`\n",
      "2025-05-13 11:48:13,449 INFO sqlalchemy.engine.Engine [raw sql] {}\n",
      "2025-05-13 11:48:13,468 INFO sqlalchemy.engine.Engine \n",
      "CREATE TABLE `Perfumes_v2` (\n",
      "\tid INTEGER NOT NULL AUTO_INCREMENT, \n",
      "\t`Name` VARCHAR(255), \n",
      "\t`Designer` VARCHAR(255), \n",
      "\t`URL` VARCHAR(255), \n",
      "\t`Gender` TEXT, \n",
      "\t`Accords` TEXT, \n",
      "\t`Description` TEXT, \n",
      "\t`ProsAndCons` TEXT, \n",
      "\t`TopNotes` TEXT, \n",
      "\t`MiddleNotes` TEXT, \n",
      "\t`BaseNotes` TEXT, \n",
      "\t`Longevity` TEXT, \n",
      "\t`Sillage` TEXT, \n",
      "\tPRIMARY KEY (id)\n",
      ")\n",
      "\n",
      "\n",
      "2025-05-13 11:48:13,469 INFO sqlalchemy.engine.Engine [no key 0.00086s] {}\n",
      "2025-05-13 11:48:13,487 INFO sqlalchemy.engine.Engine COMMIT\n"
     ]
    }
   ],
   "source": [
    "Base.metadata.create_all(engine)\n",
    "\n",
    "Session = sessionmaker(bind=engine)\n",
    "session = Session()"
   ]
  },
  {
   "cell_type": "markdown",
   "id": "3830750f",
   "metadata": {},
   "source": [
    "Run from this part"
   ]
  },
  {
   "cell_type": "code",
   "execution_count": 6,
   "id": "307eb5b5",
   "metadata": {},
   "outputs": [],
   "source": [
    "tsv_file_path = 'fragrance_datav3.tsv'"
   ]
  },
  {
   "cell_type": "code",
   "execution_count": 7,
   "id": "bdea03a3",
   "metadata": {},
   "outputs": [
    {
     "name": "stdout",
     "output_type": "stream",
     "text": [
      "2025-05-13 11:48:23,071 INFO sqlalchemy.engine.Engine BEGIN (implicit)\n",
      "2025-05-13 11:48:23,135 INFO sqlalchemy.engine.Engine INSERT INTO `Perfumes_v2` (`Name`, `Designer`, `URL`, `Gender`, `Accords`, `Description`, `ProsAndCons`, `TopNotes`, `MiddleNotes`, `BaseNotes`, `Longevity`, `Sillage`) VALUES (%(Name__0)s, %(Designer__0)s, %(URL__0)s, %(Gender__0)s, %(Accords__0)s,  ... 226558 characters truncated ... __999)s, %(Longevity__999)s, %(Sillage__999)s) RETURNING `Perfumes_v2`.id, `Perfumes_v2`.id AS id__1\n",
      "2025-05-13 11:48:23,135 INFO sqlalchemy.engine.Engine [generated in 0.01892s (insertmanyvalues) 1/4 (ordered)] {'BaseNotes__0': '[]', 'Description__0': 'Unicorn Milkshake by The Dua Brand is a Floral Fruity Gourmand fragrance for women and men. This is a new fragrance. Unicorn Milkshake was launched i ... (942 characters truncated) ... ly. Overall, the Unicorn Milkshake is a gourmand fragrance that smells like a delicious milkshake, making it perfect for those who love sweet scents.', 'ProsAndCons__0': '', 'Longevity__0': '', 'Gender__0': 'women and men', 'Designer__0': 'The Dua Brand', 'Name__0': 'Unicorn Milkshake', 'Accords__0': 'sweet (100%); vanilla (58.1656%); lactonic (55.6806%); powdery (47.3964%)', 'TopNotes__0': '[]', 'Sillage__0': '', 'MiddleNotes__0': '[]', 'URL__0': 'https://www.fragrantica.com/perfume/The-Dua-Brand/Unicorn-Milkshake-80878.html', 'BaseNotes__1': '[]', 'Description__1': \"Princeless Princess by The Dua Brand is a Oriental fragrance for women and men. Princeless Princess was launched in 2021.Princeless Princess by The D ... (1700 characters truncated) ... monious fusion of fragrant elements, Princeless Princess belongs to the olfactory group of 'Oriental Vanilla', aptly capturing its enchanting allure.\", 'ProsAndCons__1': '', 'Longevity__1': '', 'Gender__1': 'women and men', 'Designer__1': 'The Dua Brand', 'Name__1': 'Princeless Princess', 'Accords__1': 'fresh (100%); fresh spicy (82.6144%); sweet (80.3266%); green (78.497%); white floral (75.7515%); fruity (65.6865%); powdery (65.6865%); vanilla (64.0852%); amber (62.0262%); citrus (54.7056%)', 'TopNotes__1': '[]', 'Sillage__1': '', 'MiddleNotes__1': '[]', 'URL__1': 'https://www.fragrantica.com/perfume/The-Dua-Brand/Princeless-Princess-86485.html', 'BaseNotes__2': '[]', 'Description__2': 'White Milk by The Dua Brand is a fragrance for women and men. This is a new fragrance. White Milk was launched in 2024.White Milk is an inspired expr ... (370 characters truncated) ... s the base to build upon the sweetness and the white milk accord. White Milk is designed to bring about a sense of warmth and comforting familiarity.', 'ProsAndCons__2': '', 'Longevity__2': '', 'Gender__2': 'women and men', 'Designer__2': 'The Dua Brand', 'Name__2': 'White Milk', 'Accords__2': 'vanilla (100%); musky (86.7568%); sweet (79.1892%); powdery (76.3512%); caramel (67.8376%); honey (48.9188%); balsamic (44.1892%)', 'TopNotes__2': '[]', 'Sillage__2': '', 'MiddleNotes__2': '[]', 'URL__2': 'https://www.fragrantica.com/perfume/The-Dua-Brand/White-Milk-96280.html', 'BaseNotes__3': '[]', 'Description__3': 'Popped Cherry by The Dua Brand is a Aromatic Fruity fragrance for women and men. Popped Cherry was launched in 2018.', 'ProsAndCons__3': '', 'Longevity__3': '', 'Gender__3': 'women and men', 'Designer__3': 'The Dua Brand', 'Name__3': 'Popped Cherry', 'Accords__3': 'almond (100%); sweet (82.4996%); vanilla (79%); woody (72.0001%); nutty (72.0001%); fruity (64.9998%); amber (64.9998%); aromatic (59.8422%); warm spicy (54.3158%); cherry (52.1051%)', 'TopNotes__3': '[]', 'Sillage__3': '', 'MiddleNotes__3': '[]', 'URL__3': 'https://www.fragrantica.com/perfume/The-Dua-Brand/Popped-Cherry-65862.html', 'BaseNotes__4': '[]', 'Description__4': 'Angelic Elixir by The Dua Brand is a Aromatic Spicy fragrance for women and men. Angelic Elixir was launched in 2021.' ... 11900 parameters truncated ... 'MiddleNotes__995': \"['Mate', 'Jasmine Sambac', 'Orange Blossom', 'Freesia']\", 'URL__995': 'https://www.fragrantica.com/perfume/By-Kilian/Imperial-Tea-2024-94042.html', 'BaseNotes__996': '[]', 'Description__996': '', 'ProsAndCons__996': \"['Realistic jasmine tea scent', 'Photorealistic jasmine tea fragrance', 'Pure and natural smelling', 'Tea smell is not fake', 'Easy to wear all year  ... (240 characters truncated) ... ty', 'Scent can be suffocating at first spray', 'Lacks diversity in fragrance notes', 'Lacks depth', 'Not recommended for men due to feminine notes']\", 'Longevity__996': '', 'Gender__996': 'women and men', 'Designer__996': 'By Kilian', 'Name__996': 'Imperial Tea', 'Accords__996': 'white floral (100%); green (76.6868%); fresh (60.3435%); ozonic (45.5623%)', 'TopNotes__996': \"['Tea', 'Jasmine']\", 'Sillage__996': '', 'MiddleNotes__996': '[]', 'URL__996': 'https://www.fragrantica.com/perfume/By-Kilian/Imperial-Tea-23896.html', 'BaseNotes__997': \"['Milk', 'Sugar', 'Vanilla']\", 'Description__997': '', 'ProsAndCons__997': \"['Magically delicious gourmand scent', 'Lovely fall and winter scent', 'Intertwining notes create a sweet and fresh twist', 'Lasts the whole day', 'G ... (206 characters truncated) ... ing for some', 'Intimate sillage', 'Mismatched notes may not work for everyone', 'May turn sour on some skin types', 'Cat urine like smell for some']\", 'Longevity__997': '', 'Gender__997': 'women and men', 'Designer__997': 'By Kilian', 'Name__997': 'Kissing Burns 6 4 Calories A Minute Wanna Workout', 'Accords__997': 'vanilla (100%); lactonic (99.0009%); sweet (95.8916%); white floral (76.49%); green (67.8749%);  (57.8941%);  (45.4558%);  (45.3336%)', 'TopNotes__997': \"['Bergamot']\", 'Sillage__997': '', 'MiddleNotes__997': \"['Lily-of-the-Valley', 'Green Notes', 'Rose']\", 'URL__997': 'https://www.fragrantica.com/perfume/By-Kilian/Kissing-Burns-6-4-Calories-A-Minute-Wanna-Workout-50496.html', 'BaseNotes__998': \"['Vanilla', 'Sandalwood', 'Cedar', 'Orris', 'Amberwood', 'Violet']\", 'Description__998': '', 'ProsAndCons__998': \"['Interesting sweet and wood scent', 'Good for special occasions or date night', 'Satisfies sweet tooth without being cloying', 'Unique, seductive an ... (295 characters truncated) ... d sandalwood', 'Overwhelming sweetness on some skin types', 'Synthetic and harsh notes', 'Very strong projection', 'Chaotic and poorly mixed scents']\", 'Longevity__998': '', 'Gender__998': 'women and men', 'Designer__998': 'By Kilian', 'Name__998': 'Let s Settle This Argument Like Adults In The Bedroom Naked', 'Accords__998': 'woody (100%); powdery (70.7588%); fruity (62.3165%); vanilla (57.0818%); sweet (55.6142%);  (46.5214%)', 'TopNotes__998': \"['Bergamot', 'Lemon']\", 'Sillage__998': '', 'MiddleNotes__998': \"['Fig Nectar', 'Green Notes', 'Hedione']\", 'URL__998': 'https://www.fragrantica.com/perfume/By-Kilian/Let-s-Settle-This-Argument-Like-Adults-In-The-Bedroom-Naked-50498.html', 'BaseNotes__999': '[]', 'Description__999': '', 'ProsAndCons__999': '', 'Longevity__999': '', 'Gender__999': 'women', 'Designer__999': 'By Kilian', 'Name__999': 'Princess Eau Fraiche', 'Accords__999': 'citrus (100%); fresh spicy (97.3006%); sweet (65.9897%); green (63.7404%); fresh (63.5602%); powdery (58.7016%); aromatic (48.6248%)', 'TopNotes__999': \"['Bergamot', 'Green Tea', 'Marshmallow', 'Ginger']\", 'Sillage__999': '', 'MiddleNotes__999': '[]', 'URL__999': 'https://www.fragrantica.com/perfume/By-Kilian/Princess-Eau-Fraiche-82157.html'}\n",
      "2025-05-13 11:48:24,010 INFO sqlalchemy.engine.Engine INSERT INTO `Perfumes_v2` (`Name`, `Designer`, `URL`, `Gender`, `Accords`, `Description`, `ProsAndCons`, `TopNotes`, `MiddleNotes`, `BaseNotes`, `Longevity`, `Sillage`) VALUES (%(Name__0)s, %(Designer__0)s, %(URL__0)s, %(Gender__0)s, %(Accords__0)s,  ... 226558 characters truncated ... __999)s, %(Longevity__999)s, %(Sillage__999)s) RETURNING `Perfumes_v2`.id, `Perfumes_v2`.id AS id__1\n",
      "2025-05-13 11:48:24,010 INFO sqlalchemy.engine.Engine [insertmanyvalues 2/4 (ordered)] {'BaseNotes__0': \"['Musk', 'Cedar', 'Vanilla']\", 'Description__0': '', 'ProsAndCons__0': '[\\'Great for hot and humid weather\\', \\'Chic and breezy vibe\\', \\'Feminine and sexy scent\\', \\'Fresh and fruity notes\\', \\'Versatile summer fragrance ... (276 characters truncated) ...  people\\', \\'Not suitable for colder seasons or occasions\\', \\'May smell like wet dog on some skin types\\', \\'Rose scent may overpower other notes\\']', 'Longevity__0': '', 'Gender__0': 'women', 'Designer__0': 'By Kilian', 'Name__0': 'Good Girl Gone Bad Eau Fraiche', 'Accords__0': 'white floral (100%); aquatic (65.3196%); musky (56.6363%); tuberose (52.9071%); fresh (51.8151%);  (48.7252%);  (46.4877%)', 'TopNotes__0': \"['Tunisian Orange Blossom', 'Turkish Rose', 'Moroccan Rose', 'Osmanthus', 'Bergamot', 'Lemon', 'Mandarin']\", 'Sillage__0': '', 'MiddleNotes__0': \"['Watery Notes', 'Egyptian Jasmine', 'Tuberose', 'Lily of the Valley', 'Narcissus']\", 'URL__0': 'https://www.fragrantica.com/perfume/By-Kilian/Good-Girl-Gone-Bad-Eau-Fraiche-59813.html', 'BaseNotes__1': \"['Cedar', 'Green Sap', 'Cashmere Wood', 'Musk']\", 'Description__1': '', 'ProsAndCons__1': \"['Perfect for formal hot summer days', 'Clean and classic drydown', 'Effervescent and sparkling opening', 'Smooth, fresh, and elegant fragrance', 'Bo ... (378 characters truncated) ... Not everyone likes the petigrain and neroli notes', 'Some users may find it too sweet or synthetic', 'May not be suitable for all gender identities']\", 'Longevity__1': '', 'Gender__1': 'women and men', 'Designer__1': 'By Kilian', 'Name__1': 'Kologne Shield of protection', 'Accords__1': 'citrus (100%); aromatic (79.7126%); woody (73.4291%); fresh spicy (69.4443%); green (67.203%)', 'TopNotes__1': \"['Green Mandarin', 'Bitter Orange', 'Mint', 'Lime', 'Eucalyptus']\", 'Sillage__1': '', 'MiddleNotes__1': \"['Rosemary', 'Petitgrain', 'Neroli', 'Ginger', 'Galbanum']\", 'URL__1': 'https://www.fragrantica.com/perfume/By-Kilian/Kologne-Shield-of-protection-73317.html', 'BaseNotes__2': \"['Marshmallow', 'White Musk', 'Vanilla', 'Labdanum']\", 'Description__2': 'Love Eau Fraîche by By Kilian is a Floral fragrance for women. Love Eau Fraîche was launched in 2019. The nose behind this fragrance is Calice Becker ... (676 characters truncated) ... nd musk. Top notes: neroli, petitgrainHeart: peony, freesia, jasmineBase: marshmalow, white muskThe fragrance is available as a 50 ml Eau de Parfum. ', 'ProsAndCons__2': '', 'Longevity__2': '', 'Gender__2': 'women', 'Designer__2': 'By Kilian', 'Name__2': 'Love Eau Fraiche', 'Accords__2': 'white floral (100%); floral (98.6363%); sweet (91.0858%); powdery (84.4266%); citrus (80.8349%); fresh (74.2546%); musky (67.9625%); green (58.4458%); aromatic (54.4606%); fresh spicy (49.5057%)', 'TopNotes__2': \"['Neroli', 'Petitgrain', 'Orange Blossom']\", 'Sillage__2': '', 'MiddleNotes__2': \"['Peony', 'Jasmine', 'Freesia', 'Orris Root', 'Rose']\", 'URL__2': 'https://www.fragrantica.com/perfume/By-Kilian/Love-Eau-Fraiche-54327.html', 'BaseNotes__3': \"['Cedar', 'Amberwood']\", 'Description__3': '', 'ProsAndCons__3': \"['Fun and fresh scent', 'Great for lovers of cologne', 'Long-lasting on skin', 'Perfect for summer', 'Well-blended notes', 'Captures a beautiful summ ... (166 characters truncated) ... ive undertones to some people', 'Mainstream and simple for a niche fragrance', 'Smells like a cheap bubblegum', 'Strong sillage', 'Not truly unisex']\", 'Longevity__3': '', 'Gender__3': 'women and men', 'Designer__3': 'By Kilian', 'Name__3': 'Bad Boys Are No Good But Good Boys Are No Fun', 'Accords__3': 'coca-cola (100%); warm spicy (83.0053%); woody (77.6128%); citrus (69.5371%); cinnamon (54.4998%);  (51.6158%);  (48.0186%);  (45.9703%);  (44.4926%)', 'TopNotes__3': \"['Coca-Cola', 'Lime']\", 'Sillage__3': '', 'MiddleNotes__3': \"['Cinnamon', 'Apple', 'Nutmeg']\", 'URL__3': 'https://www.fragrantica.com/perfume/By-Kilian/Bad-Boys-Are-No-Good-But-Good-Boys-Are-No-Fun-50495.html', 'BaseNotes__4': '[]', 'Description__4': '' ... 11900 parameters truncated ... 'MiddleNotes__995': \"['Hibiscus', 'Orange Blossom', 'Jasmine', 'Lily of the Valley', 'Violet', 'Rose Petals']\", 'URL__995': 'https://www.fragrantica.com/perfume/Natura/Manga-Rosa-e-Agua-de-Coco-63430.html', 'BaseNotes__996': \"['Amber', 'Benzoin', 'Tonka', 'Praline', 'Musk', 'Moss']\", 'Description__996': 'Homem Elo by Natura is a Woody Aromatic fragrance for men. This is a new fragrance. Homem Elo was launched in 2023. The nose behind this fragrance is ... (172 characters truncated) ... notes are Vetiver, Cedar, Patchouli, Cypress, Cypriol Oil or Nagarmotha and Sandalwood; base notes are Amber, Benzoin, Tonka, Praline, Musk and Moss.', 'ProsAndCons__996': '', 'Longevity__996': '', 'Gender__996': 'men', 'Designer__996': 'Natura', 'Name__996': 'Homem Elo', 'Accords__996': 'aromatic (100%); woody (91.769%); fresh spicy (77.044%); lavender (74.8039%); warm spicy (67.5294%); amber (61.4887%); earthy (59.2485%); sweet (50.4889%); soft spicy (48.3999%); citrus (44.8507%)', 'TopNotes__996': \"['Lavender', 'Lavender Extract', 'Black Pepper', 'Storax', 'Clary Sage', 'Cardamom', 'Pink Pepper', 'Pataqueira', 'Bergamot', 'Citron Leaf', 'Grapefruit']\", 'Sillage__996': '', 'MiddleNotes__996': \"['Vetiver', 'Cedar', 'Patchouli', 'Cypress', 'Cypriol Oil or Nagarmotha', 'Sandalwood']\", 'URL__996': 'https://www.fragrantica.com/perfume/Natura/Homem-Elo-81876.html', 'BaseNotes__997': \"['Copahu Balm', 'Cedar', 'Breu-Branco']\", 'Description__997': 'Ryo Vivo by Natura is a Floral Aquatic fragrance for women and men. This is a new fragrance. Ryo Vivo was launched in 2024. Ryo Vivo was created by V ... (313 characters truncated) ... io-essence of the jarana flower that meanders through the serene and deep waters and encounters, along the way, other smells: wood, leaves and roots.', 'ProsAndCons__997': '', 'Longevity__997': '', 'Gender__997': 'women and men', 'Designer__997': 'Natura', 'Name__997': 'Ryo Vivo', 'Accords__997': 'citrus (100%); aquatic (65.2776%); white floral (58.7447%); aromatic (50.9053%); sweet (50.7747%); rose (45.0257%); fresh spicy (44.7643%)', 'TopNotes__997': \"['Orange', 'Pomelo', 'Priprioca', 'Pataqueira']\", 'Sillage__997': '', 'MiddleNotes__997': \"['Head Space Waterfall', 'Orange Blossom', 'Jarana Flower', 'Rose', 'Jasmine']\", 'URL__997': 'https://www.fragrantica.com/perfume/Natura/Ryo-Vivo-95474.html', 'BaseNotes__998': \"['Palo Santo', 'Breu-Branco', 'Oakmoss', 'Tonka Bean', 'Vetiver', 'Cashmeran']\", 'Description__998': 'Biografia Assinatura by Natura is a Woody Aromatic fragrance for men. Biografia Assinatura was launched in 2019. The nose behind this fragrance is Ve ... (71 characters truncated) ... nd Violet; middle notes are Rosemary, Lavender, Sage and Leather; base notes are Palo Santo, Breu-Branco, Oakmoss, Tonka Bean, Vetiver and Cashmeran.', 'ProsAndCons__998': '', 'Longevity__998': '', 'Gender__998': 'men', 'Designer__998': 'Natura', 'Name__998': 'Biografia Assinatura', 'Accords__998': 'woody (100%); aromatic (94.9289%); fresh spicy (77.1264%); citrus (60.151%); mossy (52.0619%); earthy (50.4071%); lavender (47.159%)', 'TopNotes__998': \"['Black Pepper', 'Pink Pepper', 'Mandarin Orange', 'Violet']\", 'Sillage__998': '', 'MiddleNotes__998': \"['Rosemary', 'Lavender', 'Sage', 'Leather']\", 'URL__998': 'https://www.fragrantica.com/perfume/Natura/Biografia-Assinatura-58312.html', 'BaseNotes__999': \"['Musk', 'Amber', 'Patchouli', 'Vanilla']\", 'Description__999': 'Essencial Ato by Natura is a Floral Fruity fragrance for women and men. This is a new fragrance. Essencial Ato was launched in 2023. Essencial Ato wa ... (171 characters truncated) ... se, Redwood Flower, Lily-of-the-Valley, Solar Notes, Jasmine Sambac, Osmanthus and Orange Blossom; base notes are Musk, Amber, Patchouli and Vanilla.', 'ProsAndCons__999': '', 'Longevity__999': '', 'Gender__999': 'women and men', 'Designer__999': 'Natura', 'Name__999': 'Essencial Ato', 'Accords__999': 'fruity (100%); citrus (72.0445%); fresh (70.5789%); aromatic (69.1728%); white floral (68.8583%); sweet (66.3416%); rose (64.0469%); earthy (56.5532%); soft spicy (55.9055%); green (53.9514%)', 'TopNotes__999': \"['Priprioca', 'Raspberry', 'Mandarin Orange', 'Watery Notes', 'Apple', 'Pink Pepper', 'Lemon', 'Cassis']\", 'Sillage__999': '', 'MiddleNotes__999': \"['Rose', 'Redwood Flower', 'Lily-of-the-Valley', 'Solar Notes', 'Jasmine Sambac', 'Osmanthus', 'Orange Blossom']\", 'URL__999': 'https://www.fragrantica.com/perfume/Natura/Essencial-Ato-80079.html'}\n",
      "2025-05-13 11:48:24,707 INFO sqlalchemy.engine.Engine INSERT INTO `Perfumes_v2` (`Name`, `Designer`, `URL`, `Gender`, `Accords`, `Description`, `ProsAndCons`, `TopNotes`, `MiddleNotes`, `BaseNotes`, `Longevity`, `Sillage`) VALUES (%(Name__0)s, %(Designer__0)s, %(URL__0)s, %(Gender__0)s, %(Accords__0)s,  ... 226558 characters truncated ... __999)s, %(Longevity__999)s, %(Sillage__999)s) RETURNING `Perfumes_v2`.id, `Perfumes_v2`.id AS id__1\n",
      "2025-05-13 11:48:24,707 INFO sqlalchemy.engine.Engine [insertmanyvalues 3/4 (ordered)] {'BaseNotes__0': \"['Patchouli', 'Caramel', 'Tonka Bean', 'Vanilla', 'Amber', 'Sandalwood', 'Cedar', 'Musk']\", 'Description__0': 'Kriska Drama by Natura is a Oriental Vanilla fragrance for women. Kriska Drama was launched in 2017. Kriska Drama was created by Verônica Kato and Na ... (83 characters truncated) ... iddle notes are Praline, Jasmine, White Flowers and Peony; base notes are Patchouli, Caramel, Tonka Bean, Vanilla, Amber, Sandalwood, Cedar and Musk.', 'ProsAndCons__0': '[\\'Great value for price\\', \\'Good projection\\', \\'Beautiful caramel note\\', \\'Great longevity\\', \\'One of the best gourmands from brand\\', \\'Belongs ... (373 characters truncated) ... egative comparison to Vick 44\\', \"Very sweet, may not be everyone\\'s preference\", \\'May not be a unique scent, similar to other popular fragrances\\']', 'Longevity__0': 'very weak: 4%; weak: 10%; moderate: 48%; long lasting: 28%; eternal: 10%', 'Gender__0': 'women', 'Designer__0': 'Natura', 'Name__0': 'Kriska Drama', 'Accords__0': 'sweet (100%); vanilla (68.8281%); fruity (65.3641%); woody (65.2083%); patchouli (61.7992%); amber (56.7315%); caramel (56.576%); warm spicy (53.8723%); powdery (51.4439%); balsamic (49.5928%)', 'TopNotes__0': \"['Red Fruits', 'Nectarine', 'Pear', 'Apple', 'Mandarin Orange']\", 'Sillage__0': 'very weak: 13%; intimate: 48%; strong: 28%; enormous: 11%', 'MiddleNotes__0': \"['Praline', 'Jasmine', 'White Flowers', 'Peony']\", 'URL__0': 'https://www.fragrantica.com/perfume/Natura/Kriska-Drama-48721.html', 'BaseNotes__1': \"['Vanilla', 'Amber', 'Sandalwood']\", 'Description__1': 'Humor 5 by Natura is a Floral Fruity fragrance for women. Humor 5 was launched in 2009. The nose behind this fragrance is Magali Lara. Top notes are Cherry, Raspberry and Big Strawberry; middle notes are Jasmine, Heliotrope and Lily-of-the-Valley; base notes are Vanilla, Amber and Sandalwood.', 'ProsAndCons__1': \"['Cherry scent', 'Hint of red berries', 'Vanilla notes', 'Suitable for casual occasions', 'Not bad', 'Mix of flowers close to the skin', 'Attractive  ... (156 characters truncated) ... evity', 'Low-quality fragrance', 'Not suitable for formal occasions', 'Makes some people sick', 'Not impressive', 'May be too feminine for some men']\", 'Longevity__1': 'very weak: 7%; weak: 22%; moderate: 53%; long lasting: 16%; eternal: 2%', 'Gender__1': 'women', 'Designer__1': 'Natura', 'Name__1': 'Humor 5', 'Accords__1': 'sweet (100%); fruity (95.5695%); cherry (83.2987%); vanilla (61.7108%); powdery (53.7361%); white floral (52.1519%); amber (45.305%)', 'TopNotes__1': \"['Cherry', 'Raspberry', 'Big Strawberry']\", 'Sillage__1': 'very weak: 27%; intimate: 56%; strong: 13%; enormous: 4%', 'MiddleNotes__1': \"['Jasmine', 'Heliotrope', 'Lily-of-the-Valley']\", 'URL__1': 'https://www.fragrantica.com/perfume/Natura/Humor-5-26115.html', 'BaseNotes__2': \"['Woodsy Notes']\", 'Description__2': 'Ameixa e Flor de Baunilha by Natura is a Floral Fruity fragrance for women. Ameixa e Flor de Baunilha was launched in 2021. Ameixa e Flor de Baunilha was created by Verônica Kato and Sébastien Cresp. Top note is Plum; middle notes are Vanilla Flower and White Flowers; base note is Woodsy Notes.', 'ProsAndCons__2': '', 'Longevity__2': '', 'Gender__2': 'women', 'Designer__2': 'Natura', 'Name__2': 'Ameixa e Flor de Baunilha', 'Accords__2': 'vanilla (100%); fruity (84.0911%); sweet (71.0456%); white floral (69.2426%); woody (54.3941%); powdery (51%)', 'TopNotes__2': \"['Plum']\", 'Sillage__2': '', 'MiddleNotes__2': \"['Vanilla Flower', 'White Flowers']\", 'URL__2': 'https://www.fragrantica.com/perfume/Natura/Ameixa-e-Flor-de-Baunilha-67415.html', 'BaseNotes__3': \"['Cedar', 'Musk', 'Patchouli', 'Moss', 'Oily Notes']\", 'Description__3': 'Essencial Exclusivo by Natura is a Woody Aromatic fragrance for men. Essencial Exclusivo was launched in 2010. Essencial Exclusivo was created by Mar ... (453 characters truncated) ... green apple, ginger, basil and cognac. Heart: geranium, lavender, artemisia and pink pepper. Base: patchouli, cedar and musk.Available as 100 ml EDP.', 'ProsAndCons__3': \"['Perfect for any nighttime occasion', 'Stands out in a crowd', 'Sweet, boozy, and spicy fragrance', 'Unique and different from other popular fragran ... (330 characters truncated) ... , 'Some notes, such as guarana, may not be listed or easily detectable', 'Notes may not be well-evolved or distinctive', 'Too sweet for some people']\", 'Longevity__3': 'very weak: 3%; weak: 12%; moderate: 55%; long lasting: 26%; eternal: 4%', 'Gender__3': 'men', 'Designer__3': 'Natura', 'Name__3': 'Essencial Exclusivo', 'Accords__3': 'woody (100%); warm spicy (97.6425%); fresh spicy (87.774%); aromatic (82.6916%); fruity (64.1771%); fresh (62.5228%); musky (58.5115%); herbal (57.4246%); green (52.6622%); soft spicy (51.695%)', 'TopNotes__3': \"['Cognac', 'Granny Smith apple', 'Cardamom', 'Ginger', 'Basil']\", 'Sillage__3': 'very weak: 20%; intimate: 56%; strong: 20%; enormous: 4%', 'MiddleNotes__3': \"['Pink Pepper', 'Lavender', 'Geranium', 'Artemisia']\", 'URL__3': 'https://www.fragrantica.com/perfume/Natura/Essencial-Exclusivo-12099.html', 'BaseNotes__4': \"['Vanilla', 'Amber', 'Sandalwood', 'Almond', 'Musk', 'Chestnut', 'Honey', 'Chocolate', 'Cotton Candy', 'Nutella']\", 'Description__4': 'Cereja e Avelã by Natura is a Floral Fruity Gourmand fragrance for women. Cereja e Avelã was launched in 2014. The nose behind this fragrance is Verô ... (203 characters truncated) ... sia, Plum Blossom, Gardenia and Mango; base notes are Vanilla, Amber, Sandalwood, Almond, Musk, Chestnut, Honey, Chocolate, Cotton Candy and Nutella.' ... 11900 parameters truncated ... 'MiddleNotes__995': \"['Leather', 'Amber', 'Orange Blossom']\", 'URL__995': 'https://www.fragrantica.com/perfume/Al-Haramain-Perfumes/Amber-Oud-Black-Edition-83035.html', 'BaseNotes__996': \"['Musk', 'Amber', 'Cedar']\", 'Description__996': 'Portfolio Neroli Canvas by Al Haramain Perfumes is a Floral Woody Musk fragrance for women and men. Portfolio Neroli Canvas was launched in 2018. Top ... (203 characters truncated) ... s?Indulge yourself with the bittersweet and opulent floral, citric and woody fragrance, woven to evoke wonder and mystery.\" - a note from the brand. ', 'ProsAndCons__996': '[\\'Clean and refreshing scent\\', \\'High-quality packaging and heavy bottles\\', \\'Strong projection and longevity\\', \\'Comparable to high-end fragranc ... (497 characters truncated) ...  cause headaches or watery eyes for some individuals\\', \\'Synthetic concoction\\', \\'May not be authentic or may spoil easily when purchased online\\']', 'Longevity__996': 'very weak: 4%; weak: 5%; moderate: 20%; long lasting: 61%; eternal: 10%', 'Gender__996': 'women and men', 'Designer__996': 'Al Haramain Perfumes', 'Name__996': 'Portfolio Neroli Canvas', 'Accords__996': 'citrus (100%); white floral (65.6642%); aromatic (53.4183%); fresh spicy (49.8929%); green (45.6691%); fresh (44.9537%)', 'TopNotes__996': \"['Bergamot', 'Lemon', 'Petitgrain']\", 'Sillage__996': 'very weak: 6%; intimate: 42%; strong: 40%; enormous: 12%', 'MiddleNotes__996': \"['Neroli', 'Orange Blossom']\", 'URL__996': 'https://www.fragrantica.com/perfume/Al-Haramain-Perfumes/Portfolio-Neroli-Canvas-53265.html', 'BaseNotes__997': \"['Agarwood', 'Vanilla', 'Amber', 'Sandalwood', 'Guaiac Wood']\", 'Description__997': 'Detour Noir Intense by Al Haramain Perfumes is a Oriental Woody fragrance for women and men. This is a new fragrance. Detour Noir Intense was launche ... (575 characters truncated) ... ding depth and boldness. The base is robust, composed of vanilla, guaiac wood, agarwood, sandalwood, and amber, completing this aromatic masterpiece.', 'ProsAndCons__997': '', 'Longevity__997': '', 'Gender__997': 'women and men', 'Designer__997': 'Al Haramain Perfumes', 'Name__997': 'Detour Noir Intense', 'Accords__997': 'vanilla (100%); warm spicy (89.2379%); powdery (88.6764%); oud (86.1499%); woody (82.0321%); almond (80.5347%); aromatic (78.663%); amber (69.305%); fresh spicy (66.4974%); sweet (60.695%)', 'TopNotes__997': \"['Cardamom', 'Heliotrope', 'Pink Pepper', 'Bergamot']\", 'Sillage__997': '', 'MiddleNotes__997': \"['Bitter Almond', 'Lavender', 'Jasmine', 'Geranium']\", 'URL__997': 'https://www.fragrantica.com/perfume/Al-Haramain-Perfumes/Detour-Noir-Intense-92658.html', 'BaseNotes__998': \"['Heliotrope', 'Musk', 'Vanilla']\", 'Description__998': 'Junoon by Al Haramain Perfumes is a Floral fragrance for women. Junoon was launched in 2016. The nose behind this fragrance is Christian Carbonnel. T ... (7 characters truncated) ... s are Powdery Notes, Rose, Ylang-Ylang and Jasmine; middle notes are Iris, Tonka Bean, Rose and Jasmine; base notes are Heliotrope, Musk and Vanilla.', 'ProsAndCons__998': '', 'Longevity__998': '', 'Gender__998': 'women', 'Designer__998': 'Al Haramain Perfumes', 'Name__998': 'Junoon', 'Accords__998': 'powdery (100%); vanilla (60.931%); iris (52.8884%); sweet (44.0826%)', 'TopNotes__998': \"['Powdery Notes', 'Rose', 'Ylang-Ylang', 'Jasmine']\", 'Sillage__998': '', 'MiddleNotes__998': \"['Iris', 'Tonka Bean', 'Rose', 'Jasmine']\", 'URL__998': 'https://www.fragrantica.com/perfume/Al-Haramain-Perfumes/Junoon-42649.html', 'BaseNotes__999': \"['Woody Notes', 'Palisander Rosewood', 'Patchouli']\", 'Description__999': 'Junoon Oud by Al Haramain Perfumes is a Woody Floral Musk fragrance for women and men. This is a new fragrance. Junoon Oud was launched in 2023. Top notes are Grapefruit and Woody Notes; middle notes are Musk, Amber and Jasmine; base notes are Woody Notes, Palisander Rosewood and Patchouli.', 'ProsAndCons__999': '', 'Longevity__999': '', 'Gender__999': 'women and men', 'Designer__999': 'Al Haramain Perfumes', 'Name__999': 'Junoon Oud', 'Accords__999': 'citrus (100%); woody (95.8822%); musky (73.2351%); powdery (53.4705%); fresh spicy (51.0001%); amber (50.5883%); patchouli (50.5883%); warm spicy (44.4119%); aromatic (44.0001%)', 'TopNotes__999': \"['Grapefruit', 'Woody Notes']\", 'Sillage__999': '', 'MiddleNotes__999': \"['Musk', 'Amber', 'Jasmine']\", 'URL__999': 'https://www.fragrantica.com/perfume/Al-Haramain-Perfumes/Junoon-Oud-83048.html'}\n",
      "2025-05-13 11:48:25,442 INFO sqlalchemy.engine.Engine INSERT INTO `Perfumes_v2` (`Name`, `Designer`, `URL`, `Gender`, `Accords`, `Description`, `ProsAndCons`, `TopNotes`, `MiddleNotes`, `BaseNotes`, `Longevity`, `Sillage`) VALUES (%(Name__0)s, %(Designer__0)s, %(URL__0)s, %(Gender__0)s, %(Accords__0)s,  ... 6670 characters truncated ... tes__31)s, %(Longevity__31)s, %(Sillage__31)s) RETURNING `Perfumes_v2`.id, `Perfumes_v2`.id AS id__1\n",
      "2025-05-13 11:48:25,442 INFO sqlalchemy.engine.Engine [insertmanyvalues 4/4 (ordered)] {'BaseNotes__0': \"['Resins', 'Amber', 'Musk']\", 'Description__0': 'Amber Oud by Al Haramain Perfumes is a Oriental Woody fragrance for women and men. Amber Oud was launched in 2018. Top notes are Rosemary, Bergamot, Cedar and Lemon; middle notes are Spices, Cedar and Guaiac Wood; base notes are Resins, Amber and Musk.', 'ProsAndCons__0': '[\\'Great for winter or cold weather\\', \\'Cheaper than Interlude Man of Amouage\\', \\'Sweet resinous amber fragrance\\', \\'Dupes or clones of designer f ... (276 characters truncated) ... Overpowering scent in Amber Oud Gold\\', \\'Too sweet for some users\\', \\'Not similar to Interlude Man or Tom Ford TV\\', \\'Not listed on Fragrantica\\']', 'Longevity__0': 'very weak: 6%; weak: 7%; moderate: 21%; long lasting: 39%; eternal: 27%', 'Gender__0': 'women and men', 'Designer__0': 'Al Haramain Perfumes', 'Name__0': 'Amber Oud', 'Accords__0': 'amber (100%); woody (97.1491%); aromatic (76.2254%); citrus (71.7457%); fresh spicy (67.7235%); powdery (55.302%); warm spicy (53.5199%); musky (52.4001%); balsamic (45.2727%)', 'TopNotes__0': \"['Rosemary', 'Bergamot', 'Cedar', 'Lemon']\", 'Sillage__0': 'very weak: 10%; intimate: 26%; strong: 38%; enormous: 26%', 'MiddleNotes__0': \"['Spices', 'Cedar', 'Guaiac Wood']\", 'URL__0': 'https://www.fragrantica.com/perfume/Al-Haramain-Perfumes/Amber-Oud-51817.html', 'BaseNotes__1': \"['Vanilla', 'Brown sugar', 'Musk']\", 'Description__1': 'Tanasuk by Al Haramain Perfumes is a Oriental Vanilla fragrance for women and men. Top notes are Rose, Grenadine and Saffron; middle notes are Woody Notes, Amber and Jasmine; base notes are Vanilla, Brown sugar and Musk.', 'ProsAndCons__1': '', 'Longevity__1': '', 'Gender__1': 'women and men', 'Designer__1': 'Al Haramain Perfumes', 'Name__1': 'Tanasuk', 'Accords__1': 'sweet (100%); rose (88.3001%); vanilla (83.1091%); powdery (62.6043%); woody (61.1467%); amber (59.9486%); warm spicy (54.4381%); musky (54.3582%); fruity (50.6844%); floral (50.3653%)', 'TopNotes__1': \"['Rose', 'Grenadine', 'Saffron']\", 'Sillage__1': '', 'MiddleNotes__1': \"['Woody Notes', 'Amber', 'Jasmine']\", 'URL__1': 'https://www.fragrantica.com/perfume/Al-Haramain-Perfumes/Tanasuk-46253.html', 'BaseNotes__2': \"['Cacao Pod', 'Vanilla', 'Tonka Bean', 'Sandalwood']\", 'Description__2': 'Rawaa by Al Haramain Perfumes is a Oriental Vanilla fragrance for women. Rawaa was launched in 2018. Top notes are Almond and Coffee; middle notes are Jasmine, Tuberose and Orris; base notes are Cacao Pod, Vanilla, Tonka Bean and Sandalwood.', 'ProsAndCons__2': '[\\'Sweet and pleasant scent of cocoa, vanilla, almonds, coffee, tonka bean and white flowers\\', \\'Suitable for snuggling or close encounters\\', \\'Sof ... (538 characters truncated) ... ', \\'May not be suitable for formal occasions or outdoor events\\', \\'May be too weak for those who prefer strong scents\\', \\'Does not project well\\']', 'Longevity__2': 'very weak: 5%; weak: 12%; moderate: 36%; long lasting: 35%; eternal: 12%', 'Gender__2': 'women', 'Designer__2': 'Al Haramain Perfumes', 'Name__2': 'Rawaa', 'Accords__2': 'vanilla (100%); white floral (96.8006%); warm spicy (92.2741%); sweet (79.6907%); cacao (79.1639%); almond (77.2131%); powdery (65.5075%); tuberose (62.7757%); coffee (58.8741%); nutty (58.3279%)', 'TopNotes__2': \"['Almond', 'Coffee']\", 'Sillage__2': 'very weak: 12%; intimate: 40%; strong: 29%; enormous: 19%', 'MiddleNotes__2': \"['Jasmine', 'Tuberose', 'Orris']\", 'URL__2': 'https://www.fragrantica.com/perfume/Al-Haramain-Perfumes/Rawaa-51826.html', 'BaseNotes__3': \"['Vanilla', 'Sandalwood', 'Amber']\", 'Description__3': 'Portfolio Royale Stallion by Al Haramain Perfumes is a Oriental Floral fragrance for women and men. Portfolio Royale Stallion was launched in 2019. Top notes are Heliotrope, Cumin and Bergamot; middle notes are Bitter Almond, Lavender and Jasmine; base notes are Vanilla, Sandalwood and Amber.', 'ProsAndCons__3': '', 'Longevity__3': '', 'Gender__3': 'women and men', 'Designer__3': 'Al Haramain Perfumes', 'Name__3': 'Portfolio Royale Stallion', 'Accords__3': 'almond (100%); vanilla (90.6001%); powdery (87.2501%); fresh spicy (70.3003%); woody (65.0003%); nutty (63.6002%); floral (60.1001%); sweet (59.2504%); lavender (58.9999%); fruity (58.0002%)', 'TopNotes__3': \"['Heliotrope', 'Cumin', 'Bergamot']\", 'Sillage__3': '', 'MiddleNotes__3': \"['Bitter Almond', 'Lavender', 'Jasmine']\", 'URL__3': 'https://www.fragrantica.com/perfume/Al-Haramain-Perfumes/Portfolio-Royale-Stallion-58862.html', 'BaseNotes__4': \"['Musk', 'Beeswax']\", 'Description__4': 'Royal Musk by Al Haramain Perfumes is a fragrance for women and men. Royal Musk was launched in 2021. Top notes are Ylang-Ylang, Pepper and Bergamot; ... (508 characters truncated) ... wax to enhance your personality.Top note: Bergamot, Pepper, & Ylang-YlangMiddle note : Jasmin, Lily of the Valley, Oris RootsBase note: Musk, Beeswax' ... 284 parameters truncated ... 'MiddleNotes__27': \"['Rose', 'Sandalwood', 'Saffron', 'Clove', 'Jasmine', 'Cedar', 'Orange Blossom', 'Orchid']\", 'URL__27': 'https://www.fragrantica.com/perfume/Al-Haramain-Perfumes/Maze-Eau-de-Parfum-52170.html', 'BaseNotes__28': \"['Incense', 'Patchouli', 'Musk']\", 'Description__28': 'Musk Black Vanilla by Al Haramain Perfumes is a Oriental Vanilla fragrance for women and men. This is a new fragrance. Musk Black Vanilla was launche ... (2 characters truncated) ... in 2023. Top notes are Black Currant, Cedar and Herbal Notes; middle notes are Vanilla, Amber and Spices; base notes are Incense, Patchouli and Musk.', 'ProsAndCons__28': '', 'Longevity__28': '', 'Gender__28': 'women and men', 'Designer__28': 'Al Haramain Perfumes', 'Name__28': 'Musk Black Vanilla', 'Accords__28': 'amber (100%); smoky (65.7447%); vanilla (64.7519%); warm spicy (62.2695%); balsamic (62.0215%); woody (52.8368%); fruity (44.8937%); patchouli (44.8937%)', 'TopNotes__28': \"['Black Currant', 'Cedar', 'Herbal Notes']\", 'Sillage__28': '', 'MiddleNotes__28': \"['Vanilla', 'Amber', 'Spices']\", 'URL__28': 'https://www.fragrantica.com/perfume/Al-Haramain-Perfumes/Musk-Black-Vanilla-90945.html', 'BaseNotes__29': \"['Brown sugar', 'Vanilla', 'Musk']\", 'Description__29': 'Tanasuk (2019) by Al Haramain Perfumes is a Oriental Floral fragrance for women and men. Tanasuk (2019) was launched in 2019. Top notes are Grenadine, Saffron and Rose; middle notes are Amber, Woody Notes and Jasmine; base notes are Brown sugar, Vanilla and Musk.', 'ProsAndCons__29': '', 'Longevity__29': '', 'Gender__29': 'women and men', 'Designer__29': 'Al Haramain Perfumes', 'Name__29': 'Tanasuk (2019)', 'Accords__29': 'sweet (100%); vanilla (72.6594%); amber (68.7812%); warm spicy (58.0193%); fruity (55.7894%); powdery (54.4324%); rose (53.2686%); woody (47.4515%); metallic (46.4818%)', 'TopNotes__29': \"['Grenadine', 'Saffron', 'Rose']\", 'Sillage__29': '', 'MiddleNotes__29': \"['Amber', 'Woody Notes', 'Jasmine']\", 'URL__29': 'https://www.fragrantica.com/perfume/Al-Haramain-Perfumes/Tanasuk-2019-55794.html', 'BaseNotes__30': '[]', 'Description__30': 'Firdous by Al Haramain Perfumes is a Chypre fragrance for women and men.', 'ProsAndCons__30': '', 'Longevity__30': '', 'Gender__30': 'women and men', 'Designer__30': 'Al Haramain Perfumes', 'Name__30': 'Firdous', 'Accords__30': 'white floral (100%); mossy (78.6112%); woody (70.5092%); earthy (64.0279%); musky (59.1666%); powdery (57.5463%); fresh (51.3888%); green (47.6946%)', 'TopNotes__30': \"['Moss', 'Lily-of-the-Valley', 'Lily', 'Musk', 'Sandalwood']\", 'Sillage__30': '', 'MiddleNotes__30': '[]', 'URL__30': 'https://www.fragrantica.com/perfume/Al-Haramain-Perfumes/Firdous-19949.html', 'BaseNotes__31': \"['Musk', 'Cedar', 'Vanilla', 'Amber']\", 'Description__31': 'Musk Al Haramain by Al Haramain Perfumes is a Floral Woody Musk fragrance for women and men. Musk Al Haramain was launched in 2021. Top note is Fruit ... (528 characters truncated) ... ppreciation for the better things in life.\"Top note: FruityMiddle note: Rose, Lily of the Valley, VioletBase note: Musk, Cedarwood, Vanilla, Oriental', 'ProsAndCons__31': '', 'Longevity__31': '', 'Gender__31': 'women and men', 'Designer__31': 'Al Haramain Perfumes', 'Name__31': 'Musk Al Haramain', 'Accords__31': 'powdery (100%); musky (98.3908%); rose (67.0116%); violet (66.2068%); floral (54.138%); woody (51.5231%); sweet (48.1034%); fresh (46.8964%); fruity (46.092%); vanilla (46.092%)', 'TopNotes__31': \"['Fruity Notes']\", 'Sillage__31': '', 'MiddleNotes__31': \"['Rose', 'Violet', 'Lily-of-the-Valley']\", 'URL__31': 'https://www.fragrantica.com/perfume/Al-Haramain-Perfumes/Musk-Al-Haramain-70378.html'}\n",
      "2025-05-13 11:48:25,552 INFO sqlalchemy.engine.Engine COMMIT\n"
     ]
    }
   ],
   "source": [
    "with open(tsv_file_path, newline='', encoding='utf-8') as tsvfile:\n",
    "    # Specify tab as the delimiter for TSV files\n",
    "    reader = csv.DictReader(tsvfile, delimiter='\\t')\n",
    "    \n",
    "    for row in reader:\n",
    "        perfume = Perfume(\n",
    "            Name=row['Name'],\n",
    "            Designer=row['Designer'],\n",
    "            URL=row['URL'],\n",
    "            Gender=row['Gender'],\n",
    "            Accords=row['Accords'],\n",
    "            Description=row['Description'],\n",
    "            ProsAndCons=row['Pros and cons'],\n",
    "            TopNotes=row['Top Notes'],\n",
    "            MiddleNotes=row['Middle Notes'],\n",
    "            BaseNotes=row['Base Notes'],\n",
    "            Longevity=row['Longevity'],\n",
    "            Sillage=row['Sillage']\n",
    "        )\n",
    "        session.add(perfume)\n",
    "    \n",
    "    # Commit all additions at once\n",
    "    session.commit()"
   ]
  },
  {
   "cell_type": "code",
   "execution_count": 8,
   "id": "abc9ff07",
   "metadata": {},
   "outputs": [],
   "source": [
    "session.commit()\n",
    "session.close()"
   ]
  },
  {
   "cell_type": "markdown",
   "id": "dbf7e6bb",
   "metadata": {},
   "source": [
    "in case of trouble rollback transaction"
   ]
  },
  {
   "cell_type": "code",
   "execution_count": null,
   "id": "028a237d",
   "metadata": {},
   "outputs": [],
   "source": [
    "session.rollback()"
   ]
  }
 ],
 "metadata": {
  "kernelspec": {
   "display_name": "Python 3",
   "language": "python",
   "name": "python3"
  },
  "language_info": {
   "codemirror_mode": {
    "name": "ipython",
    "version": 3
   },
   "file_extension": ".py",
   "mimetype": "text/x-python",
   "name": "python",
   "nbconvert_exporter": "python",
   "pygments_lexer": "ipython3",
   "version": "3.11.3"
  }
 },
 "nbformat": 4,
 "nbformat_minor": 5
}
