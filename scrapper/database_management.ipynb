{
 "cells": [
  {
   "cell_type": "markdown",
   "id": "b17213dd",
   "metadata": {},
   "source": [
    "Importing libraries"
   ]
  },
  {
   "cell_type": "code",
   "execution_count": 12,
   "id": "4ab29ed6",
   "metadata": {},
   "outputs": [],
   "source": [
    "from sqlalchemy import create_engine, Column, String, Text, MetaData, Table, Integer\n",
    "from sqlalchemy.orm import declarative_base, sessionmaker\n",
    "import csv"
   ]
  },
  {
   "cell_type": "markdown",
   "id": "e18e0e99",
   "metadata": {},
   "source": [
    "Connecting to db"
   ]
  },
  {
   "cell_type": "code",
   "execution_count": 60,
   "id": "ddc5cb5b",
   "metadata": {},
   "outputs": [],
   "source": [
    "username = 'michals2'\n",
    "password = 'Nv1VZRmuTxRvJn3u'\n",
    "host = 'mysql.agh.edu.pl'\n",
    "port = 3306\n",
    "database = 'michals2'\n",
    "\n",
    "connection_string = f'mysql+pymysql://{username}:{password}@{host}:{port}/{database}'"
   ]
  },
  {
   "cell_type": "code",
   "execution_count": 61,
   "id": "d2d82403",
   "metadata": {},
   "outputs": [],
   "source": [
    "engine = create_engine(connection_string, echo=True)"
   ]
  },
  {
   "cell_type": "markdown",
   "id": "8de05d60",
   "metadata": {},
   "source": [
    "Don't use unless you want to create database entirely"
   ]
  },
  {
   "cell_type": "code",
   "execution_count": 55,
   "id": "cc443091",
   "metadata": {},
   "outputs": [],
   "source": [
    "Base = declarative_base()\n",
    "\n",
    "class Perfume(Base):\n",
    "    __tablename__ = 'Perfumes'\n",
    "\n",
    "    id = Column(Integer, primary_key=True, autoincrement=True)  # ✅ Primary Key\n",
    "    Name = Column(String(255))\n",
    "    Designer = Column(String(255))\n",
    "    URL = Column(String(255))\n",
    "    Gender = Column(Text)\n",
    "    Accords = Column(Text)\n",
    "    Description = Column(Text)\n",
    "    ProsAndCons = Column(Text)\n",
    "    TopNotes = Column(Text)\n",
    "    MiddleNotes = Column(Text)\n",
    "    BaseNotes = Column(Text)\n",
    "    Longevity = Column(Text)\n",
    "    Sillage = Column(Text)"
   ]
  },
  {
   "cell_type": "code",
   "execution_count": 56,
   "id": "9c2c7d82",
   "metadata": {},
   "outputs": [
    {
     "name": "stdout",
     "output_type": "stream",
     "text": [
      "2025-04-08 19:03:51,900 INFO sqlalchemy.engine.Engine SELECT DATABASE()\n",
      "2025-04-08 19:03:51,902 INFO sqlalchemy.engine.Engine [raw sql] {}\n",
      "2025-04-08 19:03:51,951 INFO sqlalchemy.engine.Engine SELECT @@sql_mode\n",
      "2025-04-08 19:03:51,953 INFO sqlalchemy.engine.Engine [raw sql] {}\n",
      "2025-04-08 19:03:51,979 INFO sqlalchemy.engine.Engine SELECT @@lower_case_table_names\n",
      "2025-04-08 19:03:51,981 INFO sqlalchemy.engine.Engine [raw sql] {}\n",
      "2025-04-08 19:03:52,032 INFO sqlalchemy.engine.Engine BEGIN (implicit)\n",
      "2025-04-08 19:03:52,034 INFO sqlalchemy.engine.Engine DESCRIBE `michals2`.`Perfumes`\n",
      "2025-04-08 19:03:52,036 INFO sqlalchemy.engine.Engine [raw sql] {}\n",
      "2025-04-08 19:03:52,063 INFO sqlalchemy.engine.Engine COMMIT\n"
     ]
    }
   ],
   "source": [
    "Base.metadata.create_all(engine)\n",
    "\n",
    "Session = sessionmaker(bind=engine)\n",
    "session = Session()"
   ]
  },
  {
   "cell_type": "markdown",
   "id": "3830750f",
   "metadata": {},
   "source": [
    "Run from this part"
   ]
  },
  {
   "cell_type": "code",
   "execution_count": 62,
   "id": "307eb5b5",
   "metadata": {},
   "outputs": [],
   "source": [
    "csv_file_path = 'fragrance_datav2.csv'"
   ]
  },
  {
   "cell_type": "code",
   "execution_count": 66,
   "id": "bdea03a3",
   "metadata": {},
   "outputs": [],
   "source": [
    "with open(csv_file_path, newline='', encoding='utf-8') as csvfile:\n",
    "    reader = csv.DictReader(csvfile)\n",
    "    for row in reader:\n",
    "        perfume = Perfume(\n",
    "            Name=row['Name'],\n",
    "            Designer=row['Designer'],\n",
    "            URL=row['URL'],\n",
    "            Gender=row['Gender'],\n",
    "            Accords=row['Accords'],\n",
    "            Description=row['Description'],\n",
    "            ProsAndCons=row['Pros and cons'],\n",
    "            TopNotes=row['Top Notes'],\n",
    "            MiddleNotes=row['Middle Notes'],\n",
    "            BaseNotes=row['Base Notes'],\n",
    "            Longevity=row['Longevity'],\n",
    "            Sillage=row['Sillage']\n",
    "        )\n",
    "        session.add(perfume)"
   ]
  },
  {
   "cell_type": "code",
   "execution_count": 67,
   "id": "abc9ff07",
   "metadata": {},
   "outputs": [
    {
     "name": "stdout",
     "output_type": "stream",
     "text": [
      "2025-04-08 19:04:45,660 INFO sqlalchemy.engine.Engine BEGIN (implicit)\n",
      "2025-04-08 19:04:45,703 INFO sqlalchemy.engine.Engine INSERT INTO `Perfumes` (`Name`, `Designer`, `URL`, `Gender`, `Accords`, `Description`, `ProsAndCons`, `TopNotes`, `MiddleNotes`, `BaseNotes`, `Longevity`, `Sillage`) VALUES (%(Name__0)s, %(Designer__0)s, %(URL__0)s, %(Gender__0)s, %(Accords__0)s, %(D ... 226549 characters truncated ... eNotes__999)s, %(Longevity__999)s, %(Sillage__999)s) RETURNING `Perfumes`.id, `Perfumes`.id AS id__1\n",
      "2025-04-08 19:04:45,704 INFO sqlalchemy.engine.Engine [cached since 53.29s ago (insertmanyvalues) 1/2 (ordered)] {'Longevity__0': '', 'Name__0': 'Unicorn Milkshake', 'ProsAndCons__0': '', 'BaseNotes__0': '[]', 'TopNotes__0': '[]', 'Accords__0': 'sweet (100%); vanilla (58.1656%); lactonic (55.6806%); powdery (47.3964%)', 'Designer__0': 'The Dua Brand', 'MiddleNotes__0': '[]', 'URL__0': 'https://www.fragrantica.com/perfume/The-Dua-Brand/Unicorn-Milkshake-80878.html', 'Gender__0': 'women and men', 'Sillage__0': '', 'Description__0': 'Unicorn Milkshake by The Dua Brand is a Floral Fruity Gourmand fragrance for women and men. This is a new fragrance. Unicorn Milkshake was launched i ... (1138 characters truncated) ... tsch, Español, Français, Čeština, Italiano, Русский, Polski, Português, Ελληνικά, 汉语, Nederlands, Srpski, Română, العربية, Українська, Монгол, עברית.', 'Longevity__1': '', 'Name__1': 'Princeless Princess', 'ProsAndCons__1': '', 'BaseNotes__1': '[]', 'TopNotes__1': '[]', 'Accords__1': 'fresh (100%); fresh spicy (82.6144%); sweet (80.3266%); green (78.497%); white floral (75.7515%); fruity (65.6865%); powdery (65.6865%); vanilla (64.0852%); amber (62.0262%); citrus (54.7056%)', 'Designer__1': 'The Dua Brand', 'MiddleNotes__1': '[]', 'URL__1': 'https://www.fragrantica.com/perfume/The-Dua-Brand/Princeless-Princess-86485.html', 'Gender__1': 'women and men', 'Sillage__1': '', 'Description__1': \"Princeless Princess by The Dua Brand is a Oriental fragrance for women and men. Princeless Princess was launched in 2021.Princeless Princess by The D ... (1896 characters truncated) ... tsch, Español, Français, Čeština, Italiano, Русский, Polski, Português, Ελληνικά, 汉语, Nederlands, Srpski, Română, العربية, Українська, Монгол, עברית.\", 'Longevity__2': '', 'Name__2': 'White Milk', 'ProsAndCons__2': '', 'BaseNotes__2': '[]', 'TopNotes__2': '[]', 'Accords__2': 'vanilla (100%); musky (86.7568%); sweet (79.1892%); powdery (76.3512%); caramel (67.8376%); honey (48.9188%); balsamic (44.1892%)', 'Designer__2': 'The Dua Brand', 'MiddleNotes__2': '[]', 'URL__2': 'https://www.fragrantica.com/perfume/The-Dua-Brand/White-Milk-96280.html', 'Gender__2': 'women and men', 'Sillage__2': '', 'Description__2': 'White Milk by The Dua Brand is a fragrance for women and men. This is a new fragrance. White Milk was launched in 2024.White Milk is an inspired expr ... (566 characters truncated) ... tsch, Español, Français, Čeština, Italiano, Русский, Polski, Português, Ελληνικά, 汉语, Nederlands, Srpski, Română, العربية, Українська, Монгол, עברית.', 'Longevity__3': '', 'Name__3': 'Popped Cherry', 'ProsAndCons__3': '', 'BaseNotes__3': '[]', 'TopNotes__3': '[]', 'Accords__3': 'almond (100%); sweet (82.4996%); vanilla (79%); woody (72.0001%); nutty (72.0001%); fruity (64.9998%); amber (64.9998%); aromatic (59.8422%); warm spicy (54.3158%); cherry (52.1051%)', 'Designer__3': 'The Dua Brand', 'MiddleNotes__3': '[]', 'URL__3': 'https://www.fragrantica.com/perfume/The-Dua-Brand/Popped-Cherry-65862.html', 'Gender__3': 'women and men', 'Sillage__3': '', 'Description__3': 'Popped Cherry by The Dua Brand is a Aromatic Fruity fragrance for women and men. Popped Cherry was launched in 2018.Read about this perfume in other  ... (14 characters truncated) ... tsch, Español, Français, Čeština, Italiano, Русский, Polski, Português, Ελληνικά, 汉语, Nederlands, Srpski, Română, العربية, Українська, Монгол, עברית.', 'Longevity__4': '', 'Name__4': 'Angelic Elixir' ... 11900 parameters truncated ... 'Sillage__995': '', 'Description__995': '', 'Longevity__996': '', 'Name__996': '', 'ProsAndCons__996': \"['Realistic jasmine tea scent', 'Photorealistic jasmine tea fragrance', 'Pure and natural smelling', 'Tea smell is not fake', 'Easy to wear all year  ... (240 characters truncated) ... ty', 'Scent can be suffocating at first spray', 'Lacks diversity in fragrance notes', 'Lacks depth', 'Not recommended for men due to feminine notes']\", 'BaseNotes__996': '[]', 'TopNotes__996': \"['Tea', 'Jasmine']\", 'Accords__996': 'white floral (100%); green (76.6868%); fresh (60.3435%); ozonic (45.5623%)', 'Designer__996': 'By Kilian', 'MiddleNotes__996': '[]', 'URL__996': 'https://www.fragrantica.com/perfume/By-Kilian/Imperial-Tea-23896.html', 'Gender__996': 'women and men', 'Sillage__996': '', 'Description__996': '', 'Longevity__997': '', 'Name__997': '', 'ProsAndCons__997': \"['Magically delicious gourmand scent', 'Lovely fall and winter scent', 'Intertwining notes create a sweet and fresh twist', 'Lasts the whole day', 'G ... (206 characters truncated) ... ing for some', 'Intimate sillage', 'Mismatched notes may not work for everyone', 'May turn sour on some skin types', 'Cat urine like smell for some']\", 'BaseNotes__997': \"['Milk', 'Sugar', 'Vanilla']\", 'TopNotes__997': \"['Bergamot']\", 'Accords__997': 'vanilla (100%); lactonic (99.0009%); sweet (95.8916%); white floral (76.49%); green (67.8749%);  (57.8941%);  (45.4558%);  (45.3336%)', 'Designer__997': 'By Kilian', 'MiddleNotes__997': \"['Lily-of-the-Valley', 'Green Notes', 'Rose']\", 'URL__997': 'https://www.fragrantica.com/perfume/By-Kilian/Kissing-Burns-6-4-Calories-A-Minute-Wanna-Workout-50496.html', 'Gender__997': 'women and men', 'Sillage__997': '', 'Description__997': '', 'Longevity__998': '', 'Name__998': '', 'ProsAndCons__998': \"['Interesting sweet and wood scent', 'Good for special occasions or date night', 'Satisfies sweet tooth without being cloying', 'Unique, seductive an ... (295 characters truncated) ... d sandalwood', 'Overwhelming sweetness on some skin types', 'Synthetic and harsh notes', 'Very strong projection', 'Chaotic and poorly mixed scents']\", 'BaseNotes__998': \"['Vanilla', 'Sandalwood', 'Cedar', 'Orris', 'Amberwood', 'Violet']\", 'TopNotes__998': \"['Bergamot', 'Lemon']\", 'Accords__998': 'woody (100%); powdery (70.7588%); fruity (62.3165%); vanilla (57.0818%); sweet (55.6142%);  (46.5214%)', 'Designer__998': 'By Kilian', 'MiddleNotes__998': \"['Fig Nectar', 'Green Notes', 'Hedione']\", 'URL__998': 'https://www.fragrantica.com/perfume/By-Kilian/Let-s-Settle-This-Argument-Like-Adults-In-The-Bedroom-Naked-50498.html', 'Gender__998': 'women and men', 'Sillage__998': '', 'Description__998': '', 'Longevity__999': '', 'Name__999': '', 'ProsAndCons__999': '', 'BaseNotes__999': '[]', 'TopNotes__999': \"['Bergamot', 'Green Tea', 'Marshmallow', 'Ginger']\", 'Accords__999': 'citrus (100%); fresh spicy (97.3006%); sweet (65.9897%); green (63.7404%); fresh (63.5602%); powdery (58.7016%); aromatic (48.6248%)', 'Designer__999': 'By Kilian', 'MiddleNotes__999': '[]', 'URL__999': 'https://www.fragrantica.com/perfume/By-Kilian/Princess-Eau-Fraiche-82157.html', 'Gender__999': 'women', 'Sillage__999': '', 'Description__999': ''}\n",
      "2025-04-08 19:04:46,603 INFO sqlalchemy.engine.Engine INSERT INTO `Perfumes` (`Name`, `Designer`, `URL`, `Gender`, `Accords`, `Description`, `ProsAndCons`, `TopNotes`, `MiddleNotes`, `BaseNotes`, `Longevity`, `Sillage`) VALUES (%(Name__0)s, %(Designer__0)s, %(URL__0)s, %(Gender__0)s, %(Accords__0)s, %(D ... 24541 characters truncated ... eNotes__113)s, %(Longevity__113)s, %(Sillage__113)s) RETURNING `Perfumes`.id, `Perfumes`.id AS id__1\n",
      "2025-04-08 19:04:46,604 INFO sqlalchemy.engine.Engine [insertmanyvalues 2/2 (ordered)] {'Longevity__0': '', 'Name__0': '', 'ProsAndCons__0': '[\\'Great for hot and humid weather\\', \\'Chic and breezy vibe\\', \\'Feminine and sexy scent\\', \\'Fresh and fruity notes\\', \\'Versatile summer fragrance ... (276 characters truncated) ...  people\\', \\'Not suitable for colder seasons or occasions\\', \\'May smell like wet dog on some skin types\\', \\'Rose scent may overpower other notes\\']', 'BaseNotes__0': \"['Musk', 'Cedar', 'Vanilla']\", 'TopNotes__0': \"['Tunisian Orange Blossom', 'Turkish Rose', 'Moroccan Rose', 'Osmanthus', 'Bergamot', 'Lemon', 'Mandarin']\", 'Accords__0': 'white floral (100%); aquatic (65.3196%); musky (56.6363%); tuberose (52.9071%); fresh (51.8151%);  (48.7252%);  (46.4877%)', 'Designer__0': 'By Kilian', 'MiddleNotes__0': \"['Watery Notes', 'Egyptian Jasmine', 'Tuberose', 'Lily of the Valley', 'Narcissus']\", 'URL__0': 'https://www.fragrantica.com/perfume/By-Kilian/Good-Girl-Gone-Bad-Eau-Fraiche-59813.html', 'Gender__0': 'women', 'Sillage__0': '', 'Description__0': '', 'Longevity__1': '', 'Name__1': '', 'ProsAndCons__1': \"['Perfect for formal hot summer days', 'Clean and classic drydown', 'Effervescent and sparkling opening', 'Smooth, fresh, and elegant fragrance', 'Bo ... (378 characters truncated) ... Not everyone likes the petigrain and neroli notes', 'Some users may find it too sweet or synthetic', 'May not be suitable for all gender identities']\", 'BaseNotes__1': \"['Cedar', 'Green Sap', 'Cashmere Wood', 'Musk']\", 'TopNotes__1': \"['Green Mandarin', 'Bitter Orange', 'Mint', 'Lime', 'Eucalyptus']\", 'Accords__1': 'citrus (100%); aromatic (79.7126%); woody (73.4291%); fresh spicy (69.4443%); green (67.203%)', 'Designer__1': 'By Kilian', 'MiddleNotes__1': \"['Rosemary', 'Petitgrain', 'Neroli', 'Ginger', 'Galbanum']\", 'URL__1': 'https://www.fragrantica.com/perfume/By-Kilian/Kologne-Shield-of-protection-73317.html', 'Gender__1': 'women and men', 'Sillage__1': '', 'Description__1': '', 'Longevity__2': '', 'Name__2': '', 'ProsAndCons__2': '', 'BaseNotes__2': \"['Marshmallow', 'White Musk', 'Vanilla', 'Labdanum']\", 'TopNotes__2': \"['Neroli', 'Petitgrain', 'Orange Blossom']\", 'Accords__2': 'white floral (100%); floral (98.6363%); sweet (91.0858%); powdery (84.4266%); citrus (80.8349%); fresh (74.2546%); musky (67.9625%); green (58.4458%); aromatic (54.4606%); fresh spicy (49.5057%)', 'Designer__2': 'By Kilian', 'MiddleNotes__2': \"['Peony', 'Jasmine', 'Freesia', 'Orris Root', 'Rose']\", 'URL__2': 'https://www.fragrantica.com/perfume/By-Kilian/Love-Eau-Fraiche-54327.html', 'Gender__2': 'women', 'Sillage__2': '', 'Description__2': 'Love Eau Fraîche by By Kilian is a Floral fragrance for women. Love Eau Fraîche was launched in 2019. The nose behind this fragrance is Calice Becker ... (872 characters truncated) ... tsch, Español, Français, Čeština, Italiano, Русский, Polski, Português, Ελληνικά, 汉语, Nederlands, Srpski, Română, العربية, Українська, Монгол, עברית.', 'Longevity__3': '', 'Name__3': '', 'ProsAndCons__3': \"['Fun and fresh scent', 'Great for lovers of cologne', 'Long-lasting on skin', 'Perfect for summer', 'Well-blended notes', 'Captures a beautiful summ ... (166 characters truncated) ... ive undertones to some people', 'Mainstream and simple for a niche fragrance', 'Smells like a cheap bubblegum', 'Strong sillage', 'Not truly unisex']\", 'BaseNotes__3': \"['Cedar', 'Amberwood']\", 'TopNotes__3': \"['Coca-Cola', 'Lime']\", 'Accords__3': 'coca-cola (100%); warm spicy (83.0053%); woody (77.6128%); citrus (69.5371%); cinnamon (54.4998%);  (51.6158%);  (48.0186%);  (45.9703%);  (44.4926%)', 'Designer__3': 'By Kilian', 'MiddleNotes__3': \"['Cinnamon', 'Apple', 'Nutmeg']\", 'URL__3': 'https://www.fragrantica.com/perfume/By-Kilian/Bad-Boys-Are-No-Good-But-Good-Boys-Are-No-Fun-50495.html', 'Gender__3': 'women and men', 'Sillage__3': '', 'Description__3': '', 'Longevity__4': '', 'Name__4': '' ... 1268 parameters truncated ... 'Sillage__109': '', 'Description__109': \"Opus XII – Rose Incense by Amouage is a Oriental Floral fragrance for women and men. Opus XII – Rose Incense was launched in 2019. The nose behind th ... (1070 characters truncated) ... tsch, Español, Français, Čeština, Italiano, Русский, Polski, Português, Ελληνικά, 汉语, Nederlands, Srpski, Română, العربية, Українська, Монгол, עברית.\", 'Longevity__110': '', 'Name__110': 'Opus XV – King Blue', 'ProsAndCons__110': '', 'BaseNotes__110': \"['Agarwood (Oud)', 'Leather', 'Oak', 'Patchouli', 'Sandalwood']\", 'TopNotes__110': \"['Mandarin Orange', 'Black Currant', 'Pink Pepper']\", 'Accords__110': 'woody (100%); oud (88.5707%); amber (72.3008%); leather (68.6405%); fruity (67.4607%); citrus (66.8099%); animalic (57.455%); fresh spicy (56.8246%); warm spicy (54.5669%); soft spicy (51.3132%)', 'Designer__110': 'Amouage', 'MiddleNotes__110': \"['Frankincense', 'Amber']\", 'URL__110': 'https://www.fragrantica.com/perfume/Amouage/Opus-XV-King-Blue-83394.html', 'Gender__110': 'women and men', 'Sillage__110': '', 'Description__110': 'Opus XV – King Blue by Amouage is a Oriental Woody fragrance for women and men. This is a new fragrance. Opus XV – King Blue was launched in 2023. Op ... (715 characters truncated) ... tsch, Español, Français, Čeština, Italiano, Русский, Polski, Português, Ελληνικά, 汉语, Nederlands, Srpski, Română, العربية, Українська, Монгол, עברית.', 'Longevity__111': 'very weak: 32; weak: 41; moderate: 239; long lasting: 247; eternal: 92', 'Name__111': 'Love Mimosa', 'ProsAndCons__111': '[\\'Good for spring/summer\\', \\'Bright and sunny\\', \\'Long-lasting\\', \\'Luxurious\\', \\'Creamy\\', \\'Intense\\', \\'Fresh and sporty\\', \\'Unisex scent\\',  ... (162 characters truncated) ... and sticky on certain skin types\\', \\'Artificial and plasticky\\', \\'Chemical or laundry-like smell for some\\', \\'Lacks quality for the price point\\']', 'BaseNotes__111': \"['Heliotrope', 'Ambroxan', 'Ylang-Ylang']\", 'TopNotes__111': \"['Cascalone', 'Violet Leaf', 'Orris']\", 'Accords__111': 'yellow floral (100%); aquatic (95.7145%); powdery (91.6953%); sweet (70.3175%); floral (63.2669%); fruity (59.1495%); fresh (58.083%); ozonic (55.9845%); amber (50.9337%); green (49.9513%)', 'Designer__111': 'Amouage', 'MiddleNotes__111': \"['Mimosa', 'Pear', 'Paradisone']\", 'URL__111': 'https://www.fragrantica.com/perfume/Amouage/Love-Mimosa-56023.html', 'Gender__111': 'women', 'Sillage__111': 'intimate: 95; moderate: 319; strong: 250; enormous: 113', 'Description__111': 'Love Mimosa by Amouage is a Oriental Floral fragrance for women. Love Mimosa was launched in 2019. The nose behind this fragrance is Elise Benat. Top ... (190 characters truncated) ... tsch, Español, Français, Čeština, Italiano, Русский, Polski, Português, Ελληνικά, 汉语, Nederlands, Srpski, Română, العربية, Українська, Монгол, עברית.', 'Longevity__112': 'very weak: 38; weak: 39; moderate: 111; long lasting: 455; eternal: 593', 'Name__112': 'Myths Man', 'ProsAndCons__112': \"['Masterpiece and work of art', 'Unique and pleasing scent', 'Fantastic olfactory achievement with distinct 3-stage development', 'Good for special o ... (331 characters truncated) ... arp and tangy opening notes for some', 'Burnt, charred, and melted sugar scent', 'Not full bottle worthy for some', 'Not suitable for public events']\", 'BaseNotes__112': \"['Ash', 'Leather', 'Labdanum']\", 'TopNotes__112': \"['Chrysanthemum', 'Orris']\", 'Accords__112': 'smoky (100%); aromatic (85.3538%); woody (80.5308%); leather (77.1061%); herbal (71.0293%); iris (67.1385%); fresh spicy (57.4114%); earthy (55.4665%); animalic (53.5533%); amber (53.3922%)', 'Designer__112': 'Amouage', 'MiddleNotes__112': \"['elemi', 'Rum', 'Vetiver', 'Rose']\", 'URL__112': 'https://www.fragrantica.com/perfume/Amouage/Myths-Man-38259.html', 'Gender__112': 'men', 'Sillage__112': 'intimate: 57; moderate: 311; strong: 661; enormous: 377', 'Description__112': 'Myths Man by Amouage is a Oriental fragrance for men. Myths Man was launched in 2016. Myths Man was created by Daniel Visentin, Dorothée Piot and Kar ... (197 characters truncated) ... ch, Español, Français, Čeština, Italiano, Русский, Polski, Português, Ελληνικά, 汉语, Nederlands, Hrvatski, Română, العربية, Українська, Монгол, עברית.', 'Longevity__113': 'very weak: 59; weak: 94; moderate: 411; long lasting: 358; eternal: 96', 'Name__113': 'Dia Man', 'ProsAndCons__113': \"['Elegant and versatile', 'Unique and smooth scent', 'Floral and vetiver notes', 'True work of art', 'Calm and confident feeling', 'Safe and close to ... (165 characters truncated) ... y', 'Similarity to other fragrances like Midnight in Paris', 'Patchouli note not pleasant for some', 'Feminine floral notes for men', 'Strong scent']\", 'BaseNotes__113': \"['Vetiver', 'Brazilian Rosewood', 'Leather', 'Amber', 'Patchouli']\", 'TopNotes__113': \"['Incense', 'Cardamom', 'Labdanum', 'Bitter Orange']\", 'Accords__113': 'woody (100%); amber (91.4509%); floral (75.7053%); warm spicy (73.4795%); earthy (69.4346%); aromatic (69.2423%); fresh (68.4015%); fruity (61.7944%); balsamic (61.7305%); sweet (59.592%)', 'Designer__113': 'Amouage', 'MiddleNotes__113': \"['Peony', 'Plum', 'Orris Root', 'Ylang-Ylang']\", 'URL__113': 'https://www.fragrantica.com/perfume/Amouage/Dia-Man-1110.html', 'Gender__113': 'men', 'Sillage__113': 'intimate: 274; moderate: 591; strong: 207; enormous: 154', 'Description__113': 'Dia Man by Amouage is a Woody Floral Musk fragrance for men. Dia Man was launched in 2002. The nose behind this fragrance is Bertrand Duchaufour. Top ... (236 characters truncated) ... tsch, Español, Français, Čeština, Italiano, Русский, Polski, Português, Ελληνικά, 汉语, Nederlands, Srpski, Română, العربية, Українська, Монгол, עברית.'}\n",
      "2025-04-08 19:04:46,799 INFO sqlalchemy.engine.Engine COMMIT\n"
     ]
    }
   ],
   "source": [
    "session.commit()\n",
    "session.close()"
   ]
  },
  {
   "cell_type": "markdown",
   "id": "dbf7e6bb",
   "metadata": {},
   "source": [
    "in case of trouble rollback transaction"
   ]
  },
  {
   "cell_type": "code",
   "execution_count": null,
   "id": "028a237d",
   "metadata": {},
   "outputs": [],
   "source": [
    "session.rollback()"
   ]
  }
 ],
 "metadata": {
  "kernelspec": {
   "display_name": "venv",
   "language": "python",
   "name": "python3"
  },
  "language_info": {
   "codemirror_mode": {
    "name": "ipython",
    "version": 3
   },
   "file_extension": ".py",
   "mimetype": "text/x-python",
   "name": "python",
   "nbconvert_exporter": "python",
   "pygments_lexer": "ipython3",
   "version": "3.10.11"
  }
 },
 "nbformat": 4,
 "nbformat_minor": 5
}
