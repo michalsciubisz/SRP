{
 "cells": [
  {
   "cell_type": "code",
   "execution_count": 56,
   "id": "66e06758",
   "metadata": {},
   "outputs": [],
   "source": [
    "from sqlalchemy import create_engine\n",
    "from sklearn.feature_extraction.text import TfidfVectorizer\n",
    "from sklearn.preprocessing import MinMaxScaler\n",
    "from sklearn.metrics.pairwise import cosine_similarity\n",
    "from rapidfuzz import process, fuzz\n",
    "\n",
    "import pandas as pd\n",
    "import re"
   ]
  },
  {
   "cell_type": "code",
   "execution_count": 57,
   "id": "ff06586f",
   "metadata": {},
   "outputs": [],
   "source": [
    "username = 'michals2'\n",
    "password = 'Nv1VZRmuTxRvJn3u'\n",
    "host = 'mysql.agh.edu.pl'\n",
    "port = 3306\n",
    "database = 'michals2'\n",
    "\n",
    "connection_string = f'mysql+pymysql://{username}:{password}@{host}:{port}/{database}'"
   ]
  },
  {
   "cell_type": "code",
   "execution_count": 58,
   "id": "cb7c5e49",
   "metadata": {},
   "outputs": [],
   "source": [
    "engine = create_engine(connection_string, echo=True)"
   ]
  },
  {
   "cell_type": "code",
   "execution_count": 59,
   "id": "f7330689",
   "metadata": {},
   "outputs": [
    {
     "name": "stdout",
     "output_type": "stream",
     "text": [
      "2025-05-03 12:01:49,577 INFO sqlalchemy.engine.Engine SELECT DATABASE()\n",
      "2025-05-03 12:01:49,579 INFO sqlalchemy.engine.Engine [raw sql] {}\n",
      "2025-05-03 12:01:49,626 INFO sqlalchemy.engine.Engine SELECT @@sql_mode\n",
      "2025-05-03 12:01:49,627 INFO sqlalchemy.engine.Engine [raw sql] {}\n",
      "2025-05-03 12:01:49,651 INFO sqlalchemy.engine.Engine SELECT @@lower_case_table_names\n",
      "2025-05-03 12:01:49,653 INFO sqlalchemy.engine.Engine [raw sql] {}\n",
      "2025-05-03 12:01:49,699 INFO sqlalchemy.engine.Engine BEGIN (implicit)\n",
      "2025-05-03 12:01:49,702 INFO sqlalchemy.engine.Engine DESCRIBE `michals2`.`Perfumes`\n",
      "2025-05-03 12:01:49,703 INFO sqlalchemy.engine.Engine [raw sql] {}\n",
      "2025-05-03 12:01:49,732 INFO sqlalchemy.engine.Engine SHOW FULL TABLES FROM `michals2`\n",
      "2025-05-03 12:01:49,733 INFO sqlalchemy.engine.Engine [raw sql] {}\n",
      "2025-05-03 12:01:49,756 INFO sqlalchemy.engine.Engine SHOW FULL TABLES FROM `michals2`\n",
      "2025-05-03 12:01:49,761 INFO sqlalchemy.engine.Engine [raw sql] {}\n",
      "2025-05-03 12:01:49,811 INFO sqlalchemy.engine.Engine SHOW CREATE TABLE `Perfumes`\n",
      "2025-05-03 12:01:49,812 INFO sqlalchemy.engine.Engine [raw sql] {}\n",
      "2025-05-03 12:01:49,843 INFO sqlalchemy.engine.Engine SELECT `Perfumes`.id, `Perfumes`.`Name`, `Perfumes`.`Designer`, `Perfumes`.`URL`, `Perfumes`.`Gender`, `Perfumes`.`Accords`, `Perfumes`.`Description`, `Perfumes`.`ProsAndCons`, `Perfumes`.`TopNotes`, `Perfumes`.`MiddleNotes`, `Perfumes`.`BaseNotes`, `Perfumes`.`Longevity`, `Perfumes`.`Sillage` \n",
      "FROM `Perfumes`\n",
      "2025-05-03 12:01:49,845 INFO sqlalchemy.engine.Engine [generated in 0.00160s] {}\n",
      "2025-05-03 12:01:50,185 INFO sqlalchemy.engine.Engine COMMIT\n"
     ]
    }
   ],
   "source": [
    "table_name = 'Perfumes'\n",
    "\n",
    "df = pd.read_sql_table(table_name, con=engine)\n",
    "data_list = df.to_dict(orient='records')  # Each row as a dictionary in a list"
   ]
  },
  {
   "cell_type": "markdown",
   "id": "c682edcb",
   "metadata": {},
   "source": [
    "df #use as dataframe </br>\n",
    "data_list #use as dict"
   ]
  },
  {
   "cell_type": "markdown",
   "id": "c8a435d7",
   "metadata": {},
   "source": [
    "define user prompt"
   ]
  },
  {
   "cell_type": "code",
   "execution_count": 60,
   "id": "31d7bf36",
   "metadata": {},
   "outputs": [],
   "source": [
    "user_prompt = \"I like woody, tabacco notes which would be perfect for evening.\""
   ]
  },
  {
   "cell_type": "markdown",
   "id": "c1fbf0e1",
   "metadata": {},
   "source": [
    "#### content based filtering"
   ]
  },
  {
   "cell_type": "code",
   "execution_count": 61,
   "id": "2b9aa48b",
   "metadata": {},
   "outputs": [],
   "source": [
    "df['text_features'] = df['Description'].fillna('') + ' ' + df['Accords'].fillna('') + ' ' + df['Designer'].fillna('') + ' ' + df['TopNotes'].fillna('') + ' ' + df['MiddleNotes'].fillna('') + ' ' + df['BaseNotes'].fillna('')"
   ]
  },
  {
   "cell_type": "code",
   "execution_count": 62,
   "id": "78e1665c",
   "metadata": {},
   "outputs": [],
   "source": [
    "vectorizer = TfidfVectorizer(stop_words='english')\n",
    "tfidf_matrix = vectorizer.fit_transform(df['text_features'])\n",
    "\n",
    "user_vec = vectorizer.transform([user_prompt])\n",
    "\n",
    "cos_similarities = cosine_similarity(user_vec, tfidf_matrix).flatten()"
   ]
  },
  {
   "cell_type": "code",
   "execution_count": 63,
   "id": "6002719c",
   "metadata": {},
   "outputs": [],
   "source": [
    "top_indices = cos_similarities.argsort()[::-1][:5]\n",
    "recommended_perfumes = df.iloc[top_indices][['Name', 'Designer', 'Description', 'Accords', 'TopNotes', 'MiddleNotes', 'BaseNotes']]\n",
    "recommended_perfumes['similarity'] = cos_similarities[top_indices]"
   ]
  },
  {
   "cell_type": "code",
   "execution_count": 64,
   "id": "3c31d6c9",
   "metadata": {},
   "outputs": [
    {
     "name": "stdout",
     "output_type": "stream",
     "text": [
      "Top perfume recommendations:\n"
     ]
    },
    {
     "data": {
      "text/html": [
       "<div>\n",
       "<style scoped>\n",
       "    .dataframe tbody tr th:only-of-type {\n",
       "        vertical-align: middle;\n",
       "    }\n",
       "\n",
       "    .dataframe tbody tr th {\n",
       "        vertical-align: top;\n",
       "    }\n",
       "\n",
       "    .dataframe thead th {\n",
       "        text-align: right;\n",
       "    }\n",
       "</style>\n",
       "<table border=\"1\" class=\"dataframe\">\n",
       "  <thead>\n",
       "    <tr style=\"text-align: right;\">\n",
       "      <th></th>\n",
       "      <th>Name</th>\n",
       "      <th>Designer</th>\n",
       "      <th>Description</th>\n",
       "      <th>Accords</th>\n",
       "      <th>TopNotes</th>\n",
       "      <th>MiddleNotes</th>\n",
       "      <th>BaseNotes</th>\n",
       "      <th>similarity</th>\n",
       "    </tr>\n",
       "  </thead>\n",
       "  <tbody>\n",
       "    <tr>\n",
       "      <th>12</th>\n",
       "      <td>Chilling By The Pacific</td>\n",
       "      <td>The Dua Brand</td>\n",
       "      <td>Chilling By The Pacific by The Dua Brand is a ...</td>\n",
       "      <td>citrus (100%); aromatic (83.5618%); green (59....</td>\n",
       "      <td>['Citron', 'Coriander', 'Mint', 'Apricot', 'Or...</td>\n",
       "      <td>[]</td>\n",
       "      <td>[]</td>\n",
       "      <td>0.077640</td>\n",
       "    </tr>\n",
       "    <tr>\n",
       "      <th>1098</th>\n",
       "      <td>Dia Woman</td>\n",
       "      <td>Amouage</td>\n",
       "      <td>Dia Woman by Amouage is a Floral fragrance for...</td>\n",
       "      <td>floral (100%); fresh (99.8436%); aldehydic (88...</td>\n",
       "      <td>['Aldehydes', 'Cyclamen', 'Violet Leaf', 'Sage...</td>\n",
       "      <td>['Peony', 'Turkish Rose Oil', 'Orris Root', 'O...</td>\n",
       "      <td>['White Musk', 'Heliotrope', 'Sandalwood', 'In...</td>\n",
       "      <td>0.076541</td>\n",
       "    </tr>\n",
       "    <tr>\n",
       "      <th>52</th>\n",
       "      <td>Sand Desert At Sunset</td>\n",
       "      <td>Zara</td>\n",
       "      <td>Sand Desert At Sunset by Zara is a Oriental Sp...</td>\n",
       "      <td>warm spicy (100%); cinnamon (76.7838%); amber ...</td>\n",
       "      <td>['Orange', 'Incense']</td>\n",
       "      <td>['Cinnamon', 'Tonka Bean', 'Chocolate']</td>\n",
       "      <td>['Iris', 'Cedar']</td>\n",
       "      <td>0.075917</td>\n",
       "    </tr>\n",
       "    <tr>\n",
       "      <th>644</th>\n",
       "      <td>Cinéma</td>\n",
       "      <td>Yves Saint Laurent</td>\n",
       "      <td>Cinéma by Yves Saint Laurent is a Oriental Flo...</td>\n",
       "      <td>floral (100%); vanilla (75.8754%); amber (73.5...</td>\n",
       "      <td>['Almond Blossom', 'Clementine', 'Cyclamen']</td>\n",
       "      <td>['Jasmine', 'Peony', 'Amaryllis']</td>\n",
       "      <td>['Vanilla', 'Amber', 'Benzoin', 'White Musk']</td>\n",
       "      <td>0.071787</td>\n",
       "    </tr>\n",
       "    <tr>\n",
       "      <th>0</th>\n",
       "      <td>Unicorn Milkshake</td>\n",
       "      <td>The Dua Brand</td>\n",
       "      <td>Unicorn Milkshake by The Dua Brand is a Floral...</td>\n",
       "      <td>sweet (100%); vanilla (58.1656%); lactonic (55...</td>\n",
       "      <td>[]</td>\n",
       "      <td>[]</td>\n",
       "      <td>[]</td>\n",
       "      <td>0.071374</td>\n",
       "    </tr>\n",
       "  </tbody>\n",
       "</table>\n",
       "</div>"
      ],
      "text/plain": [
       "                         Name            Designer  \\\n",
       "12    Chilling By The Pacific       The Dua Brand   \n",
       "1098                Dia Woman             Amouage   \n",
       "52      Sand Desert At Sunset                Zara   \n",
       "644                    Cinéma  Yves Saint Laurent   \n",
       "0           Unicorn Milkshake       The Dua Brand   \n",
       "\n",
       "                                            Description  \\\n",
       "12    Chilling By The Pacific by The Dua Brand is a ...   \n",
       "1098  Dia Woman by Amouage is a Floral fragrance for...   \n",
       "52    Sand Desert At Sunset by Zara is a Oriental Sp...   \n",
       "644   Cinéma by Yves Saint Laurent is a Oriental Flo...   \n",
       "0     Unicorn Milkshake by The Dua Brand is a Floral...   \n",
       "\n",
       "                                                Accords  \\\n",
       "12    citrus (100%); aromatic (83.5618%); green (59....   \n",
       "1098  floral (100%); fresh (99.8436%); aldehydic (88...   \n",
       "52    warm spicy (100%); cinnamon (76.7838%); amber ...   \n",
       "644   floral (100%); vanilla (75.8754%); amber (73.5...   \n",
       "0     sweet (100%); vanilla (58.1656%); lactonic (55...   \n",
       "\n",
       "                                               TopNotes  \\\n",
       "12    ['Citron', 'Coriander', 'Mint', 'Apricot', 'Or...   \n",
       "1098  ['Aldehydes', 'Cyclamen', 'Violet Leaf', 'Sage...   \n",
       "52                                ['Orange', 'Incense']   \n",
       "644        ['Almond Blossom', 'Clementine', 'Cyclamen']   \n",
       "0                                                    []   \n",
       "\n",
       "                                            MiddleNotes  \\\n",
       "12                                                   []   \n",
       "1098  ['Peony', 'Turkish Rose Oil', 'Orris Root', 'O...   \n",
       "52              ['Cinnamon', 'Tonka Bean', 'Chocolate']   \n",
       "644                   ['Jasmine', 'Peony', 'Amaryllis']   \n",
       "0                                                    []   \n",
       "\n",
       "                                              BaseNotes  similarity  \n",
       "12                                                   []    0.077640  \n",
       "1098  ['White Musk', 'Heliotrope', 'Sandalwood', 'In...    0.076541  \n",
       "52                                    ['Iris', 'Cedar']    0.075917  \n",
       "644       ['Vanilla', 'Amber', 'Benzoin', 'White Musk']    0.071787  \n",
       "0                                                    []    0.071374  "
      ]
     },
     "execution_count": 64,
     "metadata": {},
     "output_type": "execute_result"
    }
   ],
   "source": [
    "print(\"Top perfume recommendations:\")\n",
    "recommended_perfumes"
   ]
  },
  {
   "cell_type": "markdown",
   "id": "fece9f60",
   "metadata": {},
   "source": [
    "#### sentence transformer"
   ]
  },
  {
   "cell_type": "code",
   "execution_count": 65,
   "id": "21921d49",
   "metadata": {},
   "outputs": [],
   "source": [
    "from sentence_transformers import SentenceTransformer, util\n",
    "\n",
    "model = SentenceTransformer('all-MiniLM-L6-v2')\n",
    "text_features = df['text_features'].tolist()\n",
    "\n",
    "embeddings = model.encode(text_features, convert_to_tensor=True)\n",
    "user_embedding = model.encode(user_prompt, convert_to_tensor=True)\n",
    "\n",
    "cos_scores = util.cos_sim(user_embedding, embeddings).cpu().numpy().flatten()\n",
    "top_indices = cos_scores.argsort()[::-1][:5]"
   ]
  },
  {
   "cell_type": "code",
   "execution_count": 66,
   "id": "1fe26595",
   "metadata": {},
   "outputs": [
    {
     "data": {
      "text/html": [
       "<div>\n",
       "<style scoped>\n",
       "    .dataframe tbody tr th:only-of-type {\n",
       "        vertical-align: middle;\n",
       "    }\n",
       "\n",
       "    .dataframe tbody tr th {\n",
       "        vertical-align: top;\n",
       "    }\n",
       "\n",
       "    .dataframe thead th {\n",
       "        text-align: right;\n",
       "    }\n",
       "</style>\n",
       "<table border=\"1\" class=\"dataframe\">\n",
       "  <thead>\n",
       "    <tr style=\"text-align: right;\">\n",
       "      <th></th>\n",
       "      <th>Name</th>\n",
       "      <th>Designer</th>\n",
       "      <th>Description</th>\n",
       "      <th>Accords</th>\n",
       "      <th>TopNotes</th>\n",
       "      <th>MiddleNotes</th>\n",
       "      <th>BaseNotes</th>\n",
       "      <th>similarity</th>\n",
       "    </tr>\n",
       "  </thead>\n",
       "  <tbody>\n",
       "    <tr>\n",
       "      <th>998</th>\n",
       "      <td></td>\n",
       "      <td>By Kilian</td>\n",
       "      <td></td>\n",
       "      <td>woody (100%); powdery (70.7588%); fruity (62.3...</td>\n",
       "      <td>['Bergamot', 'Lemon']</td>\n",
       "      <td>['Fig Nectar', 'Green Notes', 'Hedione']</td>\n",
       "      <td>['Vanilla', 'Sandalwood', 'Cedar', 'Orris', 'A...</td>\n",
       "      <td>0.015269</td>\n",
       "    </tr>\n",
       "    <tr>\n",
       "      <th>950</th>\n",
       "      <td></td>\n",
       "      <td>Mancera</td>\n",
       "      <td></td>\n",
       "      <td>coffee (100%); woody (92.2342%); warm spicy (7...</td>\n",
       "      <td>['Black Currant', 'Bergamot', 'Peach']</td>\n",
       "      <td>['Coffee', 'Amber', 'Floral Notes']</td>\n",
       "      <td>['Woody Notes', 'Sweet Notes', 'White Musk']</td>\n",
       "      <td>0.032694</td>\n",
       "    </tr>\n",
       "    <tr>\n",
       "      <th>766</th>\n",
       "      <td>More Than Words</td>\n",
       "      <td>Xerjoff</td>\n",
       "      <td></td>\n",
       "      <td>amber (100%); oud (68.8718%); fruity (64.8205%...</td>\n",
       "      <td>['Agarwood (Oud)', 'Fruity Notes', 'Floral Not...</td>\n",
       "      <td>[]</td>\n",
       "      <td>[]</td>\n",
       "      <td>0.040287</td>\n",
       "    </tr>\n",
       "    <tr>\n",
       "      <th>450</th>\n",
       "      <td>Dangerous Lily</td>\n",
       "      <td>Dzintars</td>\n",
       "      <td></td>\n",
       "      <td>white floral (100%); floral (76.6668%); woody ...</td>\n",
       "      <td>['Lily', 'Floral Notes', 'dark woodsy notes', ...</td>\n",
       "      <td>[]</td>\n",
       "      <td>[]</td>\n",
       "      <td>0.026576</td>\n",
       "    </tr>\n",
       "    <tr>\n",
       "      <th>977</th>\n",
       "      <td></td>\n",
       "      <td>By Kilian</td>\n",
       "      <td></td>\n",
       "      <td>sweet (100%); woody (75.308%); fruity (67.0148...</td>\n",
       "      <td>['Cognac', 'Raspberry', 'Liquor']</td>\n",
       "      <td>['Tonka Bean', 'Bulgarian Rose', 'Oakmoss']</td>\n",
       "      <td>['Praline', 'Oak', 'Sandalwood']</td>\n",
       "      <td>0.007445</td>\n",
       "    </tr>\n",
       "  </tbody>\n",
       "</table>\n",
       "</div>"
      ],
      "text/plain": [
       "                Name   Designer Description  \\\n",
       "998                   By Kilian               \n",
       "950                     Mancera               \n",
       "766  More Than Words    Xerjoff               \n",
       "450   Dangerous Lily   Dzintars               \n",
       "977                   By Kilian               \n",
       "\n",
       "                                               Accords  \\\n",
       "998  woody (100%); powdery (70.7588%); fruity (62.3...   \n",
       "950  coffee (100%); woody (92.2342%); warm spicy (7...   \n",
       "766  amber (100%); oud (68.8718%); fruity (64.8205%...   \n",
       "450  white floral (100%); floral (76.6668%); woody ...   \n",
       "977  sweet (100%); woody (75.308%); fruity (67.0148...   \n",
       "\n",
       "                                              TopNotes  \\\n",
       "998                              ['Bergamot', 'Lemon']   \n",
       "950             ['Black Currant', 'Bergamot', 'Peach']   \n",
       "766  ['Agarwood (Oud)', 'Fruity Notes', 'Floral Not...   \n",
       "450  ['Lily', 'Floral Notes', 'dark woodsy notes', ...   \n",
       "977                  ['Cognac', 'Raspberry', 'Liquor']   \n",
       "\n",
       "                                     MiddleNotes  \\\n",
       "998     ['Fig Nectar', 'Green Notes', 'Hedione']   \n",
       "950          ['Coffee', 'Amber', 'Floral Notes']   \n",
       "766                                           []   \n",
       "450                                           []   \n",
       "977  ['Tonka Bean', 'Bulgarian Rose', 'Oakmoss']   \n",
       "\n",
       "                                             BaseNotes  similarity  \n",
       "998  ['Vanilla', 'Sandalwood', 'Cedar', 'Orris', 'A...    0.015269  \n",
       "950       ['Woody Notes', 'Sweet Notes', 'White Musk']    0.032694  \n",
       "766                                                 []    0.040287  \n",
       "450                                                 []    0.026576  \n",
       "977                   ['Praline', 'Oak', 'Sandalwood']    0.007445  "
      ]
     },
     "execution_count": 66,
     "metadata": {},
     "output_type": "execute_result"
    }
   ],
   "source": [
    "recommended_perfumes = df.iloc[top_indices][['Name', 'Designer', 'Description', 'Accords', 'TopNotes', 'MiddleNotes', 'BaseNotes']]\n",
    "recommended_perfumes['similarity'] = cos_similarities[top_indices]\n",
    "\n",
    "# Display\n",
    "recommended_perfumes"
   ]
  },
  {
   "cell_type": "markdown",
   "id": "c3535100",
   "metadata": {},
   "source": [
    "#### extracting accords from dataframe"
   ]
  },
  {
   "cell_type": "code",
   "execution_count": 67,
   "id": "65c1de12",
   "metadata": {},
   "outputs": [],
   "source": [
    "unique_accords = set()\n",
    "\n",
    "for row in df['Accords'].dropna():\n",
    "    matches = re.findall(r'([\\w\\s\\-]+)\\s*\\(\\d', row)\n",
    "    unique_accords.update(name.strip() for name in matches)\n",
    "\n",
    "unique_accords_list = list(unique_accords)"
   ]
  },
  {
   "cell_type": "markdown",
   "id": "4aca3004",
   "metadata": {},
   "source": [
    "#### matching accords to given prompt by user"
   ]
  },
  {
   "cell_type": "code",
   "execution_count": 68,
   "id": "8fd0539d",
   "metadata": {},
   "outputs": [],
   "source": [
    "prompt_words = re.findall(r'\\b\\w+\\b', user_prompt.lower())\n",
    "\n",
    "matched_accords = set()\n",
    "threshold = 80 # adjusted manually, determines sensitivity to finding matching words\n",
    "\n",
    "for word in prompt_words:\n",
    "    match, score, _ = process.extractOne(word, unique_accords_list, scorer=fuzz.partial_ratio)\n",
    "    if score >= threshold:\n",
    "        matched_accords.add(match)\n",
    "\n",
    "\n",
    "def extract_accord_scores(accords_string, matched_accords):\n",
    "    scores = {}\n",
    "    for match in matched_accords:\n",
    "        pattern = re.compile(rf'{re.escape(match)}\\s*\\(([\\d\\.]+)%\\)', re.IGNORECASE)\n",
    "        result = pattern.search(accords_string)\n",
    "        if result:\n",
    "            scores[match] = float(result.group(1))\n",
    "    return scores"
   ]
  },
  {
   "cell_type": "markdown",
   "id": "1bbd8f36",
   "metadata": {},
   "source": [
    "#### content based but with accords"
   ]
  },
  {
   "cell_type": "code",
   "execution_count": 69,
   "id": "904ca5c5",
   "metadata": {},
   "outputs": [],
   "source": [
    "df_content = df"
   ]
  },
  {
   "cell_type": "code",
   "execution_count": 70,
   "id": "14373fd3",
   "metadata": {},
   "outputs": [],
   "source": [
    "df_content['matched_accord_scores'] = df_content['Accords'].apply(lambda x: extract_accord_scores(str(x), matched_accords))\n",
    "\n",
    "df_content['accord_match_score'] = df_content['matched_accord_scores'].apply(lambda d: sum(d.values()) if d else 0)"
   ]
  },
  {
   "cell_type": "code",
   "execution_count": 71,
   "id": "16265ac6",
   "metadata": {},
   "outputs": [
    {
     "name": "stdout",
     "output_type": "stream",
     "text": [
      "Mean: 76.8074131059246, Std: 51.769600956639366\n"
     ]
    }
   ],
   "source": [
    "print(f\"Mean: {df_content['accord_match_score'].mean()}, Std: {df_content['accord_match_score'].std()}\")"
   ]
  },
  {
   "cell_type": "code",
   "execution_count": 72,
   "id": "f3dbd0ea",
   "metadata": {},
   "outputs": [],
   "source": [
    "vectorizer = TfidfVectorizer(stop_words='english')\n",
    "tfidf_matrix = vectorizer.fit_transform(df['text_features'])\n",
    "\n",
    "user_vec = vectorizer.transform([user_prompt])\n",
    "\n",
    "cos_similarities = cosine_similarity(user_vec, tfidf_matrix).flatten()\n",
    "\n",
    "df_content['similarity'] = cos_similarities"
   ]
  },
  {
   "cell_type": "code",
   "execution_count": 73,
   "id": "76f99827",
   "metadata": {},
   "outputs": [
    {
     "data": {
      "text/html": [
       "<div>\n",
       "<style scoped>\n",
       "    .dataframe tbody tr th:only-of-type {\n",
       "        vertical-align: middle;\n",
       "    }\n",
       "\n",
       "    .dataframe tbody tr th {\n",
       "        vertical-align: top;\n",
       "    }\n",
       "\n",
       "    .dataframe thead th {\n",
       "        text-align: right;\n",
       "    }\n",
       "</style>\n",
       "<table border=\"1\" class=\"dataframe\">\n",
       "  <thead>\n",
       "    <tr style=\"text-align: right;\">\n",
       "      <th></th>\n",
       "      <th>Name</th>\n",
       "      <th>Designer</th>\n",
       "      <th>similarity</th>\n",
       "      <th>accord_match_score</th>\n",
       "      <th>final_score</th>\n",
       "    </tr>\n",
       "  </thead>\n",
       "  <tbody>\n",
       "    <tr>\n",
       "      <th>1098</th>\n",
       "      <td>Dia Woman</td>\n",
       "      <td>Amouage</td>\n",
       "      <td>0.076541</td>\n",
       "      <td>63.5253</td>\n",
       "      <td>0.772497</td>\n",
       "    </tr>\n",
       "    <tr>\n",
       "      <th>12</th>\n",
       "      <td>Chilling By The Pacific</td>\n",
       "      <td>The Dua Brand</td>\n",
       "      <td>0.077640</td>\n",
       "      <td>46.2534</td>\n",
       "      <td>0.760002</td>\n",
       "    </tr>\n",
       "    <tr>\n",
       "      <th>552</th>\n",
       "      <td>Tobacolor</td>\n",
       "      <td>Dior</td>\n",
       "      <td>0.060890</td>\n",
       "      <td>156.1880</td>\n",
       "      <td>0.751599</td>\n",
       "    </tr>\n",
       "    <tr>\n",
       "      <th>52</th>\n",
       "      <td>Sand Desert At Sunset</td>\n",
       "      <td>Zara</td>\n",
       "      <td>0.075917</td>\n",
       "      <td>48.0105</td>\n",
       "      <td>0.746751</td>\n",
       "    </tr>\n",
       "    <tr>\n",
       "      <th>1069</th>\n",
       "      <td>Guidance</td>\n",
       "      <td>Amouage</td>\n",
       "      <td>0.057411</td>\n",
       "      <td>166.4206</td>\n",
       "      <td>0.733509</td>\n",
       "    </tr>\n",
       "  </tbody>\n",
       "</table>\n",
       "</div>"
      ],
      "text/plain": [
       "                         Name       Designer  similarity  accord_match_score  \\\n",
       "1098                Dia Woman        Amouage    0.076541             63.5253   \n",
       "12    Chilling By The Pacific  The Dua Brand    0.077640             46.2534   \n",
       "552                 Tobacolor           Dior    0.060890            156.1880   \n",
       "52      Sand Desert At Sunset           Zara    0.075917             48.0105   \n",
       "1069                 Guidance        Amouage    0.057411            166.4206   \n",
       "\n",
       "      final_score  \n",
       "1098     0.772497  \n",
       "12       0.760002  \n",
       "552      0.751599  \n",
       "52       0.746751  \n",
       "1069     0.733509  "
      ]
     },
     "execution_count": 73,
     "metadata": {},
     "output_type": "execute_result"
    }
   ],
   "source": [
    "scaler = MinMaxScaler()\n",
    "\n",
    "df_content['similarity_norm'] = scaler.fit_transform(df_content[['similarity']])\n",
    "df_content['accord_score_norm'] = scaler.fit_transform(df_content[['accord_match_score']])\n",
    "\n",
    "alpha = 0.7 #adjustable to match what is more important\n",
    " \n",
    "df['final_score'] = alpha * df_content['similarity_norm'] + (1 - alpha) * df_content['accord_score_norm']\n",
    "top_recommendations = df_content.sort_values(by='final_score', ascending=False).head(5)\n",
    "top_recommendations[['Name', 'Designer', 'similarity', 'accord_match_score', 'final_score']]"
   ]
  },
  {
   "cell_type": "markdown",
   "id": "55039fe9",
   "metadata": {},
   "source": [
    "#### sentence transformer but with accords"
   ]
  },
  {
   "cell_type": "code",
   "execution_count": 74,
   "id": "f29b7b5c",
   "metadata": {},
   "outputs": [],
   "source": [
    "df_transformer = df"
   ]
  },
  {
   "cell_type": "code",
   "execution_count": 75,
   "id": "c64586d1",
   "metadata": {},
   "outputs": [],
   "source": [
    "model = SentenceTransformer('all-MiniLM-L6-v2')\n",
    "text_features = df_transformer['text_features'].tolist()\n",
    "\n",
    "embeddings = model.encode(text_features, convert_to_tensor=True)\n",
    "user_embedding = model.encode(user_prompt, convert_to_tensor=True)\n",
    "\n",
    "cos_scores = util.cos_sim(user_embedding, embeddings).cpu().numpy().flatten()\n",
    "df_transformer['similarity'] = cos_scores"
   ]
  },
  {
   "cell_type": "code",
   "execution_count": 76,
   "id": "0efb4c2d",
   "metadata": {},
   "outputs": [
    {
     "data": {
      "text/html": [
       "<div>\n",
       "<style scoped>\n",
       "    .dataframe tbody tr th:only-of-type {\n",
       "        vertical-align: middle;\n",
       "    }\n",
       "\n",
       "    .dataframe tbody tr th {\n",
       "        vertical-align: top;\n",
       "    }\n",
       "\n",
       "    .dataframe thead th {\n",
       "        text-align: right;\n",
       "    }\n",
       "</style>\n",
       "<table border=\"1\" class=\"dataframe\">\n",
       "  <thead>\n",
       "    <tr style=\"text-align: right;\">\n",
       "      <th></th>\n",
       "      <th>Name</th>\n",
       "      <th>Designer</th>\n",
       "      <th>similarity</th>\n",
       "      <th>accord_match_score</th>\n",
       "      <th>final_score</th>\n",
       "    </tr>\n",
       "  </thead>\n",
       "  <tbody>\n",
       "    <tr>\n",
       "      <th>998</th>\n",
       "      <td></td>\n",
       "      <td>By Kilian</td>\n",
       "      <td>0.471539</td>\n",
       "      <td>162.3165</td>\n",
       "      <td>0.910566</td>\n",
       "    </tr>\n",
       "    <tr>\n",
       "      <th>950</th>\n",
       "      <td></td>\n",
       "      <td>Mancera</td>\n",
       "      <td>0.458425</td>\n",
       "      <td>146.2041</td>\n",
       "      <td>0.870754</td>\n",
       "    </tr>\n",
       "    <tr>\n",
       "      <th>948</th>\n",
       "      <td></td>\n",
       "      <td>Mancera</td>\n",
       "      <td>0.425671</td>\n",
       "      <td>169.8644</td>\n",
       "      <td>0.854220</td>\n",
       "    </tr>\n",
       "    <tr>\n",
       "      <th>700</th>\n",
       "      <td>Le Beau Le Parfum</td>\n",
       "      <td>Jean Paul Gaultier</td>\n",
       "      <td>0.415989</td>\n",
       "      <td>166.1747</td>\n",
       "      <td>0.835473</td>\n",
       "    </tr>\n",
       "    <tr>\n",
       "      <th>994</th>\n",
       "      <td></td>\n",
       "      <td>By Kilian</td>\n",
       "      <td>0.419754</td>\n",
       "      <td>158.2636</td>\n",
       "      <td>0.830638</td>\n",
       "    </tr>\n",
       "  </tbody>\n",
       "</table>\n",
       "</div>"
      ],
      "text/plain": [
       "                  Name            Designer  similarity  accord_match_score  \\\n",
       "998                              By Kilian    0.471539            162.3165   \n",
       "950                                Mancera    0.458425            146.2041   \n",
       "948                                Mancera    0.425671            169.8644   \n",
       "700  Le Beau Le Parfum  Jean Paul Gaultier    0.415989            166.1747   \n",
       "994                              By Kilian    0.419754            158.2636   \n",
       "\n",
       "     final_score  \n",
       "998     0.910566  \n",
       "950     0.870754  \n",
       "948     0.854220  \n",
       "700     0.835473  \n",
       "994     0.830638  "
      ]
     },
     "execution_count": 76,
     "metadata": {},
     "output_type": "execute_result"
    }
   ],
   "source": [
    "scaler = MinMaxScaler()\n",
    "\n",
    "df_transformer['similarity_norm'] = scaler.fit_transform(df_transformer[['similarity']])\n",
    "df_transformer['accord_score_norm'] = scaler.fit_transform(df_transformer[['accord_match_score']])\n",
    "\n",
    "alpha = 0.7 #adjustable to match what is more important\n",
    " \n",
    "df_transformer['final_score'] = alpha * df_transformer['similarity_norm'] + (1 - alpha) * df_transformer['accord_score_norm']\n",
    "top_recommendations_transformers = df_transformer.sort_values(by='final_score', ascending=False).head(5)\n",
    "top_recommendations_transformers[['Name', 'Designer', 'similarity', 'accord_match_score', 'final_score']]"
   ]
  }
 ],
 "metadata": {
  "kernelspec": {
   "display_name": "base",
   "language": "python",
   "name": "python3"
  },
  "language_info": {
   "codemirror_mode": {
    "name": "ipython",
    "version": 3
   },
   "file_extension": ".py",
   "mimetype": "text/x-python",
   "name": "python",
   "nbconvert_exporter": "python",
   "pygments_lexer": "ipython3",
   "version": "3.12.4"
  }
 },
 "nbformat": 4,
 "nbformat_minor": 5
}
