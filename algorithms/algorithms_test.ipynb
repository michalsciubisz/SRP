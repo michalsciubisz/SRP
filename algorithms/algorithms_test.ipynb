{
 "cells": [
  {
   "cell_type": "code",
   "execution_count": 1,
   "id": "66e06758",
   "metadata": {},
   "outputs": [],
   "source": [
    "from sqlalchemy import create_engine\n",
    "from sklearn.feature_extraction.text import TfidfVectorizer\n",
    "from sklearn.metrics.pairwise import cosine_similarity\n",
    "\n",
    "import pandas as pd"
   ]
  },
  {
   "cell_type": "code",
   "execution_count": 2,
   "id": "ff06586f",
   "metadata": {},
   "outputs": [],
   "source": [
    "username = 'michals2'\n",
    "password = 'Nv1VZRmuTxRvJn3u'\n",
    "host = 'mysql.agh.edu.pl'\n",
    "port = 3306\n",
    "database = 'michals2'\n",
    "\n",
    "connection_string = f'mysql+pymysql://{username}:{password}@{host}:{port}/{database}'"
   ]
  },
  {
   "cell_type": "code",
   "execution_count": 3,
   "id": "cb7c5e49",
   "metadata": {},
   "outputs": [],
   "source": [
    "engine = create_engine(connection_string, echo=True)"
   ]
  },
  {
   "cell_type": "code",
   "execution_count": 4,
   "id": "f7330689",
   "metadata": {},
   "outputs": [
    {
     "name": "stdout",
     "output_type": "stream",
     "text": [
      "2025-04-08 19:18:01,175 INFO sqlalchemy.engine.Engine SELECT DATABASE()\n",
      "2025-04-08 19:18:01,179 INFO sqlalchemy.engine.Engine [raw sql] {}\n",
      "2025-04-08 19:18:01,232 INFO sqlalchemy.engine.Engine SELECT @@sql_mode\n",
      "2025-04-08 19:18:01,234 INFO sqlalchemy.engine.Engine [raw sql] {}\n",
      "2025-04-08 19:18:01,262 INFO sqlalchemy.engine.Engine SELECT @@lower_case_table_names\n",
      "2025-04-08 19:18:01,263 INFO sqlalchemy.engine.Engine [raw sql] {}\n",
      "2025-04-08 19:18:01,312 INFO sqlalchemy.engine.Engine BEGIN (implicit)\n",
      "2025-04-08 19:18:01,314 INFO sqlalchemy.engine.Engine DESCRIBE `michals2`.`Perfumes`\n",
      "2025-04-08 19:18:01,315 INFO sqlalchemy.engine.Engine [raw sql] {}\n",
      "2025-04-08 19:18:01,348 INFO sqlalchemy.engine.Engine SHOW FULL TABLES FROM `michals2`\n",
      "2025-04-08 19:18:01,349 INFO sqlalchemy.engine.Engine [raw sql] {}\n",
      "2025-04-08 19:18:01,375 INFO sqlalchemy.engine.Engine SHOW FULL TABLES FROM `michals2`\n",
      "2025-04-08 19:18:01,376 INFO sqlalchemy.engine.Engine [raw sql] {}\n",
      "2025-04-08 19:18:01,414 INFO sqlalchemy.engine.Engine SHOW CREATE TABLE `Perfumes`\n",
      "2025-04-08 19:18:01,415 INFO sqlalchemy.engine.Engine [raw sql] {}\n",
      "2025-04-08 19:18:01,447 INFO sqlalchemy.engine.Engine SELECT `Perfumes`.id, `Perfumes`.`Name`, `Perfumes`.`Designer`, `Perfumes`.`URL`, `Perfumes`.`Gender`, `Perfumes`.`Accords`, `Perfumes`.`Description`, `Perfumes`.`ProsAndCons`, `Perfumes`.`TopNotes`, `Perfumes`.`MiddleNotes`, `Perfumes`.`BaseNotes`, `Perfumes`.`Longevity`, `Perfumes`.`Sillage` \n",
      "FROM `Perfumes`\n",
      "2025-04-08 19:18:01,448 INFO sqlalchemy.engine.Engine [generated in 0.00096s] {}\n",
      "2025-04-08 19:18:02,078 INFO sqlalchemy.engine.Engine COMMIT\n"
     ]
    }
   ],
   "source": [
    "table_name = 'Perfumes'\n",
    "\n",
    "df = pd.read_sql_table(table_name, con=engine)\n",
    "data_list = df.to_dict(orient='records')  # Each row as a dictionary in a list"
   ]
  },
  {
   "cell_type": "markdown",
   "id": "c682edcb",
   "metadata": {},
   "source": [
    "df #use as dataframe </br>\n",
    "data_list #use as dict"
   ]
  },
  {
   "cell_type": "markdown",
   "id": "c8a435d7",
   "metadata": {},
   "source": [
    "define user prompt"
   ]
  },
  {
   "cell_type": "code",
   "execution_count": 10,
   "id": "31d7bf36",
   "metadata": {},
   "outputs": [],
   "source": [
    "user_prompt = \"I like woody, tabacco notes which would be perfect for evening.\""
   ]
  },
  {
   "cell_type": "markdown",
   "id": "c1fbf0e1",
   "metadata": {},
   "source": [
    "content based filtering"
   ]
  },
  {
   "cell_type": "code",
   "execution_count": 11,
   "id": "2b9aa48b",
   "metadata": {},
   "outputs": [],
   "source": [
    "df['text_features'] = df['Description'].fillna('') + ' ' + df['Accords'].fillna('') + ' ' + df['Designer'].fillna('') + ' ' + df['TopNotes'].fillna('') + ' ' + df['MiddleNotes'].fillna('') + ' ' + df['BaseNotes'].fillna('')"
   ]
  },
  {
   "cell_type": "code",
   "execution_count": 12,
   "id": "78e1665c",
   "metadata": {},
   "outputs": [],
   "source": [
    "vectorizer = TfidfVectorizer(stop_words='english')\n",
    "tfidf_matrix = vectorizer.fit_transform(df['text_features'])\n",
    "\n",
    "user_vec = vectorizer.transform([user_prompt])\n",
    "\n",
    "cos_similarities = cosine_similarity(user_vec, tfidf_matrix).flatten()"
   ]
  },
  {
   "cell_type": "code",
   "execution_count": 15,
   "id": "6002719c",
   "metadata": {},
   "outputs": [],
   "source": [
    "top_indices = cos_similarities.argsort()[::-1][:5]\n",
    "recommended_perfumes = df.iloc[top_indices][['Name', 'Designer', 'Description', 'Accords', 'TopNotes', 'MiddleNotes', 'BaseNotes']]\n",
    "recommended_perfumes['similarity'] = cos_similarities[top_indices]"
   ]
  },
  {
   "cell_type": "code",
   "execution_count": 16,
   "id": "3c31d6c9",
   "metadata": {},
   "outputs": [
    {
     "name": "stdout",
     "output_type": "stream",
     "text": [
      "Top perfume recommendations:\n"
     ]
    },
    {
     "data": {
      "text/html": [
       "<div>\n",
       "<style scoped>\n",
       "    .dataframe tbody tr th:only-of-type {\n",
       "        vertical-align: middle;\n",
       "    }\n",
       "\n",
       "    .dataframe tbody tr th {\n",
       "        vertical-align: top;\n",
       "    }\n",
       "\n",
       "    .dataframe thead th {\n",
       "        text-align: right;\n",
       "    }\n",
       "</style>\n",
       "<table border=\"1\" class=\"dataframe\">\n",
       "  <thead>\n",
       "    <tr style=\"text-align: right;\">\n",
       "      <th></th>\n",
       "      <th>Name</th>\n",
       "      <th>Designer</th>\n",
       "      <th>Description</th>\n",
       "      <th>Accords</th>\n",
       "      <th>TopNotes</th>\n",
       "      <th>MiddleNotes</th>\n",
       "      <th>BaseNotes</th>\n",
       "      <th>similarity</th>\n",
       "    </tr>\n",
       "  </thead>\n",
       "  <tbody>\n",
       "    <tr>\n",
       "      <th>12</th>\n",
       "      <td>Chilling By The Pacific</td>\n",
       "      <td>The Dua Brand</td>\n",
       "      <td>Chilling By The Pacific by The Dua Brand is a ...</td>\n",
       "      <td>citrus (100%); aromatic (83.5618%); green (59....</td>\n",
       "      <td>['Citron', 'Coriander', 'Mint', 'Apricot', 'Or...</td>\n",
       "      <td>[]</td>\n",
       "      <td>[]</td>\n",
       "      <td>0.077640</td>\n",
       "    </tr>\n",
       "    <tr>\n",
       "      <th>1098</th>\n",
       "      <td>Dia Woman</td>\n",
       "      <td>Amouage</td>\n",
       "      <td>Dia Woman by Amouage is a Floral fragrance for...</td>\n",
       "      <td>floral (100%); fresh (99.8436%); aldehydic (88...</td>\n",
       "      <td>['Aldehydes', 'Cyclamen', 'Violet Leaf', 'Sage...</td>\n",
       "      <td>['Peony', 'Turkish Rose Oil', 'Orris Root', 'O...</td>\n",
       "      <td>['White Musk', 'Heliotrope', 'Sandalwood', 'In...</td>\n",
       "      <td>0.076541</td>\n",
       "    </tr>\n",
       "    <tr>\n",
       "      <th>52</th>\n",
       "      <td>Sand Desert At Sunset</td>\n",
       "      <td>Zara</td>\n",
       "      <td>Sand Desert At Sunset by Zara is a Oriental Sp...</td>\n",
       "      <td>warm spicy (100%); cinnamon (76.7838%); amber ...</td>\n",
       "      <td>['Orange', 'Incense']</td>\n",
       "      <td>['Cinnamon', 'Tonka Bean', 'Chocolate']</td>\n",
       "      <td>['Iris', 'Cedar']</td>\n",
       "      <td>0.075917</td>\n",
       "    </tr>\n",
       "    <tr>\n",
       "      <th>644</th>\n",
       "      <td>Cinéma</td>\n",
       "      <td>Yves Saint Laurent</td>\n",
       "      <td>Cinéma by Yves Saint Laurent is a Oriental Flo...</td>\n",
       "      <td>floral (100%); vanilla (75.8754%); amber (73.5...</td>\n",
       "      <td>['Almond Blossom', 'Clementine', 'Cyclamen']</td>\n",
       "      <td>['Jasmine', 'Peony', 'Amaryllis']</td>\n",
       "      <td>['Vanilla', 'Amber', 'Benzoin', 'White Musk']</td>\n",
       "      <td>0.071787</td>\n",
       "    </tr>\n",
       "    <tr>\n",
       "      <th>0</th>\n",
       "      <td>Unicorn Milkshake</td>\n",
       "      <td>The Dua Brand</td>\n",
       "      <td>Unicorn Milkshake by The Dua Brand is a Floral...</td>\n",
       "      <td>sweet (100%); vanilla (58.1656%); lactonic (55...</td>\n",
       "      <td>[]</td>\n",
       "      <td>[]</td>\n",
       "      <td>[]</td>\n",
       "      <td>0.071374</td>\n",
       "    </tr>\n",
       "  </tbody>\n",
       "</table>\n",
       "</div>"
      ],
      "text/plain": [
       "                         Name            Designer  \\\n",
       "12    Chilling By The Pacific       The Dua Brand   \n",
       "1098                Dia Woman             Amouage   \n",
       "52      Sand Desert At Sunset                Zara   \n",
       "644                    Cinéma  Yves Saint Laurent   \n",
       "0           Unicorn Milkshake       The Dua Brand   \n",
       "\n",
       "                                            Description  \\\n",
       "12    Chilling By The Pacific by The Dua Brand is a ...   \n",
       "1098  Dia Woman by Amouage is a Floral fragrance for...   \n",
       "52    Sand Desert At Sunset by Zara is a Oriental Sp...   \n",
       "644   Cinéma by Yves Saint Laurent is a Oriental Flo...   \n",
       "0     Unicorn Milkshake by The Dua Brand is a Floral...   \n",
       "\n",
       "                                                Accords  \\\n",
       "12    citrus (100%); aromatic (83.5618%); green (59....   \n",
       "1098  floral (100%); fresh (99.8436%); aldehydic (88...   \n",
       "52    warm spicy (100%); cinnamon (76.7838%); amber ...   \n",
       "644   floral (100%); vanilla (75.8754%); amber (73.5...   \n",
       "0     sweet (100%); vanilla (58.1656%); lactonic (55...   \n",
       "\n",
       "                                               TopNotes  \\\n",
       "12    ['Citron', 'Coriander', 'Mint', 'Apricot', 'Or...   \n",
       "1098  ['Aldehydes', 'Cyclamen', 'Violet Leaf', 'Sage...   \n",
       "52                                ['Orange', 'Incense']   \n",
       "644        ['Almond Blossom', 'Clementine', 'Cyclamen']   \n",
       "0                                                    []   \n",
       "\n",
       "                                            MiddleNotes  \\\n",
       "12                                                   []   \n",
       "1098  ['Peony', 'Turkish Rose Oil', 'Orris Root', 'O...   \n",
       "52              ['Cinnamon', 'Tonka Bean', 'Chocolate']   \n",
       "644                   ['Jasmine', 'Peony', 'Amaryllis']   \n",
       "0                                                    []   \n",
       "\n",
       "                                              BaseNotes  similarity  \n",
       "12                                                   []    0.077640  \n",
       "1098  ['White Musk', 'Heliotrope', 'Sandalwood', 'In...    0.076541  \n",
       "52                                    ['Iris', 'Cedar']    0.075917  \n",
       "644       ['Vanilla', 'Amber', 'Benzoin', 'White Musk']    0.071787  \n",
       "0                                                    []    0.071374  "
      ]
     },
     "execution_count": 16,
     "metadata": {},
     "output_type": "execute_result"
    }
   ],
   "source": [
    "print(\"Top perfume recommendations:\")\n",
    "recommended_perfumes"
   ]
  }
 ],
 "metadata": {
  "kernelspec": {
   "display_name": "venv",
   "language": "python",
   "name": "python3"
  },
  "language_info": {
   "codemirror_mode": {
    "name": "ipython",
    "version": 3
   },
   "file_extension": ".py",
   "mimetype": "text/x-python",
   "name": "python",
   "nbconvert_exporter": "python",
   "pygments_lexer": "ipython3",
   "version": "3.10.11"
  }
 },
 "nbformat": 4,
 "nbformat_minor": 5
}
