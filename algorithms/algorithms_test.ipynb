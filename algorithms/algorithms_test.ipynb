{
 "cells": [
  {
   "cell_type": "code",
   "execution_count": 21,
   "id": "66e06758",
   "metadata": {},
   "outputs": [],
   "source": [
    "from sqlalchemy import create_engine\n",
    "from sklearn.feature_extraction.text import TfidfVectorizer\n",
    "from sklearn.preprocessing import MinMaxScaler\n",
    "from sklearn.metrics.pairwise import cosine_similarity\n",
    "from rapidfuzz import process, fuzz\n",
    "from dotenv import load_dotenv\n",
    "\n",
    "import os\n",
    "import pandas as pd\n",
    "import re\n",
    "import numpy as np"
   ]
  },
  {
   "cell_type": "code",
   "execution_count": 22,
   "id": "ff06586f",
   "metadata": {},
   "outputs": [],
   "source": [
    "load_dotenv()\n",
    "\n",
    "username = os.getenv(\"DB_USER\")\n",
    "password = os.getenv(\"DB_PASSWORD\")\n",
    "host =  os.getenv(\"DB_HOST\")\n",
    "port = os.getenv(\"DB_PORT\")\n",
    "database =  os.getenv(\"DB_DATABASE\")\n",
    "\n",
    "connection_string = f'mysql+pymysql://{username}:{password}@{host}:{port}/{database}'"
   ]
  },
  {
   "cell_type": "code",
   "execution_count": 23,
   "id": "cb7c5e49",
   "metadata": {},
   "outputs": [],
   "source": [
    "engine = create_engine(connection_string, echo=True)"
   ]
  },
  {
   "cell_type": "code",
   "execution_count": 24,
   "id": "f7330689",
   "metadata": {},
   "outputs": [
    {
     "name": "stdout",
     "output_type": "stream",
     "text": [
      "2025-05-14 18:37:25,350 INFO sqlalchemy.engine.Engine SELECT DATABASE()\n",
      "2025-05-14 18:37:25,352 INFO sqlalchemy.engine.Engine [raw sql] {}\n",
      "2025-05-14 18:37:25,400 INFO sqlalchemy.engine.Engine SELECT @@sql_mode\n",
      "2025-05-14 18:37:25,402 INFO sqlalchemy.engine.Engine [raw sql] {}\n",
      "2025-05-14 18:37:25,429 INFO sqlalchemy.engine.Engine SELECT @@lower_case_table_names\n",
      "2025-05-14 18:37:25,429 INFO sqlalchemy.engine.Engine [raw sql] {}\n",
      "2025-05-14 18:37:25,473 INFO sqlalchemy.engine.Engine BEGIN (implicit)\n",
      "2025-05-14 18:37:25,474 INFO sqlalchemy.engine.Engine DESCRIBE `michals2`.`Perfumes_v2`\n",
      "2025-05-14 18:37:25,474 INFO sqlalchemy.engine.Engine [raw sql] {}\n",
      "2025-05-14 18:37:25,499 INFO sqlalchemy.engine.Engine SHOW FULL TABLES FROM `michals2`\n",
      "2025-05-14 18:37:25,500 INFO sqlalchemy.engine.Engine [raw sql] {}\n",
      "2025-05-14 18:37:25,530 INFO sqlalchemy.engine.Engine SHOW FULL TABLES FROM `michals2`\n",
      "2025-05-14 18:37:25,531 INFO sqlalchemy.engine.Engine [raw sql] {}\n",
      "2025-05-14 18:37:25,564 INFO sqlalchemy.engine.Engine SHOW CREATE TABLE `Perfumes_v2`\n",
      "2025-05-14 18:37:25,564 INFO sqlalchemy.engine.Engine [raw sql] {}\n",
      "2025-05-14 18:37:25,591 INFO sqlalchemy.engine.Engine SELECT `Perfumes_v2`.id, `Perfumes_v2`.`Name`, `Perfumes_v2`.`Designer`, `Perfumes_v2`.`URL`, `Perfumes_v2`.`Gender`, `Perfumes_v2`.`Accords`, `Perfumes_v2`.`Description`, `Perfumes_v2`.`ProsAndCons`, `Perfumes_v2`.`TopNotes`, `Perfumes_v2`.`MiddleNotes`, `Perfumes_v2`.`BaseNotes`, `Perfumes_v2`.`Longevity`, `Perfumes_v2`.`Sillage` \n",
      "FROM `Perfumes_v2`\n",
      "2025-05-14 18:37:25,592 INFO sqlalchemy.engine.Engine [generated in 0.00092s] {}\n",
      "2025-05-14 18:37:26,345 INFO sqlalchemy.engine.Engine COMMIT\n"
     ]
    }
   ],
   "source": [
    "table_name = 'Perfumes_v2'\n",
    "\n",
    "df = pd.read_sql_table(table_name, con=engine)\n",
    "data_list = df.to_dict(orient='records')  # Each row as a dictionary in a list"
   ]
  },
  {
   "cell_type": "markdown",
   "id": "c682edcb",
   "metadata": {},
   "source": [
    "df #use as dataframe </br>\n",
    "data_list #use as dict"
   ]
  },
  {
   "cell_type": "markdown",
   "id": "c8a435d7",
   "metadata": {},
   "source": [
    "define user prompt"
   ]
  },
  {
   "cell_type": "code",
   "execution_count": 25,
   "id": "31d7bf36",
   "metadata": {},
   "outputs": [],
   "source": [
    "user_prompt = \"I like woody, tabacco notes which would be perfect for evening.\""
   ]
  },
  {
   "cell_type": "markdown",
   "id": "c1fbf0e1",
   "metadata": {},
   "source": [
    "#### content based filtering"
   ]
  },
  {
   "cell_type": "code",
   "execution_count": 26,
   "id": "2b9aa48b",
   "metadata": {},
   "outputs": [],
   "source": [
    "df['text_features'] = df['Description'].fillna('') + ' ' + df['Accords'].fillna('') + ' ' + df['Designer'].fillna('') + ' ' + df['TopNotes'].fillna('') + ' ' + df['MiddleNotes'].fillna('') + ' ' + df['BaseNotes'].fillna('')"
   ]
  },
  {
   "cell_type": "code",
   "execution_count": 27,
   "id": "78e1665c",
   "metadata": {},
   "outputs": [],
   "source": [
    "vectorizer = TfidfVectorizer(stop_words='english')\n",
    "tfidf_matrix = vectorizer.fit_transform(df['text_features'])\n",
    "\n",
    "user_vec = vectorizer.transform([user_prompt])\n",
    "\n",
    "cos_similarities = cosine_similarity(user_vec, tfidf_matrix).flatten()"
   ]
  },
  {
   "cell_type": "code",
   "execution_count": 28,
   "id": "6002719c",
   "metadata": {},
   "outputs": [],
   "source": [
    "top_indices = cos_similarities.argsort()[::-1][:5]\n",
    "recommended_perfumes = df.iloc[top_indices][['Name', 'Designer', 'Description', 'Accords', 'TopNotes', 'MiddleNotes', 'BaseNotes']]\n",
    "recommended_perfumes['similarity'] = cos_similarities[top_indices]"
   ]
  },
  {
   "cell_type": "code",
   "execution_count": 29,
   "id": "3c31d6c9",
   "metadata": {},
   "outputs": [
    {
     "name": "stdout",
     "output_type": "stream",
     "text": [
      "Top perfume recommendations:\n"
     ]
    },
    {
     "data": {
      "text/html": [
       "<div>\n",
       "<style scoped>\n",
       "    .dataframe tbody tr th:only-of-type {\n",
       "        vertical-align: middle;\n",
       "    }\n",
       "\n",
       "    .dataframe tbody tr th {\n",
       "        vertical-align: top;\n",
       "    }\n",
       "\n",
       "    .dataframe thead th {\n",
       "        text-align: right;\n",
       "    }\n",
       "</style>\n",
       "<table border=\"1\" class=\"dataframe\">\n",
       "  <thead>\n",
       "    <tr style=\"text-align: right;\">\n",
       "      <th></th>\n",
       "      <th>Name</th>\n",
       "      <th>Designer</th>\n",
       "      <th>Description</th>\n",
       "      <th>Accords</th>\n",
       "      <th>TopNotes</th>\n",
       "      <th>MiddleNotes</th>\n",
       "      <th>BaseNotes</th>\n",
       "      <th>similarity</th>\n",
       "    </tr>\n",
       "  </thead>\n",
       "  <tbody>\n",
       "    <tr>\n",
       "      <th>2858</th>\n",
       "      <td>Sweet Milk</td>\n",
       "      <td>The Dua Brand</td>\n",
       "      <td>Sweet Milk by The Dua Brand is a fragrance for...</td>\n",
       "      <td>amber (100%); sweet (91.6003%); lactonic (80.4...</td>\n",
       "      <td>['Milk', 'Marshmallow', 'Tonka Bean', 'Benzoin...</td>\n",
       "      <td>[]</td>\n",
       "      <td>[]</td>\n",
       "      <td>0.105903</td>\n",
       "    </tr>\n",
       "    <tr>\n",
       "      <th>2347</th>\n",
       "      <td>You Or Someone Like You</td>\n",
       "      <td>Etat Libre d'Orange</td>\n",
       "      <td>You Or Someone Like You by Etat Libre d'Orange...</td>\n",
       "      <td>green (100%); aromatic (69.7843%); fresh spicy...</td>\n",
       "      <td>['Mint', 'Grapefruit', 'Bergamot', 'Anise']</td>\n",
       "      <td>['Green Notes', 'Cassis', 'Rose', 'Hedione']</td>\n",
       "      <td>['White Musk']</td>\n",
       "      <td>0.086034</td>\n",
       "    </tr>\n",
       "    <tr>\n",
       "      <th>2027</th>\n",
       "      <td>Sweet Diamond Pink Pepper 25</td>\n",
       "      <td>Kayali Fragrances</td>\n",
       "      <td>Sweet Diamond Pink Pepper 25 by Kayali Fragran...</td>\n",
       "      <td>rose (100%); warm spicy (83.0303%); soft spicy...</td>\n",
       "      <td>['Pink Pepper', 'Saffron', 'Bergamot', 'Royal ...</td>\n",
       "      <td>['Bulgarian Rose', 'May Rose', 'Vanilla Orchid...</td>\n",
       "      <td>['Amber', 'Sandalwood', 'Patchouli', 'Musk']</td>\n",
       "      <td>0.077753</td>\n",
       "    </tr>\n",
       "    <tr>\n",
       "      <th>1098</th>\n",
       "      <td>Dia Woman</td>\n",
       "      <td>Amouage</td>\n",
       "      <td>Dia Woman by Amouage is a Floral fragrance for...</td>\n",
       "      <td>floral (100%); fresh (99.8436%); aldehydic (88...</td>\n",
       "      <td>['Aldehydes', 'Cyclamen', 'Violet Leaf', 'Sage...</td>\n",
       "      <td>['Peony', 'Turkish Rose Oil', 'Orris Root', 'O...</td>\n",
       "      <td>['White Musk', 'Heliotrope', 'Sandalwood', 'In...</td>\n",
       "      <td>0.075209</td>\n",
       "    </tr>\n",
       "    <tr>\n",
       "      <th>52</th>\n",
       "      <td>Sand Desert At Sunset</td>\n",
       "      <td>Zara</td>\n",
       "      <td>Sand Desert At Sunset by Zara is a Oriental Sp...</td>\n",
       "      <td>warm spicy (100%); cinnamon (76.7838%); amber ...</td>\n",
       "      <td>['Orange', 'Incense']</td>\n",
       "      <td>['Cinnamon', 'Tonka Bean', 'Chocolate']</td>\n",
       "      <td>['Iris', 'Cedar']</td>\n",
       "      <td>0.074070</td>\n",
       "    </tr>\n",
       "  </tbody>\n",
       "</table>\n",
       "</div>"
      ],
      "text/plain": [
       "                              Name             Designer  \\\n",
       "2858                    Sweet Milk        The Dua Brand   \n",
       "2347       You Or Someone Like You  Etat Libre d'Orange   \n",
       "2027  Sweet Diamond Pink Pepper 25    Kayali Fragrances   \n",
       "1098                     Dia Woman              Amouage   \n",
       "52           Sand Desert At Sunset                 Zara   \n",
       "\n",
       "                                            Description  \\\n",
       "2858  Sweet Milk by The Dua Brand is a fragrance for...   \n",
       "2347  You Or Someone Like You by Etat Libre d'Orange...   \n",
       "2027  Sweet Diamond Pink Pepper 25 by Kayali Fragran...   \n",
       "1098  Dia Woman by Amouage is a Floral fragrance for...   \n",
       "52    Sand Desert At Sunset by Zara is a Oriental Sp...   \n",
       "\n",
       "                                                Accords  \\\n",
       "2858  amber (100%); sweet (91.6003%); lactonic (80.4...   \n",
       "2347  green (100%); aromatic (69.7843%); fresh spicy...   \n",
       "2027  rose (100%); warm spicy (83.0303%); soft spicy...   \n",
       "1098  floral (100%); fresh (99.8436%); aldehydic (88...   \n",
       "52    warm spicy (100%); cinnamon (76.7838%); amber ...   \n",
       "\n",
       "                                               TopNotes  \\\n",
       "2858  ['Milk', 'Marshmallow', 'Tonka Bean', 'Benzoin...   \n",
       "2347        ['Mint', 'Grapefruit', 'Bergamot', 'Anise']   \n",
       "2027  ['Pink Pepper', 'Saffron', 'Bergamot', 'Royal ...   \n",
       "1098  ['Aldehydes', 'Cyclamen', 'Violet Leaf', 'Sage...   \n",
       "52                                ['Orange', 'Incense']   \n",
       "\n",
       "                                            MiddleNotes  \\\n",
       "2858                                                 []   \n",
       "2347       ['Green Notes', 'Cassis', 'Rose', 'Hedione']   \n",
       "2027  ['Bulgarian Rose', 'May Rose', 'Vanilla Orchid...   \n",
       "1098  ['Peony', 'Turkish Rose Oil', 'Orris Root', 'O...   \n",
       "52              ['Cinnamon', 'Tonka Bean', 'Chocolate']   \n",
       "\n",
       "                                              BaseNotes  similarity  \n",
       "2858                                                 []    0.105903  \n",
       "2347                                     ['White Musk']    0.086034  \n",
       "2027       ['Amber', 'Sandalwood', 'Patchouli', 'Musk']    0.077753  \n",
       "1098  ['White Musk', 'Heliotrope', 'Sandalwood', 'In...    0.075209  \n",
       "52                                    ['Iris', 'Cedar']    0.074070  "
      ]
     },
     "execution_count": 29,
     "metadata": {},
     "output_type": "execute_result"
    }
   ],
   "source": [
    "print(\"Top perfume recommendations:\")\n",
    "recommended_perfumes"
   ]
  },
  {
   "cell_type": "markdown",
   "id": "fece9f60",
   "metadata": {},
   "source": [
    "#### sentence transformer"
   ]
  },
  {
   "cell_type": "code",
   "execution_count": 30,
   "id": "21921d49",
   "metadata": {},
   "outputs": [],
   "source": [
    "from sentence_transformers import SentenceTransformer, util\n",
    "\n",
    "# model = SentenceTransformer('all-MiniLM-L6-v2')\n",
    "# text_features = df['text_features'].tolist()\n",
    "\n",
    "# embeddings = model.encode(text_features, convert_to_tensor=True)\n",
    "\n",
    "model = SentenceTransformer('../models/transformer_model')\n",
    "embeddings = np.load('../models/embeddings.npy')\n",
    "\n",
    "user_embedding = model.encode(user_prompt, convert_to_tensor=True)\n",
    "\n",
    "cos_scores = util.cos_sim(user_embedding, embeddings).cpu().numpy().flatten()\n",
    "top_indices = cos_scores.argsort()[::-1][:5]"
   ]
  },
  {
   "cell_type": "code",
   "execution_count": 31,
   "id": "1fe26595",
   "metadata": {},
   "outputs": [
    {
     "data": {
      "text/html": [
       "<div>\n",
       "<style scoped>\n",
       "    .dataframe tbody tr th:only-of-type {\n",
       "        vertical-align: middle;\n",
       "    }\n",
       "\n",
       "    .dataframe tbody tr th {\n",
       "        vertical-align: top;\n",
       "    }\n",
       "\n",
       "    .dataframe thead th {\n",
       "        text-align: right;\n",
       "    }\n",
       "</style>\n",
       "<table border=\"1\" class=\"dataframe\">\n",
       "  <thead>\n",
       "    <tr style=\"text-align: right;\">\n",
       "      <th></th>\n",
       "      <th>Name</th>\n",
       "      <th>Designer</th>\n",
       "      <th>Description</th>\n",
       "      <th>Accords</th>\n",
       "      <th>TopNotes</th>\n",
       "      <th>MiddleNotes</th>\n",
       "      <th>BaseNotes</th>\n",
       "      <th>similarity</th>\n",
       "    </tr>\n",
       "  </thead>\n",
       "  <tbody>\n",
       "    <tr>\n",
       "      <th>1292</th>\n",
       "      <td>Trianon Palace Versailles</td>\n",
       "      <td>Maison Francis Kurkdjian</td>\n",
       "      <td></td>\n",
       "      <td>floral (100%); woody (92.2222%)</td>\n",
       "      <td>['Floral Notes', 'Woodsy Notes']</td>\n",
       "      <td>[]</td>\n",
       "      <td>[]</td>\n",
       "      <td>0.037491</td>\n",
       "    </tr>\n",
       "    <tr>\n",
       "      <th>2181</th>\n",
       "      <td>The Tragedy of Lord George</td>\n",
       "      <td>Penhaligon's</td>\n",
       "      <td></td>\n",
       "      <td>woody (100%); amber (77.6319%); vanilla (52.50...</td>\n",
       "      <td>['Woodsy Notes', 'Brandy', 'Tonka Bean', 'Amber']</td>\n",
       "      <td>[]</td>\n",
       "      <td>[]</td>\n",
       "      <td>0.015730</td>\n",
       "    </tr>\n",
       "    <tr>\n",
       "      <th>1163</th>\n",
       "      <td>Lady Million Royal</td>\n",
       "      <td>Rabanne</td>\n",
       "      <td></td>\n",
       "      <td>woody (100%); white floral (84.9506%); fruity ...</td>\n",
       "      <td>['Pomegranate']</td>\n",
       "      <td>['White Flowers']</td>\n",
       "      <td>['Woodsy Notes']</td>\n",
       "      <td>0.017597</td>\n",
       "    </tr>\n",
       "    <tr>\n",
       "      <th>998</th>\n",
       "      <td>Let s Settle This Argument Like Adults In The ...</td>\n",
       "      <td>By Kilian</td>\n",
       "      <td></td>\n",
       "      <td>woody (100%); powdery (70.7588%); fruity (62.3...</td>\n",
       "      <td>['Bergamot', 'Lemon']</td>\n",
       "      <td>['Fig Nectar', 'Green Notes', 'Hedione']</td>\n",
       "      <td>['Vanilla', 'Sandalwood', 'Cedar', 'Orris', 'A...</td>\n",
       "      <td>0.013560</td>\n",
       "    </tr>\n",
       "    <tr>\n",
       "      <th>2967</th>\n",
       "      <td>Shine</td>\n",
       "      <td>Ajmal</td>\n",
       "      <td></td>\n",
       "      <td>woody (100%); fruity (95.7116%); powdery (69.1...</td>\n",
       "      <td>['Strawberry', 'Pomegranate']</td>\n",
       "      <td>['Peony', 'Lily-of-the-Valley']</td>\n",
       "      <td>['Powdery Notes', 'Woody Notes']</td>\n",
       "      <td>0.026302</td>\n",
       "    </tr>\n",
       "  </tbody>\n",
       "</table>\n",
       "</div>"
      ],
      "text/plain": [
       "                                                   Name  \\\n",
       "1292                          Trianon Palace Versailles   \n",
       "2181                         The Tragedy of Lord George   \n",
       "1163                                 Lady Million Royal   \n",
       "998   Let s Settle This Argument Like Adults In The ...   \n",
       "2967                                              Shine   \n",
       "\n",
       "                      Designer Description  \\\n",
       "1292  Maison Francis Kurkdjian               \n",
       "2181              Penhaligon's               \n",
       "1163                   Rabanne               \n",
       "998                  By Kilian               \n",
       "2967                     Ajmal               \n",
       "\n",
       "                                                Accords  \\\n",
       "1292                    floral (100%); woody (92.2222%)   \n",
       "2181  woody (100%); amber (77.6319%); vanilla (52.50...   \n",
       "1163  woody (100%); white floral (84.9506%); fruity ...   \n",
       "998   woody (100%); powdery (70.7588%); fruity (62.3...   \n",
       "2967  woody (100%); fruity (95.7116%); powdery (69.1...   \n",
       "\n",
       "                                               TopNotes  \\\n",
       "1292                   ['Floral Notes', 'Woodsy Notes']   \n",
       "2181  ['Woodsy Notes', 'Brandy', 'Tonka Bean', 'Amber']   \n",
       "1163                                    ['Pomegranate']   \n",
       "998                               ['Bergamot', 'Lemon']   \n",
       "2967                      ['Strawberry', 'Pomegranate']   \n",
       "\n",
       "                                   MiddleNotes  \\\n",
       "1292                                        []   \n",
       "2181                                        []   \n",
       "1163                         ['White Flowers']   \n",
       "998   ['Fig Nectar', 'Green Notes', 'Hedione']   \n",
       "2967           ['Peony', 'Lily-of-the-Valley']   \n",
       "\n",
       "                                              BaseNotes  similarity  \n",
       "1292                                                 []    0.037491  \n",
       "2181                                                 []    0.015730  \n",
       "1163                                   ['Woodsy Notes']    0.017597  \n",
       "998   ['Vanilla', 'Sandalwood', 'Cedar', 'Orris', 'A...    0.013560  \n",
       "2967                   ['Powdery Notes', 'Woody Notes']    0.026302  "
      ]
     },
     "execution_count": 31,
     "metadata": {},
     "output_type": "execute_result"
    }
   ],
   "source": [
    "recommended_perfumes = df.iloc[top_indices][['Name', 'Designer', 'Description', 'Accords', 'TopNotes', 'MiddleNotes', 'BaseNotes']]\n",
    "recommended_perfumes['similarity'] = cos_similarities[top_indices]\n",
    "\n",
    "# Display\n",
    "recommended_perfumes"
   ]
  },
  {
   "cell_type": "markdown",
   "id": "c3535100",
   "metadata": {},
   "source": [
    "#### extracting accords from dataframe"
   ]
  },
  {
   "cell_type": "code",
   "execution_count": 32,
   "id": "65c1de12",
   "metadata": {},
   "outputs": [],
   "source": [
    "unique_accords = set()\n",
    "\n",
    "for row in df['Accords'].dropna():\n",
    "    matches = re.findall(r'([\\w\\s\\-]+)\\s*\\(\\d', row)\n",
    "    unique_accords.update(name.strip() for name in matches)\n",
    "\n",
    "unique_accords_list = list(unique_accords)"
   ]
  },
  {
   "cell_type": "markdown",
   "id": "4aca3004",
   "metadata": {},
   "source": [
    "#### matching accords to given prompt by user"
   ]
  },
  {
   "cell_type": "code",
   "execution_count": 33,
   "id": "8fd0539d",
   "metadata": {},
   "outputs": [],
   "source": [
    "prompt_words = re.findall(r'\\b\\w+\\b', user_prompt.lower())\n",
    "\n",
    "matched_accords = set()\n",
    "threshold = 80 # adjusted manually, determines sensitivity to finding matching words\n",
    "\n",
    "for word in prompt_words:\n",
    "    match, score, _ = process.extractOne(word, unique_accords_list, scorer=fuzz.partial_ratio)\n",
    "    if score >= threshold:\n",
    "        matched_accords.add(match)\n",
    "\n",
    "\n",
    "def extract_accord_scores(accords_string, matched_accords):\n",
    "    scores = {}\n",
    "    for match in matched_accords:\n",
    "        pattern = re.compile(rf'{re.escape(match)}\\s*\\(([\\d\\.]+)%\\)', re.IGNORECASE)\n",
    "        result = pattern.search(accords_string)\n",
    "        if result:\n",
    "            scores[match] = float(result.group(1))\n",
    "    return scores"
   ]
  },
  {
   "cell_type": "markdown",
   "id": "1bbd8f36",
   "metadata": {},
   "source": [
    "#### content based but with accords"
   ]
  },
  {
   "cell_type": "code",
   "execution_count": 34,
   "id": "904ca5c5",
   "metadata": {},
   "outputs": [],
   "source": [
    "df_content = df"
   ]
  },
  {
   "cell_type": "code",
   "execution_count": 35,
   "id": "14373fd3",
   "metadata": {},
   "outputs": [],
   "source": [
    "df_content['matched_accord_scores'] = df_content['Accords'].apply(lambda x: extract_accord_scores(str(x), matched_accords))\n",
    "\n",
    "df_content['accord_match_score'] = df_content['matched_accord_scores'].apply(lambda d: sum(d.values()) if d else 0)"
   ]
  },
  {
   "cell_type": "code",
   "execution_count": 36,
   "id": "16265ac6",
   "metadata": {},
   "outputs": [
    {
     "name": "stdout",
     "output_type": "stream",
     "text": [
      "Mean: 105.77039406332455, Std: 62.68145383697034\n"
     ]
    }
   ],
   "source": [
    "print(f\"Mean: {df_content['accord_match_score'].mean()}, Std: {df_content['accord_match_score'].std()}\")"
   ]
  },
  {
   "cell_type": "code",
   "execution_count": 37,
   "id": "f3dbd0ea",
   "metadata": {},
   "outputs": [],
   "source": [
    "vectorizer = TfidfVectorizer(stop_words='english')\n",
    "tfidf_matrix = vectorizer.fit_transform(df['text_features'])\n",
    "\n",
    "user_vec = vectorizer.transform([user_prompt])\n",
    "\n",
    "cos_similarities = cosine_similarity(user_vec, tfidf_matrix).flatten()\n",
    "\n",
    "df_content['similarity'] = cos_similarities"
   ]
  },
  {
   "cell_type": "code",
   "execution_count": 38,
   "id": "76f99827",
   "metadata": {},
   "outputs": [
    {
     "data": {
      "text/html": [
       "<div>\n",
       "<style scoped>\n",
       "    .dataframe tbody tr th:only-of-type {\n",
       "        vertical-align: middle;\n",
       "    }\n",
       "\n",
       "    .dataframe tbody tr th {\n",
       "        vertical-align: top;\n",
       "    }\n",
       "\n",
       "    .dataframe thead th {\n",
       "        text-align: right;\n",
       "    }\n",
       "</style>\n",
       "<table border=\"1\" class=\"dataframe\">\n",
       "  <thead>\n",
       "    <tr style=\"text-align: right;\">\n",
       "      <th></th>\n",
       "      <th>Name</th>\n",
       "      <th>Designer</th>\n",
       "      <th>similarity</th>\n",
       "      <th>accord_match_score</th>\n",
       "      <th>final_score</th>\n",
       "    </tr>\n",
       "  </thead>\n",
       "  <tbody>\n",
       "    <tr>\n",
       "      <th>2858</th>\n",
       "      <td>Sweet Milk</td>\n",
       "      <td>The Dua Brand</td>\n",
       "      <td>0.105903</td>\n",
       "      <td>148.6669</td>\n",
       "      <td>0.844573</td>\n",
       "    </tr>\n",
       "    <tr>\n",
       "      <th>552</th>\n",
       "      <td>Tobacolor</td>\n",
       "      <td>Dior</td>\n",
       "      <td>0.063603</td>\n",
       "      <td>232.5541</td>\n",
       "      <td>0.646555</td>\n",
       "    </tr>\n",
       "    <tr>\n",
       "      <th>2027</th>\n",
       "      <td>Sweet Diamond Pink Pepper 25</td>\n",
       "      <td>Kayali Fragrances</td>\n",
       "      <td>0.077753</td>\n",
       "      <td>121.3394</td>\n",
       "      <td>0.631932</td>\n",
       "    </tr>\n",
       "    <tr>\n",
       "      <th>2125</th>\n",
       "      <td>Tobacco Rush</td>\n",
       "      <td>Afnan</td>\n",
       "      <td>0.056812</td>\n",
       "      <td>247.8435</td>\n",
       "      <td>0.616534</td>\n",
       "    </tr>\n",
       "    <tr>\n",
       "      <th>2420</th>\n",
       "      <td>Wanted by Night</td>\n",
       "      <td>Azzaro</td>\n",
       "      <td>0.046768</td>\n",
       "      <td>308.4945</td>\n",
       "      <td>0.609126</td>\n",
       "    </tr>\n",
       "  </tbody>\n",
       "</table>\n",
       "</div>"
      ],
      "text/plain": [
       "                              Name           Designer  similarity  \\\n",
       "2858                    Sweet Milk      The Dua Brand    0.105903   \n",
       "552                      Tobacolor               Dior    0.063603   \n",
       "2027  Sweet Diamond Pink Pepper 25  Kayali Fragrances    0.077753   \n",
       "2125                  Tobacco Rush              Afnan    0.056812   \n",
       "2420               Wanted by Night             Azzaro    0.046768   \n",
       "\n",
       "      accord_match_score  final_score  \n",
       "2858            148.6669     0.844573  \n",
       "552             232.5541     0.646555  \n",
       "2027            121.3394     0.631932  \n",
       "2125            247.8435     0.616534  \n",
       "2420            308.4945     0.609126  "
      ]
     },
     "execution_count": 38,
     "metadata": {},
     "output_type": "execute_result"
    }
   ],
   "source": [
    "scaler = MinMaxScaler()\n",
    "\n",
    "df_content['similarity_norm'] = scaler.fit_transform(df_content[['similarity']])\n",
    "df_content['accord_score_norm'] = scaler.fit_transform(df_content[['accord_match_score']])\n",
    "\n",
    "alpha = 0.7 #adjustable to match what is more important\n",
    " \n",
    "df['final_score'] = alpha * df_content['similarity_norm'] + (1 - alpha) * df_content['accord_score_norm']\n",
    "top_recommendations = df_content.sort_values(by='final_score', ascending=False).head(5)\n",
    "top_recommendations[['Name', 'Designer', 'similarity', 'accord_match_score', 'final_score']]"
   ]
  },
  {
   "cell_type": "markdown",
   "id": "55039fe9",
   "metadata": {},
   "source": [
    "#### sentence transformer but with accords"
   ]
  },
  {
   "cell_type": "code",
   "execution_count": 39,
   "id": "f29b7b5c",
   "metadata": {},
   "outputs": [],
   "source": [
    "df_transformer = df"
   ]
  },
  {
   "cell_type": "code",
   "execution_count": 40,
   "id": "c64586d1",
   "metadata": {},
   "outputs": [],
   "source": [
    "model = SentenceTransformer('../models/transformer_model')\n",
    "embeddings = np.load('../models/embeddings.npy')\n",
    "\n",
    "user_embedding = model.encode(user_prompt, convert_to_tensor=True)\n",
    "\n",
    "cos_scores = util.cos_sim(user_embedding, embeddings).cpu().numpy().flatten()\n",
    "# top_indices = cos_scores.argsort()[::-1][:5]\n",
    "\n",
    "df_transformer['similarity'] = cos_scores"
   ]
  },
  {
   "cell_type": "code",
   "execution_count": 41,
   "id": "0efb4c2d",
   "metadata": {},
   "outputs": [
    {
     "data": {
      "text/html": [
       "<div>\n",
       "<style scoped>\n",
       "    .dataframe tbody tr th:only-of-type {\n",
       "        vertical-align: middle;\n",
       "    }\n",
       "\n",
       "    .dataframe tbody tr th {\n",
       "        vertical-align: top;\n",
       "    }\n",
       "\n",
       "    .dataframe thead th {\n",
       "        text-align: right;\n",
       "    }\n",
       "</style>\n",
       "<table border=\"1\" class=\"dataframe\">\n",
       "  <thead>\n",
       "    <tr style=\"text-align: right;\">\n",
       "      <th></th>\n",
       "      <th>Name</th>\n",
       "      <th>Designer</th>\n",
       "      <th>similarity</th>\n",
       "      <th>accord_match_score</th>\n",
       "      <th>final_score</th>\n",
       "    </tr>\n",
       "  </thead>\n",
       "  <tbody>\n",
       "    <tr>\n",
       "      <th>2181</th>\n",
       "      <td>The Tragedy of Lord George</td>\n",
       "      <td>Penhaligon's</td>\n",
       "      <td>0.524770</td>\n",
       "      <td>177.6319</td>\n",
       "      <td>0.862780</td>\n",
       "    </tr>\n",
       "    <tr>\n",
       "      <th>1321</th>\n",
       "      <td>King</td>\n",
       "      <td>Armaf</td>\n",
       "      <td>0.458459</td>\n",
       "      <td>228.3200</td>\n",
       "      <td>0.823713</td>\n",
       "    </tr>\n",
       "    <tr>\n",
       "      <th>766</th>\n",
       "      <td>More Than Words</td>\n",
       "      <td>Xerjoff</td>\n",
       "      <td>0.453095</td>\n",
       "      <td>219.3795</td>\n",
       "      <td>0.807871</td>\n",
       "    </tr>\n",
       "    <tr>\n",
       "      <th>2967</th>\n",
       "      <td>Shine</td>\n",
       "      <td>Ajmal</td>\n",
       "      <td>0.468706</td>\n",
       "      <td>195.7116</td>\n",
       "      <td>0.805657</td>\n",
       "    </tr>\n",
       "    <tr>\n",
       "      <th>950</th>\n",
       "      <td>Aoud Cafe</td>\n",
       "      <td>Mancera</td>\n",
       "      <td>0.458425</td>\n",
       "      <td>207.1295</td>\n",
       "      <td>0.803061</td>\n",
       "    </tr>\n",
       "  </tbody>\n",
       "</table>\n",
       "</div>"
      ],
      "text/plain": [
       "                            Name      Designer  similarity  \\\n",
       "2181  The Tragedy of Lord George  Penhaligon's    0.524770   \n",
       "1321                        King         Armaf    0.458459   \n",
       "766              More Than Words       Xerjoff    0.453095   \n",
       "2967                       Shine         Ajmal    0.468706   \n",
       "950                    Aoud Cafe       Mancera    0.458425   \n",
       "\n",
       "      accord_match_score  final_score  \n",
       "2181            177.6319     0.862780  \n",
       "1321            228.3200     0.823713  \n",
       "766             219.3795     0.807871  \n",
       "2967            195.7116     0.805657  \n",
       "950             207.1295     0.803061  "
      ]
     },
     "execution_count": 41,
     "metadata": {},
     "output_type": "execute_result"
    }
   ],
   "source": [
    "scaler = MinMaxScaler()\n",
    "\n",
    "df_transformer['similarity_norm'] = scaler.fit_transform(df_transformer[['similarity']])\n",
    "df_transformer['accord_score_norm'] = scaler.fit_transform(df_transformer[['accord_match_score']])\n",
    "\n",
    "alpha = 0.7 #adjustable to match what is more important\n",
    " \n",
    "df_transformer['final_score'] = alpha * df_transformer['similarity_norm'] + (1 - alpha) * df_transformer['accord_score_norm']\n",
    "top_recommendations_transformers = df_transformer.sort_values(by='final_score', ascending=False).head(5)\n",
    "top_recommendations_transformers[['Name', 'Designer', 'similarity', 'accord_match_score', 'final_score']]"
   ]
  }
 ],
 "metadata": {
  "kernelspec": {
   "display_name": "venv",
   "language": "python",
   "name": "python3"
  },
  "language_info": {
   "codemirror_mode": {
    "name": "ipython",
    "version": 3
   },
   "file_extension": ".py",
   "mimetype": "text/x-python",
   "name": "python",
   "nbconvert_exporter": "python",
   "pygments_lexer": "ipython3",
   "version": "3.10.11"
  }
 },
 "nbformat": 4,
 "nbformat_minor": 5
}
