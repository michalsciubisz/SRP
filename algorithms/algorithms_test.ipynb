{
 "cells": [
  {
   "cell_type": "markdown",
   "id": "e6eac08f",
   "metadata": {},
   "source": [
    "### libraries"
   ]
  },
  {
   "cell_type": "code",
   "execution_count": 767,
   "id": "66e06758",
   "metadata": {},
   "outputs": [],
   "source": [
    "from sqlalchemy import create_engine\n",
    "from sklearn.feature_extraction.text import TfidfVectorizer\n",
    "from sklearn.preprocessing import MinMaxScaler\n",
    "from sklearn.metrics.pairwise import cosine_similarity\n",
    "from sentence_transformers import SentenceTransformer, util\n",
    "from rapidfuzz import process, fuzz\n",
    "from dotenv import load_dotenv\n",
    "\n",
    "import os\n",
    "import pandas as pd\n",
    "import re\n",
    "import numpy as np"
   ]
  },
  {
   "cell_type": "markdown",
   "id": "a3d6046d",
   "metadata": {},
   "source": [
    "### database connection"
   ]
  },
  {
   "cell_type": "code",
   "execution_count": 768,
   "id": "ff06586f",
   "metadata": {},
   "outputs": [],
   "source": [
    "load_dotenv()\n",
    "\n",
    "username = os.getenv(\"DB_USER\")\n",
    "password = os.getenv(\"DB_PASSWORD\")\n",
    "host =  os.getenv(\"DB_HOST\")\n",
    "port = os.getenv(\"DB_PORT\")\n",
    "database =  os.getenv(\"DB_DATABASE\")\n",
    "\n",
    "connection_string = f'mysql+pymysql://{username}:{password}@{host}:{port}/{database}'\n",
    "engine = create_engine(connection_string, echo=True)"
   ]
  },
  {
   "cell_type": "markdown",
   "id": "4654bcd8",
   "metadata": {},
   "source": [
    "### loading the table"
   ]
  },
  {
   "cell_type": "code",
   "execution_count": 769,
   "id": "f7330689",
   "metadata": {},
   "outputs": [
    {
     "name": "stdout",
     "output_type": "stream",
     "text": [
      "2025-05-24 14:03:35,921 INFO sqlalchemy.engine.Engine SELECT DATABASE()\n",
      "2025-05-24 14:03:35,923 INFO sqlalchemy.engine.Engine [raw sql] {}\n",
      "2025-05-24 14:03:35,969 INFO sqlalchemy.engine.Engine SELECT @@sql_mode\n",
      "2025-05-24 14:03:35,971 INFO sqlalchemy.engine.Engine [raw sql] {}\n",
      "2025-05-24 14:03:35,994 INFO sqlalchemy.engine.Engine SELECT @@lower_case_table_names\n",
      "2025-05-24 14:03:35,995 INFO sqlalchemy.engine.Engine [raw sql] {}\n",
      "2025-05-24 14:03:36,044 INFO sqlalchemy.engine.Engine BEGIN (implicit)\n",
      "2025-05-24 14:03:36,046 INFO sqlalchemy.engine.Engine DESCRIBE `michals2`.`Perfumes_v2`\n",
      "2025-05-24 14:03:36,049 INFO sqlalchemy.engine.Engine [raw sql] {}\n",
      "2025-05-24 14:03:36,075 INFO sqlalchemy.engine.Engine SHOW FULL TABLES FROM `michals2`\n",
      "2025-05-24 14:03:36,078 INFO sqlalchemy.engine.Engine [raw sql] {}\n",
      "2025-05-24 14:03:36,103 INFO sqlalchemy.engine.Engine SHOW FULL TABLES FROM `michals2`\n",
      "2025-05-24 14:03:36,105 INFO sqlalchemy.engine.Engine [raw sql] {}\n",
      "2025-05-24 14:03:36,144 INFO sqlalchemy.engine.Engine SHOW CREATE TABLE `Perfumes_v2`\n",
      "2025-05-24 14:03:36,145 INFO sqlalchemy.engine.Engine [raw sql] {}\n",
      "2025-05-24 14:03:36,174 INFO sqlalchemy.engine.Engine SELECT `Perfumes_v2`.id, `Perfumes_v2`.`Name`, `Perfumes_v2`.`Designer`, `Perfumes_v2`.`URL`, `Perfumes_v2`.`Gender`, `Perfumes_v2`.`Accords`, `Perfumes_v2`.`Description`, `Perfumes_v2`.`ProsAndCons`, `Perfumes_v2`.`TopNotes`, `Perfumes_v2`.`MiddleNotes`, `Perfumes_v2`.`BaseNotes`, `Perfumes_v2`.`Longevity`, `Perfumes_v2`.`Sillage` \n",
      "FROM `Perfumes_v2`\n",
      "2025-05-24 14:03:36,175 INFO sqlalchemy.engine.Engine [generated in 0.00112s] {}\n",
      "2025-05-24 14:03:37,484 INFO sqlalchemy.engine.Engine COMMIT\n"
     ]
    }
   ],
   "source": [
    "table_name = 'Perfumes_v2'\n",
    "\n",
    "df = pd.read_sql_table(table_name, con=engine)\n",
    "\n",
    "data_list = df.to_dict(orient='records')  # Each row as a dictionary in a list\n",
    "\n",
    "df['text_features'] = df['Description'].fillna('') + ' ' + df['Accords'].fillna('') + ' ' + df['Designer'].fillna('') + ' ' + df['TopNotes'].fillna('') + ' ' + df['MiddleNotes'].fillna('') + ' ' + df['BaseNotes'].fillna('')"
   ]
  },
  {
   "cell_type": "markdown",
   "id": "c682edcb",
   "metadata": {},
   "source": [
    "df #use as dataframe </br>\n",
    "data_list #use as dict"
   ]
  },
  {
   "cell_type": "markdown",
   "id": "c8a435d7",
   "metadata": {},
   "source": [
    "#### define user prompt"
   ]
  },
  {
   "cell_type": "code",
   "execution_count": 770,
   "id": "31d7bf36",
   "metadata": {},
   "outputs": [],
   "source": [
    "user_prompt = \"I like woody, tabacco notes which would be perfect for evening.\""
   ]
  },
  {
   "cell_type": "markdown",
   "id": "51c3b4b4",
   "metadata": {},
   "source": [
    "## basic"
   ]
  },
  {
   "cell_type": "markdown",
   "id": "c1fbf0e1",
   "metadata": {},
   "source": [
    "#### content based filtering"
   ]
  },
  {
   "cell_type": "code",
   "execution_count": 771,
   "id": "78e1665c",
   "metadata": {},
   "outputs": [],
   "source": [
    "vectorizer = TfidfVectorizer(stop_words='english')\n",
    "tfidf_matrix = vectorizer.fit_transform(df['text_features'])\n",
    "user_vec = vectorizer.transform([user_prompt])\n",
    "#get results\n",
    "cos_similarities = cosine_similarity(user_vec, tfidf_matrix).flatten()\n",
    "#get top 5 recommendation indexes\n",
    "top_indices = cos_similarities.argsort()[::-1][:5]\n",
    "recommended_perfumes = df.iloc[top_indices][['Name', 'Designer', 'Description', 'Accords', 'TopNotes', 'MiddleNotes', 'BaseNotes']]\n",
    "recommended_perfumes['similarity'] = cos_similarities[top_indices]"
   ]
  },
  {
   "cell_type": "code",
   "execution_count": 772,
   "id": "6002719c",
   "metadata": {},
   "outputs": [
    {
     "name": "stdout",
     "output_type": "stream",
     "text": [
      "Top perfume recommendations:\n"
     ]
    },
    {
     "data": {
      "text/html": [
       "<div>\n",
       "<style scoped>\n",
       "    .dataframe tbody tr th:only-of-type {\n",
       "        vertical-align: middle;\n",
       "    }\n",
       "\n",
       "    .dataframe tbody tr th {\n",
       "        vertical-align: top;\n",
       "    }\n",
       "\n",
       "    .dataframe thead th {\n",
       "        text-align: right;\n",
       "    }\n",
       "</style>\n",
       "<table border=\"1\" class=\"dataframe\">\n",
       "  <thead>\n",
       "    <tr style=\"text-align: right;\">\n",
       "      <th></th>\n",
       "      <th>Name</th>\n",
       "      <th>Designer</th>\n",
       "      <th>Description</th>\n",
       "      <th>Accords</th>\n",
       "      <th>TopNotes</th>\n",
       "      <th>MiddleNotes</th>\n",
       "      <th>BaseNotes</th>\n",
       "      <th>similarity</th>\n",
       "    </tr>\n",
       "  </thead>\n",
       "  <tbody>\n",
       "    <tr>\n",
       "      <th>2858</th>\n",
       "      <td>Sweet Milk</td>\n",
       "      <td>The Dua Brand</td>\n",
       "      <td>Sweet Milk by The Dua Brand is a fragrance for...</td>\n",
       "      <td>amber (100%); sweet (91.6003%); lactonic (80.4...</td>\n",
       "      <td>['Milk', 'Marshmallow', 'Tonka Bean', 'Benzoin...</td>\n",
       "      <td>[]</td>\n",
       "      <td>[]</td>\n",
       "      <td>0.105903</td>\n",
       "    </tr>\n",
       "    <tr>\n",
       "      <th>2347</th>\n",
       "      <td>You Or Someone Like You</td>\n",
       "      <td>Etat Libre d'Orange</td>\n",
       "      <td>You Or Someone Like You by Etat Libre d'Orange...</td>\n",
       "      <td>green (100%); aromatic (69.7843%); fresh spicy...</td>\n",
       "      <td>['Mint', 'Grapefruit', 'Bergamot', 'Anise']</td>\n",
       "      <td>['Green Notes', 'Cassis', 'Rose', 'Hedione']</td>\n",
       "      <td>['White Musk']</td>\n",
       "      <td>0.086034</td>\n",
       "    </tr>\n",
       "    <tr>\n",
       "      <th>2027</th>\n",
       "      <td>Sweet Diamond Pink Pepper 25</td>\n",
       "      <td>Kayali Fragrances</td>\n",
       "      <td>Sweet Diamond Pink Pepper 25 by Kayali Fragran...</td>\n",
       "      <td>rose (100%); warm spicy (83.0303%); soft spicy...</td>\n",
       "      <td>['Pink Pepper', 'Saffron', 'Bergamot', 'Royal ...</td>\n",
       "      <td>['Bulgarian Rose', 'May Rose', 'Vanilla Orchid...</td>\n",
       "      <td>['Amber', 'Sandalwood', 'Patchouli', 'Musk']</td>\n",
       "      <td>0.077753</td>\n",
       "    </tr>\n",
       "    <tr>\n",
       "      <th>1098</th>\n",
       "      <td>Dia Woman</td>\n",
       "      <td>Amouage</td>\n",
       "      <td>Dia Woman by Amouage is a Floral fragrance for...</td>\n",
       "      <td>floral (100%); fresh (99.8436%); aldehydic (88...</td>\n",
       "      <td>['Aldehydes', 'Cyclamen', 'Violet Leaf', 'Sage...</td>\n",
       "      <td>['Peony', 'Turkish Rose Oil', 'Orris Root', 'O...</td>\n",
       "      <td>['White Musk', 'Heliotrope', 'Sandalwood', 'In...</td>\n",
       "      <td>0.075209</td>\n",
       "    </tr>\n",
       "    <tr>\n",
       "      <th>52</th>\n",
       "      <td>Sand Desert At Sunset</td>\n",
       "      <td>Zara</td>\n",
       "      <td>Sand Desert At Sunset by Zara is a Oriental Sp...</td>\n",
       "      <td>warm spicy (100%); cinnamon (76.7838%); amber ...</td>\n",
       "      <td>['Orange', 'Incense']</td>\n",
       "      <td>['Cinnamon', 'Tonka Bean', 'Chocolate']</td>\n",
       "      <td>['Iris', 'Cedar']</td>\n",
       "      <td>0.074070</td>\n",
       "    </tr>\n",
       "  </tbody>\n",
       "</table>\n",
       "</div>"
      ],
      "text/plain": [
       "                              Name             Designer  \\\n",
       "2858                    Sweet Milk        The Dua Brand   \n",
       "2347       You Or Someone Like You  Etat Libre d'Orange   \n",
       "2027  Sweet Diamond Pink Pepper 25    Kayali Fragrances   \n",
       "1098                     Dia Woman              Amouage   \n",
       "52           Sand Desert At Sunset                 Zara   \n",
       "\n",
       "                                            Description  \\\n",
       "2858  Sweet Milk by The Dua Brand is a fragrance for...   \n",
       "2347  You Or Someone Like You by Etat Libre d'Orange...   \n",
       "2027  Sweet Diamond Pink Pepper 25 by Kayali Fragran...   \n",
       "1098  Dia Woman by Amouage is a Floral fragrance for...   \n",
       "52    Sand Desert At Sunset by Zara is a Oriental Sp...   \n",
       "\n",
       "                                                Accords  \\\n",
       "2858  amber (100%); sweet (91.6003%); lactonic (80.4...   \n",
       "2347  green (100%); aromatic (69.7843%); fresh spicy...   \n",
       "2027  rose (100%); warm spicy (83.0303%); soft spicy...   \n",
       "1098  floral (100%); fresh (99.8436%); aldehydic (88...   \n",
       "52    warm spicy (100%); cinnamon (76.7838%); amber ...   \n",
       "\n",
       "                                               TopNotes  \\\n",
       "2858  ['Milk', 'Marshmallow', 'Tonka Bean', 'Benzoin...   \n",
       "2347        ['Mint', 'Grapefruit', 'Bergamot', 'Anise']   \n",
       "2027  ['Pink Pepper', 'Saffron', 'Bergamot', 'Royal ...   \n",
       "1098  ['Aldehydes', 'Cyclamen', 'Violet Leaf', 'Sage...   \n",
       "52                                ['Orange', 'Incense']   \n",
       "\n",
       "                                            MiddleNotes  \\\n",
       "2858                                                 []   \n",
       "2347       ['Green Notes', 'Cassis', 'Rose', 'Hedione']   \n",
       "2027  ['Bulgarian Rose', 'May Rose', 'Vanilla Orchid...   \n",
       "1098  ['Peony', 'Turkish Rose Oil', 'Orris Root', 'O...   \n",
       "52              ['Cinnamon', 'Tonka Bean', 'Chocolate']   \n",
       "\n",
       "                                              BaseNotes  similarity  \n",
       "2858                                                 []    0.105903  \n",
       "2347                                     ['White Musk']    0.086034  \n",
       "2027       ['Amber', 'Sandalwood', 'Patchouli', 'Musk']    0.077753  \n",
       "1098  ['White Musk', 'Heliotrope', 'Sandalwood', 'In...    0.075209  \n",
       "52                                    ['Iris', 'Cedar']    0.074070  "
      ]
     },
     "execution_count": 772,
     "metadata": {},
     "output_type": "execute_result"
    }
   ],
   "source": [
    "print(\"Top perfume recommendations:\")\n",
    "recommended_perfumes"
   ]
  },
  {
   "cell_type": "markdown",
   "id": "0fcd5dea",
   "metadata": {},
   "source": [
    "#### loading the prelearned model"
   ]
  },
  {
   "cell_type": "code",
   "execution_count": 773,
   "id": "7ffe6198",
   "metadata": {},
   "outputs": [],
   "source": [
    "#load the model\n",
    "cwd = os.getcwd()\n",
    "\n",
    "project_root = os.path.abspath(os.path.join(cwd, '..'))\n",
    "model_path = os.path.join(project_root, 'backend', 'recommend_models', 'transformer_model')\n",
    "embeddings_path = os.path.join(project_root, 'backend', 'recommend_models', 'embeddings.npy')"
   ]
  },
  {
   "cell_type": "markdown",
   "id": "fece9f60",
   "metadata": {},
   "source": [
    "### sentence transformer"
   ]
  },
  {
   "cell_type": "code",
   "execution_count": 774,
   "id": "21921d49",
   "metadata": {},
   "outputs": [],
   "source": [
    "model = SentenceTransformer(model_path)\n",
    "embeddings = np.load(embeddings_path)\n",
    "\n",
    "user_embedding = model.encode(user_prompt, convert_to_tensor=True)\n",
    "\n",
    "cos_scores = util.cos_sim(user_embedding, embeddings).cpu().numpy().flatten()\n",
    "top_indices = cos_scores.argsort()[::-1][:5]"
   ]
  },
  {
   "cell_type": "code",
   "execution_count": 775,
   "id": "1fe26595",
   "metadata": {},
   "outputs": [
    {
     "data": {
      "text/html": [
       "<div>\n",
       "<style scoped>\n",
       "    .dataframe tbody tr th:only-of-type {\n",
       "        vertical-align: middle;\n",
       "    }\n",
       "\n",
       "    .dataframe tbody tr th {\n",
       "        vertical-align: top;\n",
       "    }\n",
       "\n",
       "    .dataframe thead th {\n",
       "        text-align: right;\n",
       "    }\n",
       "</style>\n",
       "<table border=\"1\" class=\"dataframe\">\n",
       "  <thead>\n",
       "    <tr style=\"text-align: right;\">\n",
       "      <th></th>\n",
       "      <th>Name</th>\n",
       "      <th>Designer</th>\n",
       "      <th>Description</th>\n",
       "      <th>Accords</th>\n",
       "      <th>TopNotes</th>\n",
       "      <th>MiddleNotes</th>\n",
       "      <th>BaseNotes</th>\n",
       "      <th>similarity</th>\n",
       "    </tr>\n",
       "  </thead>\n",
       "  <tbody>\n",
       "    <tr>\n",
       "      <th>1292</th>\n",
       "      <td>Trianon Palace Versailles</td>\n",
       "      <td>Maison Francis Kurkdjian</td>\n",
       "      <td></td>\n",
       "      <td>floral (100%); woody (92.2222%)</td>\n",
       "      <td>['Floral Notes', 'Woodsy Notes']</td>\n",
       "      <td>[]</td>\n",
       "      <td>[]</td>\n",
       "      <td>0.037491</td>\n",
       "    </tr>\n",
       "    <tr>\n",
       "      <th>2181</th>\n",
       "      <td>The Tragedy of Lord George</td>\n",
       "      <td>Penhaligon's</td>\n",
       "      <td></td>\n",
       "      <td>woody (100%); amber (77.6319%); vanilla (52.50...</td>\n",
       "      <td>['Woodsy Notes', 'Brandy', 'Tonka Bean', 'Amber']</td>\n",
       "      <td>[]</td>\n",
       "      <td>[]</td>\n",
       "      <td>0.015730</td>\n",
       "    </tr>\n",
       "    <tr>\n",
       "      <th>1163</th>\n",
       "      <td>Lady Million Royal</td>\n",
       "      <td>Rabanne</td>\n",
       "      <td></td>\n",
       "      <td>woody (100%); white floral (84.9506%); fruity ...</td>\n",
       "      <td>['Pomegranate']</td>\n",
       "      <td>['White Flowers']</td>\n",
       "      <td>['Woodsy Notes']</td>\n",
       "      <td>0.017597</td>\n",
       "    </tr>\n",
       "    <tr>\n",
       "      <th>998</th>\n",
       "      <td>Let s Settle This Argument Like Adults In The ...</td>\n",
       "      <td>By Kilian</td>\n",
       "      <td></td>\n",
       "      <td>woody (100%); powdery (70.7588%); fruity (62.3...</td>\n",
       "      <td>['Bergamot', 'Lemon']</td>\n",
       "      <td>['Fig Nectar', 'Green Notes', 'Hedione']</td>\n",
       "      <td>['Vanilla', 'Sandalwood', 'Cedar', 'Orris', 'A...</td>\n",
       "      <td>0.013560</td>\n",
       "    </tr>\n",
       "    <tr>\n",
       "      <th>2967</th>\n",
       "      <td>Shine</td>\n",
       "      <td>Ajmal</td>\n",
       "      <td></td>\n",
       "      <td>woody (100%); fruity (95.7116%); powdery (69.1...</td>\n",
       "      <td>['Strawberry', 'Pomegranate']</td>\n",
       "      <td>['Peony', 'Lily-of-the-Valley']</td>\n",
       "      <td>['Powdery Notes', 'Woody Notes']</td>\n",
       "      <td>0.026302</td>\n",
       "    </tr>\n",
       "  </tbody>\n",
       "</table>\n",
       "</div>"
      ],
      "text/plain": [
       "                                                   Name  \\\n",
       "1292                          Trianon Palace Versailles   \n",
       "2181                         The Tragedy of Lord George   \n",
       "1163                                 Lady Million Royal   \n",
       "998   Let s Settle This Argument Like Adults In The ...   \n",
       "2967                                              Shine   \n",
       "\n",
       "                      Designer Description  \\\n",
       "1292  Maison Francis Kurkdjian               \n",
       "2181              Penhaligon's               \n",
       "1163                   Rabanne               \n",
       "998                  By Kilian               \n",
       "2967                     Ajmal               \n",
       "\n",
       "                                                Accords  \\\n",
       "1292                    floral (100%); woody (92.2222%)   \n",
       "2181  woody (100%); amber (77.6319%); vanilla (52.50...   \n",
       "1163  woody (100%); white floral (84.9506%); fruity ...   \n",
       "998   woody (100%); powdery (70.7588%); fruity (62.3...   \n",
       "2967  woody (100%); fruity (95.7116%); powdery (69.1...   \n",
       "\n",
       "                                               TopNotes  \\\n",
       "1292                   ['Floral Notes', 'Woodsy Notes']   \n",
       "2181  ['Woodsy Notes', 'Brandy', 'Tonka Bean', 'Amber']   \n",
       "1163                                    ['Pomegranate']   \n",
       "998                               ['Bergamot', 'Lemon']   \n",
       "2967                      ['Strawberry', 'Pomegranate']   \n",
       "\n",
       "                                   MiddleNotes  \\\n",
       "1292                                        []   \n",
       "2181                                        []   \n",
       "1163                         ['White Flowers']   \n",
       "998   ['Fig Nectar', 'Green Notes', 'Hedione']   \n",
       "2967           ['Peony', 'Lily-of-the-Valley']   \n",
       "\n",
       "                                              BaseNotes  similarity  \n",
       "1292                                                 []    0.037491  \n",
       "2181                                                 []    0.015730  \n",
       "1163                                   ['Woodsy Notes']    0.017597  \n",
       "998   ['Vanilla', 'Sandalwood', 'Cedar', 'Orris', 'A...    0.013560  \n",
       "2967                   ['Powdery Notes', 'Woody Notes']    0.026302  "
      ]
     },
     "execution_count": 775,
     "metadata": {},
     "output_type": "execute_result"
    }
   ],
   "source": [
    "recommended_perfumes = df.iloc[top_indices][['Name', 'Designer', 'Description', 'Accords', 'TopNotes', 'MiddleNotes', 'BaseNotes']]\n",
    "recommended_perfumes['similarity'] = cos_similarities[top_indices]\n",
    "\n",
    "# Display\n",
    "recommended_perfumes"
   ]
  },
  {
   "cell_type": "markdown",
   "id": "93c35c83",
   "metadata": {},
   "source": [
    "## accords"
   ]
  },
  {
   "cell_type": "markdown",
   "id": "c3535100",
   "metadata": {},
   "source": [
    "### extracting accords from dataframe"
   ]
  },
  {
   "cell_type": "code",
   "execution_count": 776,
   "id": "65c1de12",
   "metadata": {},
   "outputs": [],
   "source": [
    "unique_accords = set()\n",
    "\n",
    "for row in df['Accords'].dropna():\n",
    "    matches = re.findall(r'([\\w\\s\\-]+)\\s*\\(\\d', row)\n",
    "    unique_accords.update(name.strip() for name in matches)\n",
    "\n",
    "unique_accords_list = list(unique_accords)"
   ]
  },
  {
   "cell_type": "markdown",
   "id": "4aca3004",
   "metadata": {},
   "source": [
    "#### matching accords to given prompt by user"
   ]
  },
  {
   "cell_type": "code",
   "execution_count": 777,
   "id": "8fd0539d",
   "metadata": {},
   "outputs": [],
   "source": [
    "prompt_words = re.findall(r'\\b\\w+\\b', user_prompt.lower())\n",
    "\n",
    "matched_accords = set()\n",
    "threshold = 80 # adjusted manually, determines sensitivity to finding matching words\n",
    "\n",
    "for word in prompt_words:\n",
    "    match, score, _ = process.extractOne(word, unique_accords_list, scorer=fuzz.partial_ratio)\n",
    "    if score >= threshold:\n",
    "        matched_accords.add(match)\n",
    "\n",
    "\n",
    "def extract_accord_scores(accords_string, matched_accords):\n",
    "    scores = {}\n",
    "    for match in matched_accords:\n",
    "        pattern = re.compile(rf'{re.escape(match)}\\s*\\(([\\d\\.]+)%\\)', re.IGNORECASE)\n",
    "        result = pattern.search(accords_string)\n",
    "        if result:\n",
    "            scores[match] = float(result.group(1))\n",
    "    return scores"
   ]
  },
  {
   "cell_type": "markdown",
   "id": "1bbd8f36",
   "metadata": {},
   "source": [
    "#### content based but with accords"
   ]
  },
  {
   "cell_type": "code",
   "execution_count": 778,
   "id": "904ca5c5",
   "metadata": {},
   "outputs": [],
   "source": [
    "df_content = df"
   ]
  },
  {
   "cell_type": "code",
   "execution_count": 779,
   "id": "14373fd3",
   "metadata": {},
   "outputs": [],
   "source": [
    "df_content['matched_accord_scores'] = df_content['Accords'].apply(lambda x: extract_accord_scores(str(x), matched_accords))\n",
    "df_content['accord_match_score'] = df_content['matched_accord_scores'].apply(lambda d: sum(d.values()) if d else 0)"
   ]
  },
  {
   "cell_type": "code",
   "execution_count": 780,
   "id": "f3dbd0ea",
   "metadata": {},
   "outputs": [],
   "source": [
    "vectorizer = TfidfVectorizer(stop_words='english')\n",
    "tfidf_matrix = vectorizer.fit_transform(df['text_features'])\n",
    "user_vec = vectorizer.transform([user_prompt])\n",
    "cos_similarities = cosine_similarity(user_vec, tfidf_matrix).flatten()\n",
    "df_content['similarity'] = cos_similarities"
   ]
  },
  {
   "cell_type": "code",
   "execution_count": 781,
   "id": "76f99827",
   "metadata": {},
   "outputs": [
    {
     "data": {
      "text/html": [
       "<div>\n",
       "<style scoped>\n",
       "    .dataframe tbody tr th:only-of-type {\n",
       "        vertical-align: middle;\n",
       "    }\n",
       "\n",
       "    .dataframe tbody tr th {\n",
       "        vertical-align: top;\n",
       "    }\n",
       "\n",
       "    .dataframe thead th {\n",
       "        text-align: right;\n",
       "    }\n",
       "</style>\n",
       "<table border=\"1\" class=\"dataframe\">\n",
       "  <thead>\n",
       "    <tr style=\"text-align: right;\">\n",
       "      <th></th>\n",
       "      <th>Name</th>\n",
       "      <th>Designer</th>\n",
       "      <th>similarity</th>\n",
       "      <th>accord_match_score</th>\n",
       "      <th>final_score</th>\n",
       "    </tr>\n",
       "  </thead>\n",
       "  <tbody>\n",
       "    <tr>\n",
       "      <th>2858</th>\n",
       "      <td>Sweet Milk</td>\n",
       "      <td>The Dua Brand</td>\n",
       "      <td>0.105903</td>\n",
       "      <td>106.6668</td>\n",
       "      <td>0.807101</td>\n",
       "    </tr>\n",
       "    <tr>\n",
       "      <th>1768</th>\n",
       "      <td>Mr Burberry Eau de Parfum</td>\n",
       "      <td>Burberry</td>\n",
       "      <td>0.069742</td>\n",
       "      <td>181.3343</td>\n",
       "      <td>0.643053</td>\n",
       "    </tr>\n",
       "    <tr>\n",
       "      <th>2347</th>\n",
       "      <td>You Or Someone Like You</td>\n",
       "      <td>Etat Libre d'Orange</td>\n",
       "      <td>0.086034</td>\n",
       "      <td>69.7843</td>\n",
       "      <td>0.638733</td>\n",
       "    </tr>\n",
       "    <tr>\n",
       "      <th>1098</th>\n",
       "      <td>Dia Woman</td>\n",
       "      <td>Amouage</td>\n",
       "      <td>0.075209</td>\n",
       "      <td>111.4076</td>\n",
       "      <td>0.608979</td>\n",
       "    </tr>\n",
       "    <tr>\n",
       "      <th>2027</th>\n",
       "      <td>Sweet Diamond Pink Pepper 25</td>\n",
       "      <td>Kayali Fragrances</td>\n",
       "      <td>0.077753</td>\n",
       "      <td>65.9050</td>\n",
       "      <td>0.580107</td>\n",
       "    </tr>\n",
       "  </tbody>\n",
       "</table>\n",
       "</div>"
      ],
      "text/plain": [
       "                              Name             Designer  similarity  \\\n",
       "2858                    Sweet Milk        The Dua Brand    0.105903   \n",
       "1768     Mr Burberry Eau de Parfum             Burberry    0.069742   \n",
       "2347       You Or Someone Like You  Etat Libre d'Orange    0.086034   \n",
       "1098                     Dia Woman              Amouage    0.075209   \n",
       "2027  Sweet Diamond Pink Pepper 25    Kayali Fragrances    0.077753   \n",
       "\n",
       "      accord_match_score  final_score  \n",
       "2858            106.6668     0.807101  \n",
       "1768            181.3343     0.643053  \n",
       "2347             69.7843     0.638733  \n",
       "1098            111.4076     0.608979  \n",
       "2027             65.9050     0.580107  "
      ]
     },
     "execution_count": 781,
     "metadata": {},
     "output_type": "execute_result"
    }
   ],
   "source": [
    "scaler = MinMaxScaler()\n",
    "\n",
    "df_content['similarity_norm'] = scaler.fit_transform(df_content[['similarity']])\n",
    "df_content['accord_score_norm'] = scaler.fit_transform(df_content[['accord_match_score']])\n",
    "\n",
    "alpha = 0.7 #adjustable to match what is more important\n",
    " \n",
    "df['final_score'] = alpha * df_content['similarity_norm'] + (1 - alpha) * df_content['accord_score_norm']\n",
    "top_recommendations = df_content.sort_values(by='final_score', ascending=False).head(5)\n",
    "top_recommendations[['Name', 'Designer', 'similarity', 'accord_match_score', 'final_score']]"
   ]
  },
  {
   "cell_type": "markdown",
   "id": "55039fe9",
   "metadata": {},
   "source": [
    "#### sentence transformer but with accords"
   ]
  },
  {
   "cell_type": "code",
   "execution_count": 782,
   "id": "f29b7b5c",
   "metadata": {},
   "outputs": [],
   "source": [
    "df_transformer = df"
   ]
  },
  {
   "cell_type": "code",
   "execution_count": 783,
   "id": "c64586d1",
   "metadata": {},
   "outputs": [],
   "source": [
    "model = SentenceTransformer(model_path)\n",
    "embeddings = np.load(embeddings_path)\n",
    "\n",
    "user_embedding = model.encode(user_prompt, convert_to_tensor=True)\n",
    "\n",
    "cos_scores = util.cos_sim(user_embedding, embeddings).cpu().numpy().flatten()\n",
    "top_indices = cos_scores.argsort()[::-1][:5]\n",
    "\n",
    "df_transformer['similarity'] = cos_scores"
   ]
  },
  {
   "cell_type": "code",
   "execution_count": 784,
   "id": "0efb4c2d",
   "metadata": {},
   "outputs": [
    {
     "data": {
      "text/html": [
       "<div>\n",
       "<style scoped>\n",
       "    .dataframe tbody tr th:only-of-type {\n",
       "        vertical-align: middle;\n",
       "    }\n",
       "\n",
       "    .dataframe tbody tr th {\n",
       "        vertical-align: top;\n",
       "    }\n",
       "\n",
       "    .dataframe thead th {\n",
       "        text-align: right;\n",
       "    }\n",
       "</style>\n",
       "<table border=\"1\" class=\"dataframe\">\n",
       "  <thead>\n",
       "    <tr style=\"text-align: right;\">\n",
       "      <th></th>\n",
       "      <th>Name</th>\n",
       "      <th>Designer</th>\n",
       "      <th>similarity</th>\n",
       "      <th>accord_match_score</th>\n",
       "      <th>final_score</th>\n",
       "    </tr>\n",
       "  </thead>\n",
       "  <tbody>\n",
       "    <tr>\n",
       "      <th>1292</th>\n",
       "      <td>Trianon Palace Versailles</td>\n",
       "      <td>Maison Francis Kurkdjian</td>\n",
       "      <td>0.532245</td>\n",
       "      <td>92.2222</td>\n",
       "      <td>0.792598</td>\n",
       "    </tr>\n",
       "    <tr>\n",
       "      <th>2181</th>\n",
       "      <td>The Tragedy of Lord George</td>\n",
       "      <td>Penhaligon's</td>\n",
       "      <td>0.524770</td>\n",
       "      <td>100.0000</td>\n",
       "      <td>0.790447</td>\n",
       "    </tr>\n",
       "    <tr>\n",
       "      <th>1678</th>\n",
       "      <td>Royal Mayfair 2024</td>\n",
       "      <td>Creed</td>\n",
       "      <td>0.378687</td>\n",
       "      <td>272.2510</td>\n",
       "      <td>0.768742</td>\n",
       "    </tr>\n",
       "    <tr>\n",
       "      <th>1471</th>\n",
       "      <td>Hermessence Vetiver Tonka</td>\n",
       "      <td>Hermès</td>\n",
       "      <td>0.389861</td>\n",
       "      <td>236.7209</td>\n",
       "      <td>0.747957</td>\n",
       "    </tr>\n",
       "    <tr>\n",
       "      <th>1595</th>\n",
       "      <td>Aura Mugler</td>\n",
       "      <td>Mugler</td>\n",
       "      <td>0.455639</td>\n",
       "      <td>144.5255</td>\n",
       "      <td>0.743036</td>\n",
       "    </tr>\n",
       "  </tbody>\n",
       "</table>\n",
       "</div>"
      ],
      "text/plain": [
       "                            Name                  Designer  similarity  \\\n",
       "1292   Trianon Palace Versailles  Maison Francis Kurkdjian    0.532245   \n",
       "2181  The Tragedy of Lord George              Penhaligon's    0.524770   \n",
       "1678          Royal Mayfair 2024                     Creed    0.378687   \n",
       "1471   Hermessence Vetiver Tonka                    Hermès    0.389861   \n",
       "1595                 Aura Mugler                    Mugler    0.455639   \n",
       "\n",
       "      accord_match_score  final_score  \n",
       "1292             92.2222     0.792598  \n",
       "2181            100.0000     0.790447  \n",
       "1678            272.2510     0.768742  \n",
       "1471            236.7209     0.747957  \n",
       "1595            144.5255     0.743036  "
      ]
     },
     "execution_count": 784,
     "metadata": {},
     "output_type": "execute_result"
    }
   ],
   "source": [
    "scaler = MinMaxScaler()\n",
    "\n",
    "df_transformer['similarity_norm'] = scaler.fit_transform(df_transformer[['similarity']])\n",
    "df_transformer['accord_score_norm'] = scaler.fit_transform(df_transformer[['accord_match_score']])\n",
    "\n",
    "alpha = 0.7 #adjustable to match what is more important\n",
    " \n",
    "df_transformer['final_score'] = alpha * df_transformer['similarity_norm'] + (1 - alpha) * df_transformer['accord_score_norm']\n",
    "top_recommendations_transformers = df_transformer.sort_values(by='final_score', ascending=False).head(5)\n",
    "top_recommendations_transformers[['Name', 'Designer', 'similarity', 'accord_match_score', 'final_score']]"
   ]
  },
  {
   "cell_type": "markdown",
   "id": "d9b9efae",
   "metadata": {},
   "source": [
    "## negative use of words"
   ]
  },
  {
   "cell_type": "code",
   "execution_count": 785,
   "id": "97590ea2",
   "metadata": {},
   "outputs": [
    {
     "name": "stdout",
     "output_type": "stream",
     "text": [
      "2025-05-24 14:03:39,259 INFO sqlalchemy.engine.Engine BEGIN (implicit)\n",
      "2025-05-24 14:03:39,261 INFO sqlalchemy.engine.Engine DESCRIBE `michals2`.`Perfumes_v2`\n",
      "2025-05-24 14:03:39,262 INFO sqlalchemy.engine.Engine [raw sql] {}\n",
      "2025-05-24 14:03:39,290 INFO sqlalchemy.engine.Engine SHOW FULL TABLES FROM `michals2`\n",
      "2025-05-24 14:03:39,291 INFO sqlalchemy.engine.Engine [raw sql] {}\n",
      "2025-05-24 14:03:39,317 INFO sqlalchemy.engine.Engine SHOW FULL TABLES FROM `michals2`\n",
      "2025-05-24 14:03:39,318 INFO sqlalchemy.engine.Engine [raw sql] {}\n",
      "2025-05-24 14:03:39,341 INFO sqlalchemy.engine.Engine SHOW CREATE TABLE `Perfumes_v2`\n",
      "2025-05-24 14:03:39,343 INFO sqlalchemy.engine.Engine [raw sql] {}\n",
      "2025-05-24 14:03:39,370 INFO sqlalchemy.engine.Engine SELECT `Perfumes_v2`.id, `Perfumes_v2`.`Name`, `Perfumes_v2`.`Designer`, `Perfumes_v2`.`URL`, `Perfumes_v2`.`Gender`, `Perfumes_v2`.`Accords`, `Perfumes_v2`.`Description`, `Perfumes_v2`.`ProsAndCons`, `Perfumes_v2`.`TopNotes`, `Perfumes_v2`.`MiddleNotes`, `Perfumes_v2`.`BaseNotes`, `Perfumes_v2`.`Longevity`, `Perfumes_v2`.`Sillage` \n",
      "FROM `Perfumes_v2`\n",
      "2025-05-24 14:03:39,371 INFO sqlalchemy.engine.Engine [generated in 0.00157s] {}\n",
      "2025-05-24 14:03:40,004 INFO sqlalchemy.engine.Engine COMMIT\n"
     ]
    }
   ],
   "source": [
    "table_name = 'Perfumes_v2'\n",
    "\n",
    "df = pd.read_sql_table(table_name, con=engine)\n",
    "\n",
    "data_list = df.to_dict(orient='records')  # Each row as a dictionary in a list\n",
    "\n",
    "df['text_features'] = df['Description'].fillna('') + ' ' + df['Accords'].fillna('') + ' ' + df['Designer'].fillna('') + ' ' + df['TopNotes'].fillna('') + ' ' + df['MiddleNotes'].fillna('') + ' ' + df['BaseNotes'].fillna('')"
   ]
  },
  {
   "cell_type": "code",
   "execution_count": null,
   "id": "5ae493d4",
   "metadata": {},
   "outputs": [],
   "source": [
    "#without keywords\n",
    "# user_prompt = \"Fresh citrus floral notes are my go-to scents.\"\n",
    "# user_prompt = \"Citrus, lavender, and patchouli always make a great combination.\"\n",
    "# user_prompt = \"Fresh, clean, and powdery notes are ideal for daily wear.\"\n",
    "# user_prompt = \"Woody, earthy scents work well in the fall and winter.\"\n",
    "\n",
    "#with include keywords\n",
    "# user_prompt = \"I really enjoy vanilla, sandalwood, and amber accords.\"\n",
    "# user_prompt = \"I prefer vanilla, musk, and amber in my perfumes.\"\n",
    "# user_prompt = \"Looking for something with fresh, green, and aquatic vibes.\"\n",
    "# user_prompt = \"I love sweet floral combinations and soft musk notes.\"\n",
    "\n",
    "#with exclude keyword\n",
    "# user_prompt = \"I dislike overly sweet, smoky, or synthetic fragrances.\"\n",
    "# user_prompt = \"Avoid strong synthetic and overly spicy notes.\"\n",
    "# user_prompt = \"I don’t like anything fruity or overly sweet.\"\n",
    "# user_prompt = \"Skip powdery and incense-based fragrances.\"\n",
    "\n",
    "#with mix both exclude and include\n",
    "# user_prompt = \"I love woody and musky tones but avoid anything too fruity or aquatic.\"\n",
    "# user_prompt = \"I enjoy fresh and citrusy scents, but dislike woody and leathery notes.\"\n",
    "user_prompt = \"Looking for green and floral perfumes, without anything too musky or heavy.\"\n",
    "# user_prompt = \"Prefer amber and vanilla accords but avoid anything synthetic or spicy.\"\n",
    "\n",
    "#absurdly long prompt:\n",
    "# user_prompt = \"Explore a world of olfactory elegance and complexity with a collection of perfumes that embody the artistry of scent composition. Each fragrance tells a unique story through its accords, blending notes in harmonious symphonies that evoke emotions and memories. Imagine a perfume where fresh citrus top notes dance delicately with vibrant bergamot and zesty lemon, leading into a heart of lush jasmine and romantic rose, underscored by warm base notes of sensual musk and velvety vanilla. Picture another fragrance, where crisp green apple mingles with spicy cinnamon and earthy patchouli, creating an aura of mystery and allure. Step into a realm where each perfume is meticulously crafted, balancing floral, fruity, woody, and oriental elements to create a sensory journey. Envision a scent that opens with a burst of Mediterranean herbs, intertwining with aromatic lavender and intoxicating tobacco, culminating in a rich base of amber and leather, reminiscent of an evening by the fireplace. Picture yet another composition where sparkling grapefruit intertwines with aquatic marine notes, complemented by a bouquet of water lilies and lotus flowers, finishing with a hint of warm sandalwood and vetiver. Delve deeper into the nuances of perfumery, where accords like oud and saffron lend an exotic touch, while ambergris and tonka bean add depth and sophistication. Imagine a fragrance inspired by a lush garden, with dewy green notes, jasmine blossoms, and a touch of sweet honey, evoking the tranquility of nature in full bloom. Consider the allure of a perfume that blends smoky incense with opulent spices, creating an aura of ceremonial mystique and spiritual reverence In this collection, each perfume is not just a blend of scents but a narrative woven from the finest essences sourced from around the world. Experience the contrast of light and shadow, freshness and warmth, purity and sensuality in every bottle. Visualize the craftsmanship behind each fragrance, from the selection of raw materials to the meticulous blending process, resulting in a masterpiece that transcends time and trends. Immerse yourself in the world of perfumery, where tradition meets innovation, and each scent is an invitation to explore the realms of beauty and desire. Discover your signature fragrance among these olfactory masterpieces, each one a testament to the art of perfumery and the power of scent to captivate, seduce, and inspire\""
   ]
  },
  {
   "cell_type": "markdown",
   "id": "e73c6cb8",
   "metadata": {},
   "source": [
    "take care of user prompt matched accords"
   ]
  },
  {
   "cell_type": "code",
   "execution_count": 1050,
   "id": "6d449b0f",
   "metadata": {},
   "outputs": [],
   "source": [
    "def match_accords(prompt, threshold = 80):\n",
    "    prompt_words = re.findall(r'\\b\\w+\\b', prompt.lower())\n",
    "\n",
    "    matched_accords = set()\n",
    "\n",
    "    for word in prompt_words:\n",
    "        match, score, _ = process.extractOne(word, unique_accords_list, scorer=fuzz.partial_ratio)\n",
    "        if score >= threshold:\n",
    "            matched_accords.add(match)\n",
    "\n",
    "    return matched_accords\n",
    "\n",
    "def extract_accord_scores(accords_string, matched_accords):\n",
    "    scores = {}\n",
    "    for match in matched_accords:\n",
    "        pattern = re.compile(rf'{re.escape(match)}\\s*\\(([\\d\\.]+)%\\)', re.IGNORECASE)\n",
    "        result = pattern.search(accords_string)\n",
    "        if result:\n",
    "            scores[match] = float(result.group(1))\n",
    "    return scores"
   ]
  },
  {
   "cell_type": "markdown",
   "id": "c850ed9a",
   "metadata": {},
   "source": [
    "#### keywords"
   ]
  },
  {
   "cell_type": "code",
   "execution_count": 1051,
   "id": "90317dc3",
   "metadata": {},
   "outputs": [],
   "source": [
    "INCLUDE_KEYWORDS = {\n",
    "    'like', 'love', 'include', 'want', 'with', 'prefer', 'enjoy', 'looking',\n",
    "    'need', 'interested', 'favor', 'wish', 'choose', 'require', 'add', 'pick',\n",
    "    'select', 'hope', 'desire', 'accept', 'appreciate', 'keen', 'fond', 'favoring',\n",
    "    'crave', 'seek', 'inclined', 'opt', 'request'\n",
    "}\n",
    "EXCLUDE_KEYWORDS = {\n",
    "    'not', 'exclude', 'avoid', 'without', 'nothing', 'skip', 'dislike',\n",
    "    'never', 'none', 'refuse', 'reject', 'remove', 'deny', 'lack',\n",
    "    'bypass', 'ban', 'prohibit', 'decline', 'omit', 'except',\n",
    "    'nope', 'nix', 'hate', 'forbid'\n",
    "}\n",
    "STOP_WORDS = {'i', 'me', 'my', 'myself', 'we', 'our', 'ours', 'ourselves', 'you', 'your', 'yours',\n",
    " 'yourself', 'yourselves', 'he', 'him', 'his', 'himself', 'she', 'her', 'hers',\n",
    " 'herself', 'it', 'its', 'itself', 'they', 'them', 'their', 'theirs', 'themselves',\n",
    " 'what', 'which', 'who', 'whom', 'this', 'that', 'these', 'those', 'am', 'is', 'are',\n",
    " 'was', 'were', 'be', 'been', 'being', 'have', 'has', 'had', 'having', 'do', 'does',\n",
    " 'did', 'doing', 'a', 'an', 'the', 'and', 'but', 'if', 'or', 'because', 'as', 'until',\n",
    " 'while', 'of', 'at', 'by', 'for', 'with', 'about', 'against', 'between', 'into',\n",
    " 'through', 'during', 'before', 'after', 'above', 'below', 'to', 'from', 'up', 'down',\n",
    " 'in', 'out', 'on', 'off', 'over', 'under', 'again', 'further', 'then', 'once', 'here',\n",
    " 'there', 'when', 'where', 'why', 'how', 'all', 'any', 'both', 'each', 'few', 'more',\n",
    " 'most', 'other', 'some', 'such', 'no', 'nor', 'not', 'only', 'own', 'same', 'so',\n",
    " 'than', 'too', 'very', 'can', 'will', 'just', 'don', 'should', 'now'}"
   ]
  },
  {
   "cell_type": "code",
   "execution_count": 1052,
   "id": "40251bcf",
   "metadata": {},
   "outputs": [],
   "source": [
    "def split_prompt_by_keywords(prompt):\n",
    "    prompt_lower = prompt.lower()\n",
    "\n",
    "    keywords = {word: 'include' for word in INCLUDE_KEYWORDS}\n",
    "    keywords.update({word: 'exclude' for word in EXCLUDE_KEYWORDS})\n",
    "\n",
    "    tokens = re.findall(r'\\b\\w+\\b|,', prompt_lower)\n",
    "\n",
    "    included = set()\n",
    "    excluded = set()\n",
    "\n",
    "    current_mode = None\n",
    "\n",
    "    for token in tokens:\n",
    "        if token in keywords:\n",
    "            current_mode = keywords[token]\n",
    "        elif token == ',':\n",
    "            continue\n",
    "        else:\n",
    "            if current_mode == 'include':\n",
    "                included.add(token)\n",
    "            elif current_mode == 'exclude':\n",
    "                excluded.add(token)\n",
    "            else:\n",
    "                pass\n",
    "\n",
    "    if not included and not excluded:\n",
    "        all_words = [w for w in tokens if w != ',']\n",
    "        included.update(all_words)\n",
    "\n",
    "    included = {word for word in included if word not in STOP_WORDS}\n",
    "    excluded = {word for word in excluded if word not in STOP_WORDS}\n",
    "\n",
    "    return included, excluded"
   ]
  },
  {
   "cell_type": "code",
   "execution_count": 1053,
   "id": "f916bb85",
   "metadata": {},
   "outputs": [],
   "source": [
    "include_words, exclude_words = split_prompt_by_keywords(user_prompt)"
   ]
  },
  {
   "cell_type": "code",
   "execution_count": 1054,
   "id": "bcfe10a2",
   "metadata": {},
   "outputs": [
    {
     "data": {
      "text/plain": [
       "{'musky', 'tones', 'woody'}"
      ]
     },
     "execution_count": 1054,
     "metadata": {},
     "output_type": "execute_result"
    }
   ],
   "source": [
    "include_words"
   ]
  },
  {
   "cell_type": "code",
   "execution_count": 1055,
   "id": "760974da",
   "metadata": {},
   "outputs": [
    {
     "data": {
      "text/plain": [
       "{'anything', 'aquatic', 'fruity'}"
      ]
     },
     "execution_count": 1055,
     "metadata": {},
     "output_type": "execute_result"
    }
   ],
   "source": [
    "exclude_words"
   ]
  },
  {
   "cell_type": "markdown",
   "id": "02be9d4c",
   "metadata": {},
   "source": [
    "create prompts with associated liknage to user liking based on user prompt"
   ]
  },
  {
   "cell_type": "code",
   "execution_count": 1056,
   "id": "d25a8263",
   "metadata": {},
   "outputs": [],
   "source": [
    "include_prompt = ' '.join(map(str, include_words))\n",
    "exclude_prompt = ' '.join(map(str, exclude_words))"
   ]
  },
  {
   "cell_type": "code",
   "execution_count": 1057,
   "id": "e0b62967",
   "metadata": {},
   "outputs": [],
   "source": [
    "include_matched = match_accords(include_prompt)\n",
    "exclude_matched = match_accords(exclude_prompt)"
   ]
  },
  {
   "cell_type": "markdown",
   "id": "94dc23e9",
   "metadata": {},
   "source": [
    "#### add accord columns"
   ]
  },
  {
   "cell_type": "code",
   "execution_count": 1058,
   "id": "da221318",
   "metadata": {},
   "outputs": [],
   "source": [
    "df['matched_include'] = df['Accords'].apply(lambda x: extract_accord_scores(str(x), include_matched))\n",
    "df['accord_score_include'] = df['matched_include'].apply(lambda d: sum(d.values()) if d else 0)\n",
    "\n",
    "df['matched_exclude'] = df['Accords'].apply(lambda x: extract_accord_scores(str(x), exclude_matched))\n",
    "df['accord_score_exclude'] = df['matched_exclude'].apply(lambda d: sum(d.values()) if d else 0)"
   ]
  },
  {
   "cell_type": "markdown",
   "id": "38c9bde0",
   "metadata": {},
   "source": [
    "want"
   ]
  },
  {
   "cell_type": "code",
   "execution_count": 1059,
   "id": "ffb53d0a",
   "metadata": {},
   "outputs": [],
   "source": [
    "model = SentenceTransformer(model_path)\n",
    "embeddings = np.load(embeddings_path)"
   ]
  },
  {
   "cell_type": "code",
   "execution_count": 1060,
   "id": "5fefa3f4",
   "metadata": {},
   "outputs": [],
   "source": [
    "include_embedding = model.encode(include_prompt, convert_to_tensor=True)\n",
    "\n",
    "cos_scores_include = util.cos_sim(include_embedding, embeddings).cpu().numpy().flatten()\n",
    "top_indices_include = cos_scores_include.argsort()[::-1][:5]\n",
    "\n",
    "df['similarity_like'] = cos_scores_include"
   ]
  },
  {
   "cell_type": "code",
   "execution_count": 1061,
   "id": "fcd3a148",
   "metadata": {},
   "outputs": [],
   "source": [
    "scaler = MinMaxScaler()\n",
    "\n",
    "df['similarity_norm_like'] = scaler.fit_transform(df[['similarity_like']])\n",
    "df['accord_score_norm_like'] = scaler.fit_transform(df[['accord_score_include']])\n",
    "\n",
    "alpha = 0.7 #adjustable to match what is more important\n",
    "\n",
    "df['final_score_like'] = alpha * df['similarity_norm_like'] + (1 - alpha) * df['accord_score_norm_like']"
   ]
  },
  {
   "cell_type": "markdown",
   "id": "406a5339",
   "metadata": {},
   "source": [
    "don't want"
   ]
  },
  {
   "cell_type": "code",
   "execution_count": 1062,
   "id": "8d288243",
   "metadata": {},
   "outputs": [],
   "source": [
    "model = SentenceTransformer(model_path)\n",
    "embeddings = np.load(embeddings_path)"
   ]
  },
  {
   "cell_type": "code",
   "execution_count": 1063,
   "id": "9d959da5",
   "metadata": {},
   "outputs": [],
   "source": [
    "exclude_embedding = model.encode(exclude_prompt, convert_to_tensor=True)\n",
    "\n",
    "cos_scores_exclude = util.cos_sim(exclude_embedding, embeddings).cpu().numpy().flatten()\n",
    "top_indices_exclude = cos_scores_exclude.argsort()[::-1][:5]\n",
    "\n",
    "df['similarity_exclude'] = cos_scores_exclude"
   ]
  },
  {
   "cell_type": "code",
   "execution_count": 1064,
   "id": "9ed9a090",
   "metadata": {},
   "outputs": [],
   "source": [
    "scaler = MinMaxScaler()\n",
    "\n",
    "df['similarity_norm_dislike'] = scaler.fit_transform(df[['similarity_exclude']])\n",
    "df['accord_score_norm_dislike'] = scaler.fit_transform(df[['accord_score_exclude']])\n",
    "\n",
    "alpha = 0.7 #adjustable to match what is more important\n",
    "\n",
    "df['final_score_dislike'] = alpha * df['similarity_norm_dislike'] + (1 - alpha) * df['accord_score_norm_dislike']"
   ]
  },
  {
   "cell_type": "code",
   "execution_count": 1065,
   "id": "b5845982",
   "metadata": {},
   "outputs": [],
   "source": [
    "df['final_score'] = df['final_score_like'] - df['final_score_dislike']"
   ]
  },
  {
   "cell_type": "code",
   "execution_count": 1066,
   "id": "5349917f",
   "metadata": {},
   "outputs": [
    {
     "data": {
      "text/html": [
       "<div>\n",
       "<style scoped>\n",
       "    .dataframe tbody tr th:only-of-type {\n",
       "        vertical-align: middle;\n",
       "    }\n",
       "\n",
       "    .dataframe tbody tr th {\n",
       "        vertical-align: top;\n",
       "    }\n",
       "\n",
       "    .dataframe thead th {\n",
       "        text-align: right;\n",
       "    }\n",
       "</style>\n",
       "<table border=\"1\" class=\"dataframe\">\n",
       "  <thead>\n",
       "    <tr style=\"text-align: right;\">\n",
       "      <th></th>\n",
       "      <th>Name</th>\n",
       "      <th>Designer</th>\n",
       "      <th>similarity_like</th>\n",
       "      <th>similarity_exclude</th>\n",
       "      <th>accord_score_include</th>\n",
       "      <th>accord_score_exclude</th>\n",
       "      <th>final_score</th>\n",
       "    </tr>\n",
       "  </thead>\n",
       "  <tbody>\n",
       "    <tr>\n",
       "      <th>2777</th>\n",
       "      <td>Not A Perfume</td>\n",
       "      <td>Juliette Has A Gun</td>\n",
       "      <td>0.473416</td>\n",
       "      <td>0.151741</td>\n",
       "      <td>118.8231</td>\n",
       "      <td>0.0</td>\n",
       "      <td>0.610287</td>\n",
       "    </tr>\n",
       "    <tr>\n",
       "      <th>2157</th>\n",
       "      <td>Mukhlat Abiyad</td>\n",
       "      <td>Afnan</td>\n",
       "      <td>0.438166</td>\n",
       "      <td>0.206856</td>\n",
       "      <td>186.9769</td>\n",
       "      <td>0.0</td>\n",
       "      <td>0.603408</td>\n",
       "    </tr>\n",
       "    <tr>\n",
       "      <th>2667</th>\n",
       "      <td>Gaiac 10 Tokyo</td>\n",
       "      <td>Le Labo</td>\n",
       "      <td>0.518728</td>\n",
       "      <td>0.280006</td>\n",
       "      <td>170.4579</td>\n",
       "      <td>0.0</td>\n",
       "      <td>0.597830</td>\n",
       "    </tr>\n",
       "    <tr>\n",
       "      <th>2802</th>\n",
       "      <td>White Spirit</td>\n",
       "      <td>Juliette Has A Gun</td>\n",
       "      <td>0.444646</td>\n",
       "      <td>0.186047</td>\n",
       "      <td>156.7696</td>\n",
       "      <td>0.0</td>\n",
       "      <td>0.590497</td>\n",
       "    </tr>\n",
       "    <tr>\n",
       "      <th>2158</th>\n",
       "      <td>Dehn al Oudh Abiyad</td>\n",
       "      <td>Afnan</td>\n",
       "      <td>0.361906</td>\n",
       "      <td>0.178950</td>\n",
       "      <td>181.3332</td>\n",
       "      <td>0.0</td>\n",
       "      <td>0.528983</td>\n",
       "    </tr>\n",
       "  </tbody>\n",
       "</table>\n",
       "</div>"
      ],
      "text/plain": [
       "                     Name            Designer  similarity_like  \\\n",
       "2777        Not A Perfume  Juliette Has A Gun         0.473416   \n",
       "2157       Mukhlat Abiyad               Afnan         0.438166   \n",
       "2667       Gaiac 10 Tokyo             Le Labo         0.518728   \n",
       "2802         White Spirit  Juliette Has A Gun         0.444646   \n",
       "2158  Dehn al Oudh Abiyad               Afnan         0.361906   \n",
       "\n",
       "      similarity_exclude  accord_score_include  accord_score_exclude  \\\n",
       "2777            0.151741              118.8231                   0.0   \n",
       "2157            0.206856              186.9769                   0.0   \n",
       "2667            0.280006              170.4579                   0.0   \n",
       "2802            0.186047              156.7696                   0.0   \n",
       "2158            0.178950              181.3332                   0.0   \n",
       "\n",
       "      final_score  \n",
       "2777     0.610287  \n",
       "2157     0.603408  \n",
       "2667     0.597830  \n",
       "2802     0.590497  \n",
       "2158     0.528983  "
      ]
     },
     "execution_count": 1066,
     "metadata": {},
     "output_type": "execute_result"
    }
   ],
   "source": [
    "top_recommendations_transformers = df.sort_values(by='final_score', ascending=False).head(5)\n",
    "top_recommendations_transformers[['Name', 'Designer', 'similarity_like', 'similarity_exclude', 'accord_score_include', 'accord_score_exclude', 'final_score']]"
   ]
  }
 ],
 "metadata": {
  "kernelspec": {
   "display_name": "venv",
   "language": "python",
   "name": "python3"
  },
  "language_info": {
   "codemirror_mode": {
    "name": "ipython",
    "version": 3
   },
   "file_extension": ".py",
   "mimetype": "text/x-python",
   "name": "python",
   "nbconvert_exporter": "python",
   "pygments_lexer": "ipython3",
   "version": "3.10.11"
  }
 },
 "nbformat": 4,
 "nbformat_minor": 5
}
